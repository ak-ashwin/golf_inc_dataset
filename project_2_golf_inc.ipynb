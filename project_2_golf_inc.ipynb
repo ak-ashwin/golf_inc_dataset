{
 "cells": [
  {
   "cell_type": "markdown",
   "metadata": {
    "pycharm": {}
   },
   "source": [
    "## Problem Statement\n",
    "\n",
    "Par Inc., is a major manufacturer of golf equipment. Management believes that Par’s market share could be increased with the introduction of a cut-resistant, longer-lasting golf ball.\n",
    "\n",
    "1. Formulate and present the rationale for a hypothesis test that par could use to compare the driving distances of the current and new golf balls.\n",
    "2. Analyse the data to provide the hypothesis testing conclusion. What is the p-value for your test? What is your recommendation for Par Inc.?\n",
    "3. Provide descriptive statistical summaries of the data for each model.\n",
    "\n",
    "Additionally:\n",
    "\n",
    "a. Check if shapiro and levene tests work fine for the data.  \n",
    "b. Calculate Pooled Standard Deviation  \n",
    "c. Calculate Sample power  "
   ]
  },
  {
   "cell_type": "code",
   "execution_count": 141,
   "metadata": {
    "pycharm": {
     "is_executing": false
    }
   },
   "outputs": [],
   "source": [
    "#import all libraries required for the project\n",
    "import pandas as pd\n",
    "import pandas_profiling\n",
    "import numpy as np\n",
    "import matplotlib.pyplot as plt\n",
    "import seaborn as sns\n",
    "import statistics as stats\n",
    "from scipy.stats import norm, t, skew, kurtosis, shapiro, levene, ttest_ind, iqr\n",
    "from statsmodels.api import qqplot\n",
    "from statsmodels.stats.api import CompareMeans, DescrStatsW\n",
    "from statsmodels.stats.power import ttest_power, TTestIndPower"
   ]
  },
  {
   "cell_type": "code",
   "execution_count": 142,
   "metadata": {
    "pycharm": {}
   },
   "outputs": [],
   "source": [
    "#We don't have to use plt.draw() everytime to draw plot outputs\n",
    "%matplotlib inline\n"
   ]
  },
  {
   "cell_type": "code",
   "execution_count": 143,
   "metadata": {
    "pycharm": {}
   },
   "outputs": [],
   "source": [
    "#Import the dataset using pandas excel read\n",
    "df=pd.read_excel('SM4-Golf.xls')"
   ]
  },
  {
   "cell_type": "code",
   "execution_count": 144,
   "metadata": {
    "pycharm": {}
   },
   "outputs": [
    {
     "data": {
      "text/html": [
       "<div>\n",
       "<style scoped>\n",
       "    .dataframe tbody tr th:only-of-type {\n",
       "        vertical-align: middle;\n",
       "    }\n",
       "\n",
       "    .dataframe tbody tr th {\n",
       "        vertical-align: top;\n",
       "    }\n",
       "\n",
       "    .dataframe thead th {\n",
       "        text-align: right;\n",
       "    }\n",
       "</style>\n",
       "<table border=\"1\" class=\"dataframe\">\n",
       "  <thead>\n",
       "    <tr style=\"text-align: right;\">\n",
       "      <th></th>\n",
       "      <th>Current</th>\n",
       "      <th>New</th>\n",
       "    </tr>\n",
       "  </thead>\n",
       "  <tbody>\n",
       "    <tr>\n",
       "      <th>0</th>\n",
       "      <td>264</td>\n",
       "      <td>277</td>\n",
       "    </tr>\n",
       "    <tr>\n",
       "      <th>1</th>\n",
       "      <td>261</td>\n",
       "      <td>269</td>\n",
       "    </tr>\n",
       "    <tr>\n",
       "      <th>2</th>\n",
       "      <td>267</td>\n",
       "      <td>263</td>\n",
       "    </tr>\n",
       "    <tr>\n",
       "      <th>3</th>\n",
       "      <td>272</td>\n",
       "      <td>266</td>\n",
       "    </tr>\n",
       "    <tr>\n",
       "      <th>4</th>\n",
       "      <td>258</td>\n",
       "      <td>262</td>\n",
       "    </tr>\n",
       "    <tr>\n",
       "      <th>5</th>\n",
       "      <td>283</td>\n",
       "      <td>251</td>\n",
       "    </tr>\n",
       "    <tr>\n",
       "      <th>6</th>\n",
       "      <td>258</td>\n",
       "      <td>262</td>\n",
       "    </tr>\n",
       "    <tr>\n",
       "      <th>7</th>\n",
       "      <td>266</td>\n",
       "      <td>289</td>\n",
       "    </tr>\n",
       "    <tr>\n",
       "      <th>8</th>\n",
       "      <td>259</td>\n",
       "      <td>286</td>\n",
       "    </tr>\n",
       "    <tr>\n",
       "      <th>9</th>\n",
       "      <td>270</td>\n",
       "      <td>264</td>\n",
       "    </tr>\n",
       "    <tr>\n",
       "      <th>10</th>\n",
       "      <td>263</td>\n",
       "      <td>274</td>\n",
       "    </tr>\n",
       "    <tr>\n",
       "      <th>11</th>\n",
       "      <td>264</td>\n",
       "      <td>266</td>\n",
       "    </tr>\n",
       "    <tr>\n",
       "      <th>12</th>\n",
       "      <td>284</td>\n",
       "      <td>262</td>\n",
       "    </tr>\n",
       "    <tr>\n",
       "      <th>13</th>\n",
       "      <td>263</td>\n",
       "      <td>271</td>\n",
       "    </tr>\n",
       "    <tr>\n",
       "      <th>14</th>\n",
       "      <td>260</td>\n",
       "      <td>260</td>\n",
       "    </tr>\n",
       "    <tr>\n",
       "      <th>15</th>\n",
       "      <td>283</td>\n",
       "      <td>281</td>\n",
       "    </tr>\n",
       "    <tr>\n",
       "      <th>16</th>\n",
       "      <td>255</td>\n",
       "      <td>250</td>\n",
       "    </tr>\n",
       "    <tr>\n",
       "      <th>17</th>\n",
       "      <td>272</td>\n",
       "      <td>263</td>\n",
       "    </tr>\n",
       "    <tr>\n",
       "      <th>18</th>\n",
       "      <td>266</td>\n",
       "      <td>278</td>\n",
       "    </tr>\n",
       "    <tr>\n",
       "      <th>19</th>\n",
       "      <td>268</td>\n",
       "      <td>264</td>\n",
       "    </tr>\n",
       "    <tr>\n",
       "      <th>20</th>\n",
       "      <td>270</td>\n",
       "      <td>272</td>\n",
       "    </tr>\n",
       "    <tr>\n",
       "      <th>21</th>\n",
       "      <td>287</td>\n",
       "      <td>259</td>\n",
       "    </tr>\n",
       "    <tr>\n",
       "      <th>22</th>\n",
       "      <td>289</td>\n",
       "      <td>264</td>\n",
       "    </tr>\n",
       "    <tr>\n",
       "      <th>23</th>\n",
       "      <td>280</td>\n",
       "      <td>280</td>\n",
       "    </tr>\n",
       "    <tr>\n",
       "      <th>24</th>\n",
       "      <td>272</td>\n",
       "      <td>274</td>\n",
       "    </tr>\n",
       "    <tr>\n",
       "      <th>25</th>\n",
       "      <td>275</td>\n",
       "      <td>281</td>\n",
       "    </tr>\n",
       "    <tr>\n",
       "      <th>26</th>\n",
       "      <td>265</td>\n",
       "      <td>276</td>\n",
       "    </tr>\n",
       "    <tr>\n",
       "      <th>27</th>\n",
       "      <td>260</td>\n",
       "      <td>269</td>\n",
       "    </tr>\n",
       "    <tr>\n",
       "      <th>28</th>\n",
       "      <td>278</td>\n",
       "      <td>268</td>\n",
       "    </tr>\n",
       "    <tr>\n",
       "      <th>29</th>\n",
       "      <td>275</td>\n",
       "      <td>262</td>\n",
       "    </tr>\n",
       "    <tr>\n",
       "      <th>30</th>\n",
       "      <td>281</td>\n",
       "      <td>283</td>\n",
       "    </tr>\n",
       "    <tr>\n",
       "      <th>31</th>\n",
       "      <td>274</td>\n",
       "      <td>250</td>\n",
       "    </tr>\n",
       "    <tr>\n",
       "      <th>32</th>\n",
       "      <td>273</td>\n",
       "      <td>253</td>\n",
       "    </tr>\n",
       "    <tr>\n",
       "      <th>33</th>\n",
       "      <td>263</td>\n",
       "      <td>260</td>\n",
       "    </tr>\n",
       "    <tr>\n",
       "      <th>34</th>\n",
       "      <td>275</td>\n",
       "      <td>270</td>\n",
       "    </tr>\n",
       "    <tr>\n",
       "      <th>35</th>\n",
       "      <td>267</td>\n",
       "      <td>263</td>\n",
       "    </tr>\n",
       "    <tr>\n",
       "      <th>36</th>\n",
       "      <td>279</td>\n",
       "      <td>261</td>\n",
       "    </tr>\n",
       "    <tr>\n",
       "      <th>37</th>\n",
       "      <td>274</td>\n",
       "      <td>255</td>\n",
       "    </tr>\n",
       "    <tr>\n",
       "      <th>38</th>\n",
       "      <td>276</td>\n",
       "      <td>263</td>\n",
       "    </tr>\n",
       "    <tr>\n",
       "      <th>39</th>\n",
       "      <td>262</td>\n",
       "      <td>279</td>\n",
       "    </tr>\n",
       "  </tbody>\n",
       "</table>\n",
       "</div>"
      ],
      "text/plain": [
       "    Current  New\n",
       "0       264  277\n",
       "1       261  269\n",
       "2       267  263\n",
       "3       272  266\n",
       "4       258  262\n",
       "5       283  251\n",
       "6       258  262\n",
       "7       266  289\n",
       "8       259  286\n",
       "9       270  264\n",
       "10      263  274\n",
       "11      264  266\n",
       "12      284  262\n",
       "13      263  271\n",
       "14      260  260\n",
       "15      283  281\n",
       "16      255  250\n",
       "17      272  263\n",
       "18      266  278\n",
       "19      268  264\n",
       "20      270  272\n",
       "21      287  259\n",
       "22      289  264\n",
       "23      280  280\n",
       "24      272  274\n",
       "25      275  281\n",
       "26      265  276\n",
       "27      260  269\n",
       "28      278  268\n",
       "29      275  262\n",
       "30      281  283\n",
       "31      274  250\n",
       "32      273  253\n",
       "33      263  260\n",
       "34      275  270\n",
       "35      267  263\n",
       "36      279  261\n",
       "37      274  255\n",
       "38      276  263\n",
       "39      262  279"
      ]
     },
     "execution_count": 144,
     "metadata": {},
     "output_type": "execute_result"
    }
   ],
   "source": [
    "#show the data\n",
    "df"
   ]
  },
  {
   "cell_type": "code",
   "execution_count": 145,
   "metadata": {
    "pycharm": {}
   },
   "outputs": [
    {
     "data": {
      "text/html": [
       "<meta charset=\"UTF-8\">\n",
       "\n",
       "<style>\n",
       "\n",
       "        .variablerow {\n",
       "            border: 1px solid #e1e1e8;\n",
       "            border-top: hidden;\n",
       "            padding-top: 2em;\n",
       "            padding-bottom: 2em;\n",
       "            padding-left: 1em;\n",
       "            padding-right: 1em;\n",
       "        }\n",
       "\n",
       "        .headerrow {\n",
       "            border: 1px solid #e1e1e8;\n",
       "            background-color: #f5f5f5;\n",
       "            padding: 2em;\n",
       "        }\n",
       "        .namecol {\n",
       "            margin-top: -1em;\n",
       "            overflow-x: auto;\n",
       "        }\n",
       "\n",
       "        .dl-horizontal dt {\n",
       "            text-align: left;\n",
       "            padding-right: 1em;\n",
       "            white-space: normal;\n",
       "        }\n",
       "\n",
       "        .dl-horizontal dd {\n",
       "            margin-left: 0;\n",
       "        }\n",
       "\n",
       "        .ignore {\n",
       "            opacity: 0.4;\n",
       "        }\n",
       "\n",
       "        .container.pandas-profiling {\n",
       "            max-width:975px;\n",
       "        }\n",
       "\n",
       "        .col-md-12 {\n",
       "            padding-left: 2em;\n",
       "        }\n",
       "\n",
       "        .indent {\n",
       "            margin-left: 1em;\n",
       "        }\n",
       "\n",
       "        .center-img {\n",
       "            margin-left: auto !important;\n",
       "            margin-right: auto !important;\n",
       "            display: block;\n",
       "        }\n",
       "\n",
       "        /* Table example_values */\n",
       "            table.example_values {\n",
       "                border: 0;\n",
       "            }\n",
       "\n",
       "            .example_values th {\n",
       "                border: 0;\n",
       "                padding: 0 ;\n",
       "                color: #555;\n",
       "                font-weight: 600;\n",
       "            }\n",
       "\n",
       "            .example_values tr, .example_values td{\n",
       "                border: 0;\n",
       "                padding: 0;\n",
       "                color: #555;\n",
       "            }\n",
       "\n",
       "        /* STATS */\n",
       "            table.stats {\n",
       "                border: 0;\n",
       "            }\n",
       "\n",
       "            .stats th {\n",
       "                border: 0;\n",
       "                padding: 0 2em 0 0;\n",
       "                color: #555;\n",
       "                font-weight: 600;\n",
       "            }\n",
       "\n",
       "            .stats tr {\n",
       "                border: 0;\n",
       "            }\n",
       "\n",
       "            .stats td{\n",
       "                color: #555;\n",
       "                padding: 1px;\n",
       "                border: 0;\n",
       "            }\n",
       "\n",
       "\n",
       "        /* Sample table */\n",
       "            table.sample {\n",
       "                border: 0;\n",
       "                margin-bottom: 2em;\n",
       "                margin-left:1em;\n",
       "            }\n",
       "            .sample tr {\n",
       "                border:0;\n",
       "            }\n",
       "            .sample td, .sample th{\n",
       "                padding: 0.5em;\n",
       "                white-space: nowrap;\n",
       "                border: none;\n",
       "\n",
       "            }\n",
       "\n",
       "            .sample thead {\n",
       "                border-top: 0;\n",
       "                border-bottom: 2px solid #ddd;\n",
       "            }\n",
       "\n",
       "            .sample td {\n",
       "                width:100%;\n",
       "            }\n",
       "\n",
       "\n",
       "        /* There is no good solution available to make the divs equal height and then center ... */\n",
       "            .histogram {\n",
       "                margin-top: 3em;\n",
       "            }\n",
       "        /* Freq table */\n",
       "\n",
       "            table.freq {\n",
       "                margin-bottom: 2em;\n",
       "                border: 0;\n",
       "            }\n",
       "            table.freq th, table.freq tr, table.freq td {\n",
       "                border: 0;\n",
       "                padding: 0;\n",
       "            }\n",
       "\n",
       "            .freq thead {\n",
       "                font-weight: 600;\n",
       "                white-space: nowrap;\n",
       "                overflow: hidden;\n",
       "                text-overflow: ellipsis;\n",
       "\n",
       "            }\n",
       "\n",
       "            td.fillremaining{\n",
       "                width:auto;\n",
       "                max-width: none;\n",
       "            }\n",
       "\n",
       "            td.number, th.number {\n",
       "                text-align:right ;\n",
       "            }\n",
       "\n",
       "        /* Freq mini */\n",
       "            .freq.mini td{\n",
       "                width: 50%;\n",
       "                padding: 1px;\n",
       "                font-size: 12px;\n",
       "\n",
       "            }\n",
       "            table.freq.mini {\n",
       "                 width:100%;\n",
       "            }\n",
       "            .freq.mini th {\n",
       "                overflow: hidden;\n",
       "                text-overflow: ellipsis;\n",
       "                white-space: nowrap;\n",
       "                max-width: 5em;\n",
       "                font-weight: 400;\n",
       "                text-align:right;\n",
       "                padding-right: 0.5em;\n",
       "            }\n",
       "\n",
       "            .missing {\n",
       "                color: #a94442;\n",
       "            }\n",
       "            .alert, .alert > th, .alert > td {\n",
       "                color: #a94442;\n",
       "            }\n",
       "\n",
       "\n",
       "        /* Bars in tables */\n",
       "            .freq .bar{\n",
       "                float: left;\n",
       "                width: 0;\n",
       "                height: 100%;\n",
       "                line-height: 20px;\n",
       "                color: #fff;\n",
       "                text-align: center;\n",
       "                background-color: #337ab7;\n",
       "                border-radius: 3px;\n",
       "                margin-right: 4px;\n",
       "            }\n",
       "            .other .bar {\n",
       "                background-color: #999;\n",
       "            }\n",
       "            .missing .bar{\n",
       "                background-color: #a94442;\n",
       "            }\n",
       "            .tooltip-inner {\n",
       "                width: 100%;\n",
       "                white-space: nowrap;\n",
       "                text-align:left;\n",
       "            }\n",
       "\n",
       "            .extrapadding{\n",
       "                padding: 2em;\n",
       "            }\n",
       "\n",
       "            .pp-anchor{\n",
       "\n",
       "            }\n",
       "\n",
       "</style>\n",
       "\n",
       "<div class=\"container pandas-profiling\">\n",
       "    <div class=\"row headerrow highlight\">\n",
       "        <h1>Overview</h1>\n",
       "    </div>\n",
       "    <div class=\"row variablerow\">\n",
       "    <div class=\"col-md-6 namecol\">\n",
       "        <p class=\"h4\">Dataset info</p>\n",
       "        <table class=\"stats\" style=\"margin-left: 1em;\">\n",
       "            <tbody>\n",
       "            <tr>\n",
       "                <th>Number of variables</th>\n",
       "                <td>2 </td>\n",
       "            </tr>\n",
       "            <tr>\n",
       "                <th>Number of observations</th>\n",
       "                <td>40 </td>\n",
       "            </tr>\n",
       "            <tr>\n",
       "                <th>Total Missing (%)</th>\n",
       "                <td>0.0% </td>\n",
       "            </tr>\n",
       "            <tr>\n",
       "                <th>Total size in memory</th>\n",
       "                <td>720.0 B </td>\n",
       "            </tr>\n",
       "            <tr>\n",
       "                <th>Average record size in memory</th>\n",
       "                <td>18.0 B </td>\n",
       "            </tr>\n",
       "            </tbody>\n",
       "        </table>\n",
       "    </div>\n",
       "    <div class=\"col-md-6 namecol\">\n",
       "        <p class=\"h4\">Variables types</p>\n",
       "        <table class=\"stats\" style=\"margin-left: 1em;\">\n",
       "            <tbody>\n",
       "            <tr>\n",
       "                <th>Numeric</th>\n",
       "                <td>2 </td>\n",
       "            </tr>\n",
       "            <tr>\n",
       "                <th>Categorical</th>\n",
       "                <td>0 </td>\n",
       "            </tr>\n",
       "            <tr>\n",
       "                <th>Boolean</th>\n",
       "                <td>0 </td>\n",
       "            </tr>\n",
       "            <tr>\n",
       "                <th>Date</th>\n",
       "                <td>0 </td>\n",
       "            </tr>\n",
       "            <tr>\n",
       "                <th>Text (Unique)</th>\n",
       "                <td>0 </td>\n",
       "            </tr>\n",
       "            <tr>\n",
       "                <th>Rejected</th>\n",
       "                <td>0 </td>\n",
       "            </tr>\n",
       "            <tr>\n",
       "                <th>Unsupported</th>\n",
       "                <td>0 </td>\n",
       "            </tr>\n",
       "            </tbody>\n",
       "        </table>\n",
       "    </div>\n",
       "    <div class=\"col-md-12\" style=\"padding-left: 1em;\">\n",
       "        \n",
       "        <p class=\"h4\">Warnings</p>\n",
       "        <ul class=\"list-unstyled\"><li>Dataset has 2 duplicate rows <span class=\"label label-warning\">Warning</span></li> </ul>\n",
       "    </div>\n",
       "</div>\n",
       "    <div class=\"row headerrow highlight\">\n",
       "        <h1>Variables</h1>\n",
       "    </div>\n",
       "    <div class=\"row variablerow\">\n",
       "    <div class=\"col-md-3 namecol\">\n",
       "        <p class=\"h4 pp-anchor\" id=\"pp_var_Current\">Current<br/>\n",
       "            <small>Numeric</small>\n",
       "        </p>\n",
       "    </div><div class=\"col-md-6\">\n",
       "    <div class=\"row\">\n",
       "        <div class=\"col-sm-6\">\n",
       "            <table class=\"stats \">\n",
       "                <tr>\n",
       "                    <th>Distinct count</th>\n",
       "                    <td>26</td>\n",
       "                </tr>\n",
       "                <tr>\n",
       "                    <th>Unique (%)</th>\n",
       "                    <td>65.0%</td>\n",
       "                </tr>\n",
       "                <tr class=\"ignore\">\n",
       "                    <th>Missing (%)</th>\n",
       "                    <td>0.0%</td>\n",
       "                </tr>\n",
       "                <tr class=\"ignore\">\n",
       "                    <th>Missing (n)</th>\n",
       "                    <td>0</td>\n",
       "                </tr>\n",
       "                <tr class=\"ignore\">\n",
       "                    <th>Infinite (%)</th>\n",
       "                    <td>0.0%</td>\n",
       "                </tr>\n",
       "                <tr class=\"ignore\">\n",
       "                    <th>Infinite (n)</th>\n",
       "                    <td>0</td>\n",
       "                </tr>\n",
       "            </table>\n",
       "\n",
       "        </div>\n",
       "        <div class=\"col-sm-6\">\n",
       "            <table class=\"stats \">\n",
       "\n",
       "                <tr>\n",
       "                    <th>Mean</th>\n",
       "                    <td>270.27</td>\n",
       "                </tr>\n",
       "                <tr>\n",
       "                    <th>Minimum</th>\n",
       "                    <td>255</td>\n",
       "                </tr>\n",
       "                <tr>\n",
       "                    <th>Maximum</th>\n",
       "                    <td>289</td>\n",
       "                </tr>\n",
       "                <tr class=\"ignore\">\n",
       "                    <th>Zeros (%)</th>\n",
       "                    <td>0.0%</td>\n",
       "                </tr>\n",
       "            </table>\n",
       "        </div>\n",
       "    </div>\n",
       "</div>\n",
       "<div class=\"col-md-3 collapse in\" id=\"minihistogram-755550719390276236\">\n",
       "    <img src=\"data:image/png;base64,iVBORw0KGgoAAAANSUhEUgAAAMgAAABLCAYAAAA1fMjoAAAABHNCSVQICAgIfAhkiAAAAAlwSFlzAAAPYQAAD2EBqD%2BnaQAAADl0RVh0U29mdHdhcmUAbWF0cGxvdGxpYiB2ZXJzaW9uIDMuMC4zLCBodHRwOi8vbWF0cGxvdGxpYi5vcmcvnQurowAAASlJREFUeJzt3cEJwkAQQNEolmQR9uTZnizCnuJZkI8Goqt57y4sgc%2Bw7IC7eZ7nCXhq/%2B0DwMgO3z4Aj47n69u/uV1OK5yEaTJBIAkEgkAgCASCQCAIBIJAIAgEgkAgCATCZldNrHTwChMEgkAgCASCQCAIBIJAIAgEgkAgCATCZl/Sl3j39d3L%2B%2B8zQSAIBIJAIAgEwl9c0pesrsMrTBAIAoEgEAgCgTDcJd2Fe32f%2Bsb/sElggkAQCASBQBAIhN1o/3Lrkr5to13sTRAIAoEgEAgCgSAQCAKBIBAIAoEgEAgCgTDcqgmMxASBIBAIAoEgEAgCgSAQCAKBIBAIAoEgEAgCgSAQCAKBIBAIAoEgEAgCgSAQCAKBIBAIAoEgEAgCgSAQCAKBcAft8B5g7UeGIwAAAABJRU5ErkJggg%3D%3D\">\n",
       "\n",
       "</div>\n",
       "<div class=\"col-md-12 text-right\">\n",
       "    <a role=\"button\" data-toggle=\"collapse\" data-target=\"#descriptives-755550719390276236,#minihistogram-755550719390276236\"\n",
       "       aria-expanded=\"false\" aria-controls=\"collapseExample\">\n",
       "        Toggle details\n",
       "    </a>\n",
       "</div>\n",
       "<div class=\"row collapse col-md-12\" id=\"descriptives-755550719390276236\">\n",
       "    <ul class=\"nav nav-tabs\" role=\"tablist\">\n",
       "        <li role=\"presentation\" class=\"active\"><a href=\"#quantiles-755550719390276236\"\n",
       "                                                  aria-controls=\"quantiles-755550719390276236\" role=\"tab\"\n",
       "                                                  data-toggle=\"tab\">Statistics</a></li>\n",
       "        <li role=\"presentation\"><a href=\"#histogram-755550719390276236\" aria-controls=\"histogram-755550719390276236\"\n",
       "                                   role=\"tab\" data-toggle=\"tab\">Histogram</a></li>\n",
       "        <li role=\"presentation\"><a href=\"#common-755550719390276236\" aria-controls=\"common-755550719390276236\"\n",
       "                                   role=\"tab\" data-toggle=\"tab\">Common Values</a></li>\n",
       "        <li role=\"presentation\"><a href=\"#extreme-755550719390276236\" aria-controls=\"extreme-755550719390276236\"\n",
       "                                   role=\"tab\" data-toggle=\"tab\">Extreme Values</a></li>\n",
       "\n",
       "    </ul>\n",
       "\n",
       "    <div class=\"tab-content\">\n",
       "        <div role=\"tabpanel\" class=\"tab-pane active row\" id=\"quantiles-755550719390276236\">\n",
       "            <div class=\"col-md-4 col-md-offset-1\">\n",
       "                <p class=\"h4\">Quantile statistics</p>\n",
       "                <table class=\"stats indent\">\n",
       "                    <tr>\n",
       "                        <th>Minimum</th>\n",
       "                        <td>255</td>\n",
       "                    </tr>\n",
       "                    <tr>\n",
       "                        <th>5-th percentile</th>\n",
       "                        <td>258</td>\n",
       "                    </tr>\n",
       "                    <tr>\n",
       "                        <th>Q1</th>\n",
       "                        <td>263</td>\n",
       "                    </tr>\n",
       "                    <tr>\n",
       "                        <th>Median</th>\n",
       "                        <td>270</td>\n",
       "                    </tr>\n",
       "                    <tr>\n",
       "                        <th>Q3</th>\n",
       "                        <td>275.25</td>\n",
       "                    </tr>\n",
       "                    <tr>\n",
       "                        <th>95-th percentile</th>\n",
       "                        <td>284.15</td>\n",
       "                    </tr>\n",
       "                    <tr>\n",
       "                        <th>Maximum</th>\n",
       "                        <td>289</td>\n",
       "                    </tr>\n",
       "                    <tr>\n",
       "                        <th>Range</th>\n",
       "                        <td>34</td>\n",
       "                    </tr>\n",
       "                    <tr>\n",
       "                        <th>Interquartile range</th>\n",
       "                        <td>12.25</td>\n",
       "                    </tr>\n",
       "                </table>\n",
       "            </div>\n",
       "            <div class=\"col-md-4 col-md-offset-2\">\n",
       "                <p class=\"h4\">Descriptive statistics</p>\n",
       "                <table class=\"stats indent\">\n",
       "                    <tr>\n",
       "                        <th>Standard deviation</th>\n",
       "                        <td>8.753</td>\n",
       "                    </tr>\n",
       "                    <tr>\n",
       "                        <th>Coef of variation</th>\n",
       "                        <td>0.032385</td>\n",
       "                    </tr>\n",
       "                    <tr>\n",
       "                        <th>Kurtosis</th>\n",
       "                        <td>-0.76259</td>\n",
       "                    </tr>\n",
       "                    <tr>\n",
       "                        <th>Mean</th>\n",
       "                        <td>270.27</td>\n",
       "                    </tr>\n",
       "                    <tr>\n",
       "                        <th>MAD</th>\n",
       "                        <td>7.3387</td>\n",
       "                    </tr>\n",
       "                    <tr class=\"\">\n",
       "                        <th>Skewness</th>\n",
       "                        <td>0.30617</td>\n",
       "                    </tr>\n",
       "                    <tr>\n",
       "                        <th>Sum</th>\n",
       "                        <td>10811</td>\n",
       "                    </tr>\n",
       "                    <tr>\n",
       "                        <th>Variance</th>\n",
       "                        <td>76.615</td>\n",
       "                    </tr>\n",
       "                    <tr>\n",
       "                        <th>Memory size</th>\n",
       "                        <td>400.0 B</td>\n",
       "                    </tr>\n",
       "                </table>\n",
       "            </div>\n",
       "        </div>\n",
       "        <div role=\"tabpanel\" class=\"tab-pane col-md-8 col-md-offset-2\" id=\"histogram-755550719390276236\">\n",
       "            <img src=\"data:image/png;base64,iVBORw0KGgoAAAANSUhEUgAAAlgAAAGQCAYAAAByNR6YAAAABHNCSVQICAgIfAhkiAAAAAlwSFlzAAAPYQAAD2EBqD%2BnaQAAADl0RVh0U29mdHdhcmUAbWF0cGxvdGxpYiB2ZXJzaW9uIDMuMC4zLCBodHRwOi8vbWF0cGxvdGxpYi5vcmcvnQurowAAIABJREFUeJzt3XlU1XX%2Bx/EXsihqzNhCjU3nUOJSKImpJKinTKImc8ossjI1W2bc0qNpZZmZ5jqZytFMzUybxHEsbXIpyyxHK3NLyyXNXMYSSlxQWe/n98cM/LqAiviB7%2BX7fT7O8Xj6gt/zfl%2B%2BV57ee7kFGWOMAAAAYE01pwcAAABwGwILAADAMgILAADAMgILAADAMgILAADAMgILAADAMgILAADAMgILAADAMgILAADAMgILAADAMgILAADAMgILAADAMgILAADAMgILAADAMgILAADAMgILAADAMgILAADAMgILAADAMgILAADAMgILAADAMgILAADAMgILAADAMgILAADAMgILAADAMgILAADAMgILAADAMgILAADAMgILAADAMgILAADAMgILAADAMgILAADAMgILAADAMgILAADAMgILAADAMgILAADAMgILAADAMgILAADAMgILAADAMgILAADAshCnB/CKjIwT1s9ZrVqQLr64lo4cOSmfz1g/f6Bjf/b38v4StwH7s39Z9r/ssosqcar/xyNYVVi1akEKCgpStWpBTo/iCPZnfy/vL3EbsD/7B/L%2BBBYAAIBlBBYAAIBlBBYAAIBlBBYAAIBlBBYAAIBlBBYAAIBlBBYAAIBlBBYAAIBlBBYAAIBlBBYAAIBlBBYAAIBlBBYAAIBlBBYAAIBlIU4PAACB7vZX/%2B30COdlWf9Ep0cAPI9HsAAAACwjsAAAACwjsAAAACwjsAAAACwjsAAAACwjsAAAACwjsAAAACwjsAAAACwjsAAAACwjsAAAACwjsAAAACwjsAAAACwjsAAAACwjsAAAACwjsAAAACwjsAAAACwjsAAAACwjsAAAACwjsAAAACwjsAAAACwjsAAAACwjsAAAACwjsAAAACwjsAAAACwjsAAAACwjsAAAACwjsAAAACwjsAAAACwjsAAAACwjsErx7bff6sEHH1Tz5s3VunVrjRw5Urm5uU6PBQAAqggCqxifz6cnnnhCycnJ%2Buqrr7Rw4UKtWbNGM2bMcHo0AABQRRBYxRw7dkwZGRny%2BXwyxkiSqlWrpvDwcIcnAwAAVUWI0wMEmjp16qh79%2B4aO3asxo0bp4KCAt1yyy3q3r17mc%2BRnp6ujIwMv2MhITUVGRlpddbg4Gp%2Bv3sN%2B7P/b3/H/wsJ8cZt4vVrgP0De38Cqxifz6caNWro%2BeefV%2BfOnbVv3z716dNHkydPVv/%2B/ct0jrS0NKWmpvod6927t/r161cRIysiwtuPrrE/%2B8NfnTq1nB6hUnn9GmD/wNw/yBQ%2BDwZJ0ooVKzRx4kQtX7686NiSJUs0atQoffnll2U6R2U%2BghUREa7jx0%2BroMBn9dxVAfuzf2XtnzTh8wo9v20fDWrj9AiVgvsA%2B5dlf6f%2BwcEjWMX89NNPJX5iMCQkRKGhoWU%2BR2RkZImYysg4ofz8irkDFBT4KuzcVQH7s7%2BX9y%2BN124Pr18D7B%2BY%2BwfmE5cOat26tTIyMvTaa6%2BpoKBABw4c0LRp03TnnXc6PRoAAKgiCKxioqOjNX36dH3yySeKj4/Xww8/rHbt2mnAgAFOjwYAAKoIniIsRUJCghISEpweAwAAVFE8ggUAAGAZgQUAAGAZgQUAAGAZgQUAAGAZgQUAAGAZgQUAAGAZgQUAAGAZgQUAAGAZgQUAAGAZgQUAAGAZgQUAAGAZgQUAAGAZgQUAAGAZgQUAAGAZgQUAAGAZgQUAAGAZgQUAAGAZgQUAAGAZgQUAAGAZgQUAAGAZgQUAAGAZgQUAAGAZgQUAAGAZgQUAAGAZgQUAAGAZgQUAAGAZgQUAAGAZgQUAAGBZiNMDAIHq9lf/7fQI52VZ/0SnRwAA/A%2BPYAEAAFhGYAEAAFhGYAEAAFhGYAEAAFhGYAEAAFhGYAEAAFhGYAEAAFhGYAEAAFhGYAEAAFhGYAEAAFhGYAEAAFhGYAEAAFhGYAEAAFhGYAEAAFhGYAEAAFhGYAEAAFhGYAEAAFhGYAEAAFhGYAEAAFhGYAEAAFhGYAEAAFhGYAEAAFhGYAEAAFhGYAEAAFhGYAEAAFhGYAEAAFhGYAEAAFhGYAEAAFhGYJXi6NGjGjx4sOLj49WiRQv16tVL6enpTo8FAACqCAKrFH379tWpU6f00UcfadWqVQoODtbzzz/v9FgAAKCKCHF6gECzbds2bdmyRWvXrlXt2rUlSS%2B99JIyMjIcngwAAFQVPIJVzDfffKPo6GgtWLBASUlJat26tcaOHavLLrvM6dEAAEAVwSNYxRw7dkw7d%2B5U48aN9e677yo7O1uDBw/WkCFDNH369DKdIz09vcQjXiEhNRUZGWl11uDgan6/e43X9y8uJMRbtwNf/zPzyrXg9WuA/QN7fwKrmLCwMEnS0KFDVb16ddWuXVv9%2B/fXfffdp5MnT6pWrVrnPEdaWppSU1P9jvXu3Vv9%2BvWrkJkjIsIr5LxVhdf3L1SnzrmvTTfi61%2BS164Fr18D7B%2BY%2BxNYxURHR8vn8ykvL0/Vq1eXJPl8PkmSMaZM50hJSVG7du38joWE1FRm5kmrswYHV1NERLiOHz%2BtggKf1XNXBV7fvzjb11eg4%2Bt/Zl65Frx%2BDbB/2fZ36h8cBFYxCQkJuuqqq/Tss89q9OjRysnJ0cSJE9W%2BffuiF72fS2RkZImnAzMyTig/v2LuAAUFvgo7d1Xg9f0LefU24OtfktduD69fA%2BwfmPsH5hOXDgoNDdXcuXMVHBys5ORkJScn64orrtDLL7/s9GgAAKCK4BGsUlx%2B%2BeWaOHGi02MAAIAqikewAAAALCOwAAAALCOwAAAALCOwAAAALHNVYBUUFDg9AgAAgLsCq23btho3bpx2797t9CgAAMDDXBVYffr00caNG9WhQwfde%2B%2B9mj9/vk6cOOH0WAAAwGNcFVhdunTR/PnztXz5ciUkJGjGjBlq3bq1Bg4cqLVr1zo9HgAA8AhXBVahqKgoDRgwQMuXL1fv3r318ccfq2fPnmrXrp1mz57Na7UAAECFcuU7uW/ZskXvvfeeli5dqtzcXCUlJalTp046fPiwJk2apK1bt%2BqVV15xekwAAOBSrgqsqVOnavHixdq3b5%2BaNGmiAQMGqEOHDn7/k%2Bbg4GANGzbMwSkBAIDbuSqw5s2bp44dO6pz586Kjo4u9XPq1aunQYMGVfJkAADAS1wVWJ999pmysrJ09OjRomNLly5Vq1atVKdOHUnSddddp%2Buuu86pEQEAgAe46kXu3333nZKTk5WWllZ0bPz48brzzju1a9cuBycDAABe4qrAGjdunG699VYNGDCg6NjKlSvVtm1bjRkzxsHJAACAl7gqsL799ls9/vjjCgsLKzoWHBysxx9/XJs3b3ZwMgAA4CWuCqzatWtr//79JY7//PPPqlGjhgMTAQAAL3JVYCUnJ2v48OFau3atsrKydPLkSX3xxRcaMWKEkpKSnB4PAAB4hKt%2BinDgwIE6cOCAHnnkEQUFBRUdT0pK0uDBgx2cDAAAeImrAis8PFzTp0/X3r17tXPnToWGhqpevXqKiopyejQAAOAhrgqsQldffbWuvvpqp8cAAAAe5arA2rt3r0aMGKENGzYoLy%2BvxMe3b9/uwFQAAMBrXBVYw4cP16FDhzRo0CBddNFFTo8DAAA8ylWBtWnTJs2ZM0dxcXFOjwIAADzMVW/TUKdOHdWqVcvpMQAAgMe5KrC6du2qV155RSdOnHB6FAAA4GGueopw9erV2rx5s%2BLj43XJJZf4/S9zJOnjjz92aDIAAOAlrgqs%2BPh4xcfHOz0GAADwOFcFVp8%2BfZweAQAAwF2BJUk7duzQnDlztHfvXk2aNEkrV65UdHQ0j2zB9W5/9d9Oj1Bmy/onOj0CAFQoV73Ifdu2bbr33nt18OBBbdu2Tbm5udq%2BfbseeeQRrVq1yunxAACAR7gqsCZMmKBHHnlEc%2BfOVWhoqCRp5MiRevjhh5WamurwdAAAwCtcFVjbtm3TXXfdVeJ4ly5d9MMPPzgwEQAA8CJXBVZoaKiysrJKHD906JDCw8MdmAgAAHiRqwKrffv2%2Btvf/qbMzMyiY3v27NGoUaN00003OTcYAADwFFcF1pAhQ5Sdna2EhASdPn1anTp1UocOHRQSEqLBgwc7PR4AAPAIV71NQ%2B3atTV//nytW7dO3333nXw%2Bnxo0aKA2bdqoWjVXtSQAAAhgrgqsQq1atVKrVq2cHgMAAHiUqwKrXbt2CgoKOuPH%2BX8RAgCAyuCqwLr77rv9AisvL0/79u3TZ599pv79%2Bzs4GQAA8BJXBVbfvn1LPT5v3jxt2LBBDz/8cCVPBAAAvMgTr/y%2B%2BeabtXr1aqfHAAAAHuGJwPrqq69UvXp1p8cAAAAe4aqnCIs/BWiMUVZWlnbu3MnTgwAAoNK4KrDq1q1b4qcIQ0ND1a1bN915550OTQUAALzGVYE1ZswYp0cAAABwV2CtX7%2B%2BzJ/bokWLCpwEAAB4masCq3v37jLGFP0qVPi0YeGxoKAgbd%2B%2B3ZEZAQCA%2B7kqsKZMmaLRo0dryJAhuvHGGxUaGqotW7Zo%2BPDheuCBB3TzzTc7PSIAAPAAV71Nw9ixY/XCCy%2Boffv2ql27tqpXr66WLVtqxIgReuONN3TllVcW/QIAAKgorgqs9PR0/eEPfyhxvHbt2srMzHRgIgAA4EWuCqymTZvqlVdeUVZWVtGxo0ePavz48WrVqpWDkwEAAC9x1WuwnnvuOXXr1k1t27ZVVFSUJGnv3r267LLL9NZbbzk7HAAA8AxXBVa9evW0dOlSvf/%2B%2B9qzZ48k6YEHHtAdd9yh8PBwh6cDAABe4arAkqSIiAjde%2B%2B9OnjwoK666ipJ/303dwAAgMriqtdgGWM0YcIEtWjRQh06dNDPP/%2BsIUOG6JlnnlFeXp7T4wEAAI9wVWDNnTtXixcv1gsvvKCwsDBJUvv27fXJJ59o0qRJDk8HAAC8wlWBlZaWpmHDhqlTp05F797%2Bpz/9SaNGjdIHH3zg8HQAAMArXBVYBw8e1LXXXlvieMOGDfXLL7%2Bc9/kKCgrUtWtXPf300zbGAwAAHuGqwLryyiv1zTfflDi%2BevXqohe8n4/U1FR9/fXXNkYDAAAe4qqfIuzZs6defPFFHT58WMYYrVu3TvPnz9fcuXP1zDPPnNe51q1bpw8//FC33nprBU0LAADcylWBdc899yg/P1/Tpk1Tdna2hg0bpksuuUQDBgxQly5dynyeX3/9VUOHDtXUqVP15ptvVtzAAADAlVwVWEuWLNFtt92mlJQUHTlyRMYYXXLJJed1Dp/Pp6eeeko9evRQo0aNyjVHenq6MjIy/I6FhNRUZGRkuc53JsHB1fx%2B9xqv71%2BVhYRc%2BNeMr/%2BZ2bh9qwKvXwPsH9j7uyqwRo4cqZiYGP3ud7/TxRdfXK5zTJ8%2BXWFhYeratWu550hLS1Nqaqrfsd69e6tfv37lPufZRERUjXepbz50udMjIEDUqVPL2rmqyvVfmWzevlWB168B9g/M/V0VWFFRUdq5c6fq1atX7nMsXrxY6enpat68uSQpOztbkrRy5coyv%2BA9JSVF7dq18zsWElJTmZknyz1XaYKDqykiIlzHj59WQYHP6rmBimTjvsD1f2a2/64JVF6/Bti/bPs79Q8OVwVW/fr1NWjQIM2cOVNRUVGqXr2638dHjx59znMsX%2B7/KEvhWzSMGTOmzHNERkaWeDowI%2BOE8vMr5g5QUOCrsHMDFcHm9cr1X5LXbg%2BvXwPsH5j7uyqw9u/frxtuuEGSSrwGCgAAoLJU%2BcAaPXq0nnzySdWsWVNz5861fv7zeeQKAABAcsEbjb711ls6ffq037GePXsqPT3doYkAAIDXVfnAMsaUOLZx40bl5OQ4MA0AAIALAgsAACDQEFgAAACWuSKwgoKCnB4BAACgSJX/KULpv%2B/g/tv3vMrLy9P48eNVq5b/m4uV5X2wAAAALlSVD6wWLVqUeM%2BruLg4ZWZmKjMz06GpAACAl1X5wKqI974CAAC4EK54DRYAAEAgIbAAAAAsI7AAAAAsI7AAAAAsI7AAAAAsI7AAAAAsI7AAAAAsI7AAAAAsI7AAAAAsI7AAAAAsI7AAAAAsI7AAAAAsI7AAAAAsI7AAAAAsI7AAAAAsI7AAAAAsI7AAAAAsI7AAAAAsI7AAAAAsI7AAAAAsC3F6AFyY5kOXOz0CAJTb7a/%2B2%2BkRXG1Z/0SnR/AsHsECAACwjMACAACwjMACAACwjMACAACwjMACAACwjMACAACwjMACAACwjMACAACwjMACAACwjMACAACwjMACAACwjMACAACwjMACAACwjMACAACwjMACAACwjMACAACwjMACAACwjMACAACwjMACAACwjMACAACwjMACAACwjMACAACwjMACAACwjMACAACwjMACAACwjMACAACwjMACAACwjMACAACwjMACAACwjMAqxY4dO9SjRw%2B1bNlSiYmJGjx4sI4cOeL0WAAAoIogsIrJzs7Wo48%2Bqri4OK1Zs0b/%2Bte/dPToUT377LNOjwYAAKoIAquYQ4cOqVGjRurdu7fCwsJUp04dpaSkaP369U6PBgAAqogQpwcINNdcc41mzpzpd2zFihWKiYkp8znS09OVkZHhdywkpKYiIyOtzFgoOJg%2BRtUUEnLh127h9c/9oCQbty/cwc3XQqD/HRBkjDFODxGojDF69dVX9fe//13z5s1Tw4YNy/TnpkyZotTUVL9jvXv3Vr9%2B/azP2HzocuvnBACgsn096janR7CKR7DOICsrS88884y%2B/fbb84orSUpJSVG7du38joWE1FRm5kmrMwZqtQMAcL7O93tkcHA1RUSE6/jx0yoo8J3x8%2BrUqXWho5ULgVWK/fv367HHHlPdunW1cOFCXXzxxef15yMjI0s8HZiRcUL5%2BWe%2BAAAA8LLyfo8sKPAF5PdXHgIp5tixY%2BrWrZuaNWumWbNmnXdcAQAA8AhWMYsWLdKhQ4e0bNkyLV/u//qmTZs2OTQVAACoSgisYnr06KEePXo4PQYAAKjCeIoQAADAMgILAADAMgILAADAMgILAADAMgILAADAMgILAADAMgILAADAMgILAADAMgILAADAMgILAADAMgILAADAMgILAADAMgILAADAMgILAADAMgILAADAMgILAADAMgILAADAMgILAADAMgILAADAMgILAADAMgILAADAMgILAADAMgILAADAMgILAADAMgILAADAMgILAADAMgILAADAMgILAADAMgILAADAMgILAADAMgILAADAMgILAADAMgILAADAMgILAADAMgILAADAMgILAADAMgILAADAMgILAADAMgILAADAMgILAADAMgILAADAMgILAADAMgILAADAMgILAADAMgILAADAMgILAADAMgILAADAMgILAADAMgILAADAMgILAADAMgILAADAMgILAADAMgILAADAMgILAADAMgILAADAMgILAADAMgILAADAMgKrFL/%2B%2Bqt69eql5s2bKz4%2BXqNGjVJ%2Bfr7TYwEAgCqCwCpF//79VbNmTX3%2B%2BedauHCh1q1bpzfffNPpsQAAQBVBYBWzb98%2BffXVV3rqqacUHh6uq666Sr169dLbb7/t9GgAAKCKILCK%2Bf777/X73/9el19%2BedGxevXq6dChQzp%2B/LiDkwEAgKoixOkBAs3JkycVHh7ud6zwv0%2BdOqWIiIhzniM9PV0ZGRl%2Bx0JCaioyMtLeoJKCg%2BljAIA7hISc3/e0wu%2BBgfq9kMAqpmbNmjp9%2BrTfscL/rlWrVpnOkZaWptTUVL9jffr0Ud%2B%2Bfe0M%2BT/p6enqdsX3SklJsR5vVUF6errS0tLYn/09ub/EbcD%2B7D9nzsyA3T8ws89B9evX19GjR/XLL78UHduzZ4%2BuuOIKXXTRRWU6R0pKihYtWuT3KyUlxfqsGRkZSk1NLfFomVewP/t7eX%2BJ24D92T%2BQ9%2BcRrGKioqJ0ww036OWXX9aIESOUmZmpqVOnqnPnzmU%2BR2RkZEDWNAAAqBw8glWKyZMnKz8/X7fccovuu%2B8%2BtWnTRr169XJ6LAAAUEXwCFYpLr30Uk2ePNnpMQAAQBUVPHz48OFOD4Hyq1Wrllq2bFnmF%2BC7Dfuzv5f3l7gN2J/9A3X/IGOMcXoIAAAAN%2BE1WAAAAJYRWAAAAJYRWAAAAJYRWAAAAJYRWAAAAJYRWAAAAJYRWAAAAJYRWAAAAJYRWAFqx44d6tGjh1q2bKnExEQNHjxYR44ckSS98MILaty4seLi4op%2BpaWlSZJ8Pp/i4uLUtGlTv4%2BfOnXKyXXO29n237Fjh7p166a4uDglJCRo9OjRys/PL/qz7777rpKSktS0aVN16tRJmzZtcmqNcruQ/W%2B//XZdf/31fl//PXv2OLVKuZxp/2HDhvntFRcXp2uvvVY9e/Ys%2BrMzZsxQ27Zt1bRpU3Xt2lU//PCDg5uUT3n3d8v9Xzr7feCDDz7Q7bffrmbNmik5OVnvvPOO35918zUgnX1/t1wDZ9t/9erVuuuuuxQXF6eOHTvqo48%2B8vuzAfM9wCDgnD592iQmJppJkyaZnJwcc%2BTIEfPYY4%2BZJ554whhjzN13320WLVpU6p/duXOniYmJMTk5OZU5slVn2//XX3818fHx5rXXXjO5ubnmwIED5tZbbzUzZ840xhjzxRdfmLi4OPP111%2Bb3NxcM3v2bBMfH29OnTrl8FZldyH7nzhxwjRs2NAcPHjQ4S3K71zX/299/vnnpmXLlmbXrl3GGGMWLVpk2rRpY3bt2mWys7PN6NGjzR133GF8Pl9lr1FuF7K/G%2B7/xpz9Nti5c6e5/vrrzaZNm4wxxmzYsMHExMSY9evXG2Pcfw2ca383XANn23/btm0mJibGLFiwwOTl5Zn169ebuLg488UXXxhjAut7AIEVgPbs2WN69uxp8vPzi46tXLnSNGvWzOTk5JiYmJiiv1CLW7hwoenUqVNljVohzrb/rFmzTEpKit/nHzx40PznP/8xxhgzcOBA89xzz/l9/LbbbjMLFy6s%2BMEtuZD9161bZ%2BLj4yt1XtvOtv9vFcbm4sWLi47df//9Ztq0aUX/nZuba%2BLi4sy6desqfnBLLmR/N9z/jTn7bbBixQoTExNjNmzYYHw%2Bn9m4caOJjY01W7ZsMca4/xo41/5uuAbOtv/48eNN165d/T5/2LBh5sknnzTGBNb3AJ4iDEDXXHONZs6cqeDg4KJjK1asUExMjHbs2KH8/HxNnjxZCQkJSk5O1uuvvy6fzydJ2rp1q3JycnTPPffoxhtv1IMPPqiNGzc6tUq5nG3/b775Rg0aNNCwYcOUmJio9u3ba8mSJbriiiskSbt371aDBg38zhcdHa0dO3ZU6g4X4kL237p1q8LDw/XQQw8pPj5enTp10qpVq5xapVzOtv9vTZgwQY0bN1bHjh2LjhX/%2BoeGhioqKso1X//fKm1/N9z/pbPfBq1bt1bTpk3VpUsXxcTE6P7779eTTz6p2NhYSe6/Bs61vxuugbPtX1BQoJo1a/p9frVq1YqeBg6k7wEEVoAzxmjixIlatWqVhg4dqhMnTqhly5bq2rWrVq9erfHjx2vu3Ll64403JEk1atRQbGyspk6dqk8//VTt2rVTz549deDAAYc3KZ/i%2Bx87dkyLFi1SbGysPv30U6WmpiotLU2zZ8%2BWJJ08eVLh4eF%2B56hRo0aVe/1BofPdPygoSE2aNNHIkSP1%2Beefq3v37urbt682b97s8CblU3z/QgcOHNCSJUs0cOBAv893%2B9e/0Jn2d9v9Xyp5G%2BTm5uqPf/yjZs%2BerS1btmj69OmaMmWK1qxZI8n918C59nfbNVB8/6SkJK1Zs0YrVqxQfn6%2BNmzYoKVLlyonJ0dSYH39CawAlpWVpX79%2Bun999/XvHnz1LBhQyUmJuqtt95Sy5YtFRoaqtjYWHXr1k1Lly6VJD399NN6%2BeWXdfnll6tGjRrq2bOn6tatq9WrVzu8zfkrbf%2BwsDA1adJEnTt3VmhoqBo1aqSHHnpIy5YtkySFh4crOzvb7zzZ2dmqVauWEytckPLs/%2Bijj2ry5MmKiopSWFiYOnbsqISEBK1YscLhbc5fafsX%2Buc//1n0Au/fcvvXv9CZ9nfT/V8q/TaYMmWKwsLClJCQoNDQUN1000264447in7Qx%2B3XwLn2d9M1UNr%2BzZo107hx45SamqrExETNmjVLnTp1UkREhKTA%2BvoTWAFq//79uueee5SVlaWFCxcW/eW6cuVKzZ8/3%2B9zc3NzVaNGDUnSxIkT9d1335X4ePXq1StncEvOtH%2B9evWUm5vr97k%2Bn0/GGElS/fr19f333/t9fPfu3apfv37lDG5JefefNWuW1q1b5/dxN339C3344Yf685//XOLPFf/65%2BXl6ccffyzxlEGgK%2B/%2Bbrn/S2e%2BDQ4dOqS8vDy/zw0JCVFoaKgk918D59rfLdfAmfY/evSo6tevr/fff19ffvmlpk6dqp9%2B%2BkmNGzeWFGDfAyr9VV84p6NHj5qbbrrJPP3006agoMDvYx9%2B%2BKGJjY01a9euLXqBY3x8vHnvvfeMMcb85S9/MQ888IBJT083OTk5ZsqUKebGG280mZmZTqxSLmfbf/fu3aZx48bm9ddfN/n5%2BWbHjh2mTZs2Zs6cOcYYY9auXVv0gtbCnyBp0aKFZ/Z/6aWXTHJystm/f7/Jy8sz//jHP0xsbKz58ccfnVilXM62vzHGHDlyxDRo0KDUnRYsWGDatGljtm/fXvQTZElJSSY3N7cyRrfiQvZ3w/3fmLPfBgsWLDCxsbHms88%2BMz6fz3z55ZcmLi7OfPLJJ0Ufd/M1cK793XANnG3/zZs3m6ZNm5rt27ebvLw888EHH5jY2NiiH/wKpO8BQcb875%2B%2BCBizZ8/WmDFjFB4erqCgIL%2BPbdq0SfPnz9fs2bN1%2BPBhXXrpperRo4cefPBBSf%2Bt%2B7Gj9hUYAAABTklEQVRjx2r16tU6ffq0mjRpomeffVaNGjVyYpVyOdf%2BW7Zs0bhx47Rr1y7VqFFDXbp00V//%2Bteiz128eLGmTZumw4cPKzo6Ws8995yuv/56J1YplwvZPzc3VxMmTNCyZct04sQJRUdH66mnnlJ8fLxD25y/c%2B2/detWde7cWVu2bCl65LaQMUazZ8/W22%2B/rSNHjqhJkyZ68cUXdfXVV1fmChfkQvZ3w/1fOvdtMHfuXM2bN08ZGRmqW7euHn/88aIX%2B3vhGjjb/m64Bs61/zvvvKMZM2YoMzNT11xzjQYNGqRWrVoVfU6gfA8gsAAAACzjNVgAAACWEVgAAACWEVgAAACWEVgAAACWEVgAAACWEVgAAACWEVgAAACWEVgAAACWEVgAAACWEVgAAACWEVgAAACWEVgAAACWEVgAAACWEVgAAACWEVgAAACW/R%2BimMXBzMYNaAAAAABJRU5ErkJggg%3D%3D\"/>\n",
       "        </div>\n",
       "        <div role=\"tabpanel\" class=\"tab-pane col-md-12\" id=\"common-755550719390276236\">\n",
       "            \n",
       "<table class=\"freq table table-hover\">\n",
       "    <thead>\n",
       "    <tr>\n",
       "        <td class=\"fillremaining\">Value</td>\n",
       "        <td class=\"number\">Count</td>\n",
       "        <td class=\"number\">Frequency (%)</td>\n",
       "        <td style=\"min-width:200px\">&nbsp;</td>\n",
       "    </tr>\n",
       "    </thead>\n",
       "    <tr class=\"\">\n",
       "        <td class=\"fillremaining\">272</td>\n",
       "        <td class=\"number\">3</td>\n",
       "        <td class=\"number\">7.5%</td>\n",
       "        <td>\n",
       "            <div class=\"bar\" style=\"width:18%\">&nbsp;</div>\n",
       "        </td>\n",
       "</tr><tr class=\"\">\n",
       "        <td class=\"fillremaining\">275</td>\n",
       "        <td class=\"number\">3</td>\n",
       "        <td class=\"number\">7.5%</td>\n",
       "        <td>\n",
       "            <div class=\"bar\" style=\"width:18%\">&nbsp;</div>\n",
       "        </td>\n",
       "</tr><tr class=\"\">\n",
       "        <td class=\"fillremaining\">263</td>\n",
       "        <td class=\"number\">3</td>\n",
       "        <td class=\"number\">7.5%</td>\n",
       "        <td>\n",
       "            <div class=\"bar\" style=\"width:18%\">&nbsp;</div>\n",
       "        </td>\n",
       "</tr><tr class=\"\">\n",
       "        <td class=\"fillremaining\">260</td>\n",
       "        <td class=\"number\">2</td>\n",
       "        <td class=\"number\">5.0%</td>\n",
       "        <td>\n",
       "            <div class=\"bar\" style=\"width:12%\">&nbsp;</div>\n",
       "        </td>\n",
       "</tr><tr class=\"\">\n",
       "        <td class=\"fillremaining\">264</td>\n",
       "        <td class=\"number\">2</td>\n",
       "        <td class=\"number\">5.0%</td>\n",
       "        <td>\n",
       "            <div class=\"bar\" style=\"width:12%\">&nbsp;</div>\n",
       "        </td>\n",
       "</tr><tr class=\"\">\n",
       "        <td class=\"fillremaining\">266</td>\n",
       "        <td class=\"number\">2</td>\n",
       "        <td class=\"number\">5.0%</td>\n",
       "        <td>\n",
       "            <div class=\"bar\" style=\"width:12%\">&nbsp;</div>\n",
       "        </td>\n",
       "</tr><tr class=\"\">\n",
       "        <td class=\"fillremaining\">267</td>\n",
       "        <td class=\"number\">2</td>\n",
       "        <td class=\"number\">5.0%</td>\n",
       "        <td>\n",
       "            <div class=\"bar\" style=\"width:12%\">&nbsp;</div>\n",
       "        </td>\n",
       "</tr><tr class=\"\">\n",
       "        <td class=\"fillremaining\">270</td>\n",
       "        <td class=\"number\">2</td>\n",
       "        <td class=\"number\">5.0%</td>\n",
       "        <td>\n",
       "            <div class=\"bar\" style=\"width:12%\">&nbsp;</div>\n",
       "        </td>\n",
       "</tr><tr class=\"\">\n",
       "        <td class=\"fillremaining\">274</td>\n",
       "        <td class=\"number\">2</td>\n",
       "        <td class=\"number\">5.0%</td>\n",
       "        <td>\n",
       "            <div class=\"bar\" style=\"width:12%\">&nbsp;</div>\n",
       "        </td>\n",
       "</tr><tr class=\"\">\n",
       "        <td class=\"fillremaining\">258</td>\n",
       "        <td class=\"number\">2</td>\n",
       "        <td class=\"number\">5.0%</td>\n",
       "        <td>\n",
       "            <div class=\"bar\" style=\"width:12%\">&nbsp;</div>\n",
       "        </td>\n",
       "</tr><tr class=\"other\">\n",
       "        <td class=\"fillremaining\">Other values (16)</td>\n",
       "        <td class=\"number\">17</td>\n",
       "        <td class=\"number\">42.5%</td>\n",
       "        <td>\n",
       "            <div class=\"bar\" style=\"width:100%\">&nbsp;</div>\n",
       "        </td>\n",
       "</tr>\n",
       "</table>\n",
       "        </div>\n",
       "        <div role=\"tabpanel\" class=\"tab-pane col-md-12\"  id=\"extreme-755550719390276236\">\n",
       "            <p class=\"h4\">Minimum 5 values</p>\n",
       "            \n",
       "<table class=\"freq table table-hover\">\n",
       "    <thead>\n",
       "    <tr>\n",
       "        <td class=\"fillremaining\">Value</td>\n",
       "        <td class=\"number\">Count</td>\n",
       "        <td class=\"number\">Frequency (%)</td>\n",
       "        <td style=\"min-width:200px\">&nbsp;</td>\n",
       "    </tr>\n",
       "    </thead>\n",
       "    <tr class=\"\">\n",
       "        <td class=\"fillremaining\">255</td>\n",
       "        <td class=\"number\">1</td>\n",
       "        <td class=\"number\">2.5%</td>\n",
       "        <td>\n",
       "            <div class=\"bar\" style=\"width:50%\">&nbsp;</div>\n",
       "        </td>\n",
       "</tr><tr class=\"\">\n",
       "        <td class=\"fillremaining\">258</td>\n",
       "        <td class=\"number\">2</td>\n",
       "        <td class=\"number\">5.0%</td>\n",
       "        <td>\n",
       "            <div class=\"bar\" style=\"width:100%\">&nbsp;</div>\n",
       "        </td>\n",
       "</tr><tr class=\"\">\n",
       "        <td class=\"fillremaining\">259</td>\n",
       "        <td class=\"number\">1</td>\n",
       "        <td class=\"number\">2.5%</td>\n",
       "        <td>\n",
       "            <div class=\"bar\" style=\"width:50%\">&nbsp;</div>\n",
       "        </td>\n",
       "</tr><tr class=\"\">\n",
       "        <td class=\"fillremaining\">260</td>\n",
       "        <td class=\"number\">2</td>\n",
       "        <td class=\"number\">5.0%</td>\n",
       "        <td>\n",
       "            <div class=\"bar\" style=\"width:100%\">&nbsp;</div>\n",
       "        </td>\n",
       "</tr><tr class=\"\">\n",
       "        <td class=\"fillremaining\">261</td>\n",
       "        <td class=\"number\">1</td>\n",
       "        <td class=\"number\">2.5%</td>\n",
       "        <td>\n",
       "            <div class=\"bar\" style=\"width:50%\">&nbsp;</div>\n",
       "        </td>\n",
       "</tr>\n",
       "</table>\n",
       "            <p class=\"h4\">Maximum 5 values</p>\n",
       "            \n",
       "<table class=\"freq table table-hover\">\n",
       "    <thead>\n",
       "    <tr>\n",
       "        <td class=\"fillremaining\">Value</td>\n",
       "        <td class=\"number\">Count</td>\n",
       "        <td class=\"number\">Frequency (%)</td>\n",
       "        <td style=\"min-width:200px\">&nbsp;</td>\n",
       "    </tr>\n",
       "    </thead>\n",
       "    <tr class=\"\">\n",
       "        <td class=\"fillremaining\">281</td>\n",
       "        <td class=\"number\">1</td>\n",
       "        <td class=\"number\">2.5%</td>\n",
       "        <td>\n",
       "            <div class=\"bar\" style=\"width:50%\">&nbsp;</div>\n",
       "        </td>\n",
       "</tr><tr class=\"\">\n",
       "        <td class=\"fillremaining\">283</td>\n",
       "        <td class=\"number\">2</td>\n",
       "        <td class=\"number\">5.0%</td>\n",
       "        <td>\n",
       "            <div class=\"bar\" style=\"width:100%\">&nbsp;</div>\n",
       "        </td>\n",
       "</tr><tr class=\"\">\n",
       "        <td class=\"fillremaining\">284</td>\n",
       "        <td class=\"number\">1</td>\n",
       "        <td class=\"number\">2.5%</td>\n",
       "        <td>\n",
       "            <div class=\"bar\" style=\"width:50%\">&nbsp;</div>\n",
       "        </td>\n",
       "</tr><tr class=\"\">\n",
       "        <td class=\"fillremaining\">287</td>\n",
       "        <td class=\"number\">1</td>\n",
       "        <td class=\"number\">2.5%</td>\n",
       "        <td>\n",
       "            <div class=\"bar\" style=\"width:50%\">&nbsp;</div>\n",
       "        </td>\n",
       "</tr><tr class=\"\">\n",
       "        <td class=\"fillremaining\">289</td>\n",
       "        <td class=\"number\">1</td>\n",
       "        <td class=\"number\">2.5%</td>\n",
       "        <td>\n",
       "            <div class=\"bar\" style=\"width:50%\">&nbsp;</div>\n",
       "        </td>\n",
       "</tr>\n",
       "</table>\n",
       "        </div>\n",
       "    </div>\n",
       "</div>\n",
       "</div><div class=\"row variablerow\">\n",
       "    <div class=\"col-md-3 namecol\">\n",
       "        <p class=\"h4 pp-anchor\" id=\"pp_var_New\">New<br/>\n",
       "            <small>Numeric</small>\n",
       "        </p>\n",
       "    </div><div class=\"col-md-6\">\n",
       "    <div class=\"row\">\n",
       "        <div class=\"col-sm-6\">\n",
       "            <table class=\"stats \">\n",
       "                <tr>\n",
       "                    <th>Distinct count</th>\n",
       "                    <td>26</td>\n",
       "                </tr>\n",
       "                <tr>\n",
       "                    <th>Unique (%)</th>\n",
       "                    <td>65.0%</td>\n",
       "                </tr>\n",
       "                <tr class=\"ignore\">\n",
       "                    <th>Missing (%)</th>\n",
       "                    <td>0.0%</td>\n",
       "                </tr>\n",
       "                <tr class=\"ignore\">\n",
       "                    <th>Missing (n)</th>\n",
       "                    <td>0</td>\n",
       "                </tr>\n",
       "                <tr class=\"ignore\">\n",
       "                    <th>Infinite (%)</th>\n",
       "                    <td>0.0%</td>\n",
       "                </tr>\n",
       "                <tr class=\"ignore\">\n",
       "                    <th>Infinite (n)</th>\n",
       "                    <td>0</td>\n",
       "                </tr>\n",
       "            </table>\n",
       "\n",
       "        </div>\n",
       "        <div class=\"col-sm-6\">\n",
       "            <table class=\"stats \">\n",
       "\n",
       "                <tr>\n",
       "                    <th>Mean</th>\n",
       "                    <td>267.5</td>\n",
       "                </tr>\n",
       "                <tr>\n",
       "                    <th>Minimum</th>\n",
       "                    <td>250</td>\n",
       "                </tr>\n",
       "                <tr>\n",
       "                    <th>Maximum</th>\n",
       "                    <td>289</td>\n",
       "                </tr>\n",
       "                <tr class=\"ignore\">\n",
       "                    <th>Zeros (%)</th>\n",
       "                    <td>0.0%</td>\n",
       "                </tr>\n",
       "            </table>\n",
       "        </div>\n",
       "    </div>\n",
       "</div>\n",
       "<div class=\"col-md-3 collapse in\" id=\"minihistogram-9138426861778195105\">\n",
       "    <img src=\"data:image/png;base64,iVBORw0KGgoAAAANSUhEUgAAAMgAAABLCAYAAAA1fMjoAAAABHNCSVQICAgIfAhkiAAAAAlwSFlzAAAPYQAAD2EBqD%2BnaQAAADl0RVh0U29mdHdhcmUAbWF0cGxvdGxpYiB2ZXJzaW9uIDMuMC4zLCBodHRwOi8vbWF0cGxvdGxpYi5vcmcvnQurowAAATJJREFUeJzt3MFpw0AQQFE5pKQUkZ5yTk8pwj1tGggfHJA0lt87Gzw2fEaLzd7WWmsD/vR29gAw2fvZAzyTj6%2Bfh15///7caRKOYoNAEAgEgUAQCASBQBAIBIFAEAgEgUAQCASBQBAIBIFAEAgEgUAQCASBQBAIBIFAEAgEgUAQCASBQBAIBIFAcLPijh69iXHbjrmNcepcE9kgEAQCQSAQxp1Bjno%2B/s/7THWlzzKNDQJBIBAEAmHcGeTVOU/MYoNAEAgEgUBwBmE3V/jPlw0CQSAQBAJBIBAucUj349r%2BXvU7tkEgCASCQCDc1lrr7CFgKhsEgkAgCASCQCAIBIJAIAgEgkAgCASCQCAIBIJAIAgEgkAgCASCQCAIBIJAIAgEgkAgCASCQCAIBIJAIAgEwi9RAB6cZIqm0gAAAABJRU5ErkJggg%3D%3D\">\n",
       "\n",
       "</div>\n",
       "<div class=\"col-md-12 text-right\">\n",
       "    <a role=\"button\" data-toggle=\"collapse\" data-target=\"#descriptives-9138426861778195105,#minihistogram-9138426861778195105\"\n",
       "       aria-expanded=\"false\" aria-controls=\"collapseExample\">\n",
       "        Toggle details\n",
       "    </a>\n",
       "</div>\n",
       "<div class=\"row collapse col-md-12\" id=\"descriptives-9138426861778195105\">\n",
       "    <ul class=\"nav nav-tabs\" role=\"tablist\">\n",
       "        <li role=\"presentation\" class=\"active\"><a href=\"#quantiles-9138426861778195105\"\n",
       "                                                  aria-controls=\"quantiles-9138426861778195105\" role=\"tab\"\n",
       "                                                  data-toggle=\"tab\">Statistics</a></li>\n",
       "        <li role=\"presentation\"><a href=\"#histogram-9138426861778195105\" aria-controls=\"histogram-9138426861778195105\"\n",
       "                                   role=\"tab\" data-toggle=\"tab\">Histogram</a></li>\n",
       "        <li role=\"presentation\"><a href=\"#common-9138426861778195105\" aria-controls=\"common-9138426861778195105\"\n",
       "                                   role=\"tab\" data-toggle=\"tab\">Common Values</a></li>\n",
       "        <li role=\"presentation\"><a href=\"#extreme-9138426861778195105\" aria-controls=\"extreme-9138426861778195105\"\n",
       "                                   role=\"tab\" data-toggle=\"tab\">Extreme Values</a></li>\n",
       "\n",
       "    </ul>\n",
       "\n",
       "    <div class=\"tab-content\">\n",
       "        <div role=\"tabpanel\" class=\"tab-pane active row\" id=\"quantiles-9138426861778195105\">\n",
       "            <div class=\"col-md-4 col-md-offset-1\">\n",
       "                <p class=\"h4\">Quantile statistics</p>\n",
       "                <table class=\"stats indent\">\n",
       "                    <tr>\n",
       "                        <th>Minimum</th>\n",
       "                        <td>250</td>\n",
       "                    </tr>\n",
       "                    <tr>\n",
       "                        <th>5-th percentile</th>\n",
       "                        <td>250.95</td>\n",
       "                    </tr>\n",
       "                    <tr>\n",
       "                        <th>Q1</th>\n",
       "                        <td>262</td>\n",
       "                    </tr>\n",
       "                    <tr>\n",
       "                        <th>Median</th>\n",
       "                        <td>265</td>\n",
       "                    </tr>\n",
       "                    <tr>\n",
       "                        <th>Q3</th>\n",
       "                        <td>274.5</td>\n",
       "                    </tr>\n",
       "                    <tr>\n",
       "                        <th>95-th percentile</th>\n",
       "                        <td>283.15</td>\n",
       "                    </tr>\n",
       "                    <tr>\n",
       "                        <th>Maximum</th>\n",
       "                        <td>289</td>\n",
       "                    </tr>\n",
       "                    <tr>\n",
       "                        <th>Range</th>\n",
       "                        <td>39</td>\n",
       "                    </tr>\n",
       "                    <tr>\n",
       "                        <th>Interquartile range</th>\n",
       "                        <td>12.5</td>\n",
       "                    </tr>\n",
       "                </table>\n",
       "            </div>\n",
       "            <div class=\"col-md-4 col-md-offset-2\">\n",
       "                <p class=\"h4\">Descriptive statistics</p>\n",
       "                <table class=\"stats indent\">\n",
       "                    <tr>\n",
       "                        <th>Standard deviation</th>\n",
       "                        <td>9.8969</td>\n",
       "                    </tr>\n",
       "                    <tr>\n",
       "                        <th>Coef of variation</th>\n",
       "                        <td>0.036998</td>\n",
       "                    </tr>\n",
       "                    <tr>\n",
       "                        <th>Kurtosis</th>\n",
       "                        <td>-0.51459</td>\n",
       "                    </tr>\n",
       "                    <tr>\n",
       "                        <th>Mean</th>\n",
       "                        <td>267.5</td>\n",
       "                    </tr>\n",
       "                    <tr>\n",
       "                        <th>MAD</th>\n",
       "                        <td>8.1</td>\n",
       "                    </tr>\n",
       "                    <tr class=\"\">\n",
       "                        <th>Skewness</th>\n",
       "                        <td>0.23981</td>\n",
       "                    </tr>\n",
       "                    <tr>\n",
       "                        <th>Sum</th>\n",
       "                        <td>10700</td>\n",
       "                    </tr>\n",
       "                    <tr>\n",
       "                        <th>Variance</th>\n",
       "                        <td>97.949</td>\n",
       "                    </tr>\n",
       "                    <tr>\n",
       "                        <th>Memory size</th>\n",
       "                        <td>400.0 B</td>\n",
       "                    </tr>\n",
       "                </table>\n",
       "            </div>\n",
       "        </div>\n",
       "        <div role=\"tabpanel\" class=\"tab-pane col-md-8 col-md-offset-2\" id=\"histogram-9138426861778195105\">\n",
       "            <img src=\"data:image/png;base64,iVBORw0KGgoAAAANSUhEUgAAAlgAAAGQCAYAAAByNR6YAAAABHNCSVQICAgIfAhkiAAAAAlwSFlzAAAPYQAAD2EBqD%2BnaQAAADl0RVh0U29mdHdhcmUAbWF0cGxvdGxpYiB2ZXJzaW9uIDMuMC4zLCBodHRwOi8vbWF0cGxvdGxpYi5vcmcvnQurowAAIABJREFUeJzt3XuUzfX%2Bx/HXzOyJQXOaLlOny1rKoBpkKsZ9ZTJNFzq5NUlCTjrlEotIhCNyPYlmkSiKVjOyFB1CSkokuQzKEEcuR5kpM4zb3Pbn94efOfbMYIbP%2BO7v9nysZVk%2Be%2B%2Bv92u%2Be%2B95%2BX6/swUZY4wAAABgTbDTAwAAAAQaChYAAIBlFCwAAADLKFgAAACWUbAAAAAso2ABAABYRsECAACwjIIFAABgGQULAADAMgoWAACAZRQsAAAAyyhYAAAAllGwAAAALKNgAQAAWEbBAgAAsIyCBQAAYBkFCwAAwDIKFgAAgGUULAAAAMsoWAAAAJZRsAAAACyjYAEAAFhGwQIAALCMggUAAGAZBQsAAMAyChYAAIBlFCwAAADLKFgAAACWUbAAAAAso2ABAABYRsECAACwjIIFAABgGQULAADAMgoWAACAZRQsAAAAyyhYAAAAllGwAAAALKNgAQAAWEbBAgAAsMzj9ACXi4yMbOvbDA4O0tVXV9ahQ8fk9Rrr23ca%2BdyNfO4WyPkCOZtEvqKuu%2B7KSzBVcRzBcrHg4CAFBQUpODjI6VHKBfncjXzuFsj5AjmbRD5/QcECAACwjIIFAABgGQULAADAMgoWAACAZRQsAAAAyyhYAAAAllGwAAAALKNgAQAAWEbBAgAAsIyCBQAAYBkFCwAAwDIKFgAAgGUULAAAAMs8Tg8AwI6H3vzO6RFK7fM%2BjZ0eAQDKFUewAAAALKNgAQAAWEbBAgAAsIyCBQAAYBkFCwAAwDIKFgAAgGUULAAAAMsoWAAAAJZRsAAAACyjYAEAAFhGwQIAALCMggUAAGAZBQsAAMAyChYAAIBlFCwAAADLKFgAAACWUbAAAAAso2ABAABYRsECAACwjIIFAABgGQULAADAMgoWAACAZZd1wTp06JDi4%2BO1du3awrXU1FS1b99eMTExiouL08cff%2BzghAAAwI0u24K1fv16JSYmau/evYVrhw8fVvfu3fXYY49p3bp1GjVqlEaPHq3Nmzc7OCkAAHCby7JgffLJJ%2Brfv7/69u3rs75s2TJdddVV6tixozwejxo2bKhWrVrpww8/dGhSAADgRpdlwWrSpIm%2B%2BOILPfzwwz7rv/zyi2rUqOGzFhUVpbS0tEs5HgAAcDmP0wM44brrritx/dixYwoLC/NZq1ixoo4fP16m7aenpysjI8NnzeOppMjIyLINeh4hIcE%2Bvwca8gUuj8f9mQN9/wVyvkDOJpHPX1yWBetswsLClJ2d7bN28uRJVa5cuUzbSUlJUVJSks9ajx491Lt374uesSTh4WHnv5OLkS/wRESU7TXlzwJ9/wVyvkDOJpHPaRSsM9SoUUPfffedz9rOnTtVvXr1Mm0nMTFRcXFxPmseTyVlZh676BnPFBISrPDwMB05ckIFBV6r2/YH5Atctl8LTgj0/RfI%2BQI5m0S%2Bopz6Bx0F6wzx8fEaP368Zs2apY4dO2r9%2BvX67LPPNGXKlDJtJzIystjpwIyMbOXnl88TvaDAW27b9gfkCzyBlDfQ918g5wvkbBL5nObfJzAvsYiICL333ntasmSJYmNjNWTIEA0ZMkQNGjRwejQAAOAil/0RrO3bt/v8uXbt2kpOTnZoGgAAEAg4ggUAAGAZBQsAAMAyChYAAIBlFCwAAADLKFgAAACWUbAAAAAso2ABAABYRsECAACwjIIFAABgGQULAADAMgoWAACAZRQsAAAAyyhYAAAAllGwAAAALKNgAQAAWEbBAgAAsIyCBQAAYBkFCwAAwDIKFgAAgGUULAAAAMsoWAAAAJZRsAAAACyjYAEAAFhGwQIAALCMggUAAGAZBQsAAMAyChYAAIBlFCwAAADLKFgAAACWUbAAAAAso2ABAABYRsECAACwjIIFAABgGQULAADAMgoWAACAZRQsAAAAyyhYAAAAllGwAAAALKNgAQAAWEbBAgAAsIyCBQAAYBkFCwAAwDIKFgAAgGUULAAAAMsoWAAAAJZRsAAAACyjYJXgp59%2BUseOHXXvvfeqSZMmGjlypHJzc50eCwAAuAQFqwiv16vnnntOCQkJ%2BuGHHzRv3jytWrVK06dPd3o0AADgEhSsIg4fPqyMjAx5vV4ZYyRJwcHBCgsLc3gyAADgFh6nB/A3ERER6tKli8aOHatx48apoKBA999/v7p06VLqbaSnpysjI8NnzeOppMjISKuzhoQE%2B/weaMgXuDwe92cO9P0XyPkCOZtEPn9BwSrC6/WqYsWKevXVV9WuXTvt2bNHPXv21OTJk9WnT59SbSMlJUVJSUk%2Baz169FDv3r3LY2SFhwf20TXyBZ6IiMpOj2BNoO%2B/QM4XyNkk8jktyJw%2BDwZJ0tKlSzVx4kQtWbKkcG3hwoUaNWqU1q5dW6ptXMojWOHhYTpy5IQKCrxWt%2B0PyFc28RO%2BtTDVpfFF/6ZOj3DReH66VyBnk8hXlFP/oOMIVhG//fZbsZ8Y9Hg8Cg0NLfU2IiMji5WpjIxs5eeXzxO9oMBbbtv2B%2BQLPIGUN9D3XyDnC%2BRsEvmc5t8nMB3QpEkTZWRk6O2331ZBQYH27dunqVOnqlWrVk6PBgAAXIKCVURUVJSmTZumr776SrGxsXr66acVFxenvn37Oj0aAABwCU4RlqBRo0Zq1KiR02MAAACX4ggWAACAZRQsAAAAyyhYAAAAllGwAAAALKNgAQAAWEbBAgAAsIyCBQAAYBkFCwAAwDIKFgAAgGUULAAAAMsoWAAAAJZRsAAAACyjYAEAAFhGwQIAALCMggUAAGAZBQsAAMAyChYAAIBlFCwAAADLKFgAAACWUbAAAAAso2ABAABYRsECAACwzHUFq6CgwOkRAAAAzsl1BatZs2YaN26cdu7c6fQoAAAAJXJdwerZs6c2bNigli1bqn379kpOTlZ2drbTYwEAABRyXcHq0KGDkpOTtWTJEjVq1EjTp09XkyZN1K9fP61evdrp8QAAANxXsE6rWrWq%2BvbtqyVLlqhHjx768ssv1a1bN8XFxWnmzJlcqwUAABzjcXqAC5WamqpPP/1UixcvVm5uruLj49WmTRsdPHhQkyZN0pYtW/TGG284PSYAALgMua5gTZkyRQsWLNCePXtUu3Zt9e3bVy1btlSVKlUK7xMSEqKhQ4c6OCUAALicua5gzZkzR48%2B%2BqjatWunqKioEu9TrVo19e/f/xJPBgAAcIrrCtY333yjo0ePKisrq3Bt8eLFatiwoSIiIiRJd955p%2B68806nRgQAAJc5113k/vPPPyshIUEpKSmFa%2BPHj1erVq20Y8cOBycDAAA4xXUFa9y4cXrggQfUt2/fwrXly5erWbNmGjNmjIOTAQAAnOK6gvXTTz%2Bpe/fuuuKKKwrXQkJC1L17d23atMnByQAAAE5xXcGqUqWK9u7dW2z9999/V8WKFR2YCAAAwJfrClZCQoKGDx%2Bu1atX6%2BjRozp27Ji%2B//57jRgxQvHx8U6PBwAA4L6fIuzXr5/27dunZ555RkFBQYXr8fHxGjBggIOTAQAAnOK6ghUWFqZp06Zp9%2B7d2r59u0JDQ1WtWjVVrVrV6dEAAAAkubBgnXbrrbfq1ltvdXoMAACAYlxXsHbv3q0RI0Zo/fr1ysvLK3b7tm3bHJgKAADgf1xXsIYPH64DBw6of//%2BuvLKK50eBwAAoBjXFayNGzfq/fffV0xMjNOjAAAAlMh1H9MQERGhypUrOz0GAADAWbmuYHXq1ElvvPGGsrOznR4FAACgRK47Rbhy5Upt2rRJsbGxuuaaa3z%2ByxxJ%2BvLLLx2aDAAA4BTXFazY2FjFxsaW69%2BRlZWl119/XStXrpTX61W9evU0fPhwRUZGluvfCwAAAoPrClbPnj3L/e/o1auX/vKXv%2BiLL75QcHCwBg0apFdffVXTpk0r978bAAC4n%2BsKliSlpaXp/fff1%2B7duzVp0iQtX75cUVFRVo5sbd26VampqVq9erWqVKkiSXrttdeUkZFx0dsGAACXB9dd5L5161a1b99e%2B/fv19atW5Wbm6tt27bpmWee0YoVKy56%2B5s3b1ZUVJTmzp2r%2BPh4NWnSRGPHjtV1111nYXoAAHA5cN0RrAkTJuiZZ55R3759Cz8La%2BTIkbryyiuVlJSk5s2bX9T2Dx8%2BrO3bt6tWrVr65JNPdPLkSQ0YMEADBw4s9SnC9PT0Yke8PJ5K1q/hCgkJ9vk90JAvcHk87s8c6PsvkPMFcjaJfP7CdQVr69atGjZsWLH1Dh06KDk5%2BaK3f/qnEgcPHqwKFSqoSpUq6tOnjx5//HEdO3asVJ/BlZKSoqSkJJ%2B1Hj16qHfv3hc9X0nCw8PKZbv%2BgnyBJyIicD7LLtD3XyDnC%2BRsEvmc5rqCFRoaqqNHjxZbP3DggMLCLv6LHRUVJa/Xq7y8PFWoUEGS5PV6JUnGmFJtIzExUXFxcT5rHk8lZWYeu%2Bj5zhQSEqzw8DAdOXJCBQVeq9v2B%2BQLXLZfC04I9P0XyPkCOZtEvqKc%2Bged6wpWixYt9K9//UsTJ04sXNu1a5dGjRql%2B%2B6776K336hRI91yyy165ZVXNHr0aOXk5GjixIlq0aJF4UXv5xMZGVnsdGBGRrby88vniV5Q4C23bfsD8gWeQMob6PsvkPMFcjaJfE7z7xOYJRg4cKBOnjypRo0a6cSJE2rTpo1atmwpj8ejAQMGXPT2Q0NDNXv2bIWEhCghIUEJCQm64YYb9Prrr1uYHgAAXA5cdwSrSpUqSk5O1po1a/Tzzz/L6/WqRo0aatq0qYKD7fTF66%2B/3ucIGQAAQFm4rmCd1rBhQzVs2NDpMQAAAIpxXcGKi4tTUFDQWW/n/yIEAABOc13Bat26tU/BysvL0549e/TNN9%2BoT58%2BDk4GAABwiusKVq9evUpcnzNnjtavX6%2Bnn376Ek8EAADgy3U/RXg2zZs318qVK50eAwAAIHAK1g8//FD4waAAAABOct0pwqKnAI0xOnr0qLZv387pQQAA4BdcV7BuvPHGYj9FGBoaqs6dO6tVq1YOTQUAAPA/ritYY8aMcXoEAACAc3JdwVq3bl2p71uvXr1ynAQAAKBkritYXbp0kTGm8Ndpp08bnl4LCgrStm3bHJkRAABc3lxXsN566y2NHj1aAwcOVIMGDRQaGqrU1FQNHz5cTz75pJo3b%2B70iAAA4DLnuo9pGDt2rIYNG6YWLVqoSpUqqlChgurXr68RI0bovffe00033VT4CwAAwAmuK1jp6en661//Wmy9SpUqyszMdGAiAAAAX64rWHXr1tUbb7yho0ePFq5lZWVp/PjxatiwoYOTAQAAnOK6a7CGDBmizp07q1mzZqpataokaffu3bruuuv0wQcfODscAACAXFiwqlWrpsWLF%2Buzzz7Trl27JElPPvmkHnnkEYWFhTk8HQAAgAsLliSFh4erffv22r9/v2655RZJpz7NHQAAwB%2B47hosY4wmTJigevXqqWXLlvr99981cOBADRo0SHl5eU6PBwAA4L6CNXv2bC1YsEDDhg3TFVdcIUlq0aKFvvrqK02aNMnh6QAAAFxYsFJSUjR06FC1adOm8NPbH374YY0aNUqLFi1yeDoAAAAXFqz9%2B/frjjvuKLZes2ZN/fHHHw5MBAAA4Mt1F7nfdNNN2rx5s26%2B%2BWaf9ZUrVxZe8A7Avz305ndOj1Amn/dp7PQIAYvnAgKV6wpWt27d9M9//lMHDx6UMUZr1qxRcnKyZs%2BerUGDBjk9HgAAgPsKVtu2bZWfn6%2BpU6fq5MmTGjp0qK655hr17dtXHTp0cHo8AAAA9xWshQsX6sEHH1RiYqIOHTokY4yuueYap8cCAAAo5LqL3EeOHFl4MfvVV19NuQIAAH7HdQWratWq2r59u9NjAAAAnJXrThFWr15d/fv314wZM1S1alVVqFDB5/bRo0c7NBkAAMApritYe/fu1T333CNJysjIcHgaAACA4lxRsEaPHq0XX3xRlSpV0uzZs50eBwAA4JxccQ3WBx98oBMnTvisdevWTenp6Q5NBAAAcHauKFjGmGJrGzZsUE5OjgPTAAAAnJsrChYAAICbULAAAAAsc03BCgoKcnoEAACAUnHFTxFKpz7B/czPvMrLy9P48eNVuXJln/vxOVgAAMBprihY9erVK/aZVzExMcrMzFRmZqZDUwEAAJTMFQWLz74CAABu4pprsAAAANyCggUAAGAZBQsAAMAyChYAAIBlFCwAAADLKFgAAACWUbAAAAAso2CdQ0FBgTp16qSXX37Z6VEAAICLULDOISkpST/%2B%2BKPTYwAAAJehYJ3FmjVrtGzZMj3wwANOjwIAAFzGFf9VzqX2559/avDgwZoyZYpmzZpV5senp6cX%2B78TPZ5KioyMtDThKSEhwT6/BxrywV94PMX3UaDvv0DPd6FKei74m0Dfd27JR8Eqwuv16qWXXlLXrl11%2B%2B23X9A2UlJSlJSU5LPWo0cP9e7d28aIPu4dvMT6NsvLj6MevKDHhYeHWZ6kdNz0tUX5ioiofNbbnHp%2BngvP3fJzrueCv/HH56ZN/p6PglXEtGnTdMUVV6hTp04XvI3ExETFxcX5rHk8lZSZeexix/Ph7%2B29qLLmDwkJVnh4mI4cOaGCAm85TQWcX0nPXZ6flyfb7%2BPlIdCfm2XN51QppmAVsWDBAqWnp%2Bvee%2B%2BVJJ08eVKStHz58lJf8B4ZGVnsdGBGRrby8wPviV4WF5q/oMB72X/t4KxzPf94fl5e3LSvA/256e/5KFhFLFnie2j99Ec0jBkzxolxAACAC7nrHBMAAIALcATrPDhyBQAAyoojWAAAAJZRsAAAACyjYAEAAFhGwQIAALCMggUAAGAZBQsAAMAyChYAAIBlFCwAAADLKFgAAACWUbAAAAAso2ABAABYRsECAACwjIIFAABgGQULAADAMgoWAACAZRQsAAAAyyhYAAAAllGwAAAALKNgAQAAWEbBAgAAsIyCBQAAYBkFCwAAwDKP0wMAgL976M3vnB4BgMtwBAsAAMAyChYAAIBlFCwAAADLKFgAAACWUbAAAAAso2ABAABYRsECAACwjIIFAABgGQULAADAMgoWAACAZRQsAAAAyyhYAAAAllGwAAAALKNgAQAAWEbBAgAAsIyCBQAAYBkFCwAAwDIKFgAAgGUULAAAAMsoWAAAAJZRsAAAACyjYAEAAFhGwSpBWlqaunbtqvr166tx48YaMGCADh065PRYAADAJShYRZw8eVJ///vfFRMTo1WrVunf//63srKy9Morrzg9GgAAcAkKVhEHDhzQ7bffrh49euiKK65QRESEEhMTtW7dOqdHAwAALuFxegB/c9ttt2nGjBk%2Ba0uXLlV0dLRDEwEAALehYJ2DMUZvvvmmVqxYoTlz5pT6cenp6crIyPBZ83gqKTIy0up8ISHuOgDp8ZRt3tP53JYTQOAq6/uYEwL9vdMt%2BShYZ3H06FENGjRIP/30k%2BbMmaOaNWuW%2BrEpKSlKSkryWevRo4d69%2B5te0xXiYiofEGPCw8PszwJAFyYC30fc0J4eJjuHbzE6TFK7cdRD5bp/v7%2BvYGCVYK9e/fq2Wef1Y033qh58%2Bbp6quvLtPjExMTFRcX57Pm8VRSZuYxm2P6fXsvqqz5Q0KCFR4epiNHTqigwFtOUwFA6dl%2BHy8PZ753uklpv7Zl/d7gVCmmYBVx%2BPBhde7cWQ0aNNCoUaMUHFz2EhMZGVnsdGBGRrby8y/vknCh%2BQsKvJf91w6Af3DTe5Hb/mFa1q%2Btv39voGAVMX/%2BfB04cECff/65lizxPbS6ceNGh6YCAABuQsEqomvXruratavTYwAAABdz10U8AAAALkDBAgAAsIyCBQAAYBkFCwAAwDIKFgAAgGUULAAAAMsoWAAAAJZRsAAAACyjYAEAAFhGwQIAALCMggUAAGAZBQsAAMAyChYAAIBlFCwAAADLKFgAAACWUbAAAAAso2ABAABYRsECAACwjIIFAABgGQULAADAMgoWAACAZRQsAAAAyzxOD4DLx0Nvfuf0CABwUXgfQ2lxBAsAAMAyChYAAIBlFCwAAADLKFgAAACWUbAAAAAso2ABAABYRsECAACwjIIFAABgGQULAADAMgoWAACAZRQsAAAAyyhYAAAAllGwAAAALKNgAQAAWEbBAgAAsIyCBQAAYBkFCwAAwDIKFgAAgGUULAAAAMsoWAAAAJZRsAAAACyjYAEAAFhGwSrBn3/%2BqRdeeEH33nuvYmNjNWrUKOXn5zs9FgAAcAkKVgn69OmjSpUq6dtvv9W8efO0Zs0azZo1y%2BmxAACAS1CwitizZ49%2B%2BOEHvfTSSwoLC9Mtt9yiF154QR9%2B%2BKHTowEAAJegYBXxyy%2B/6KqrrtL1119fuFatWjUdOHBAR44ccXAyAADgFh6nB/A3x44dU1hYmM/a6T8fP35c4eHh591Genq6MjIyfNY8nkqKjIy0N6ikkBD6MQAgMHg8pfuedvp7n79/D6RgFVGpUiWdOHHCZ%2B30nytXrlyqbaSkpCgpKclnrWfPnurVq5edIf9fenq6Ot/wixITE62XN3%2BQnp6ulJQU8rkU%2BdwtkPMFcjbp8sj3/vsz/D6ff9c/B1SvXl1ZWVn6448/Ctd27dqlG264QVdeeWWptpGYmKj58%2Bf7/EpMTLQ%2Ba0ZGhpKSkoodLQsU5HM38rlbIOcL5GwS%2BfwFR7CKqFq1qu655x69/vrrGjFihDIzMzVlyhS1a9eu1NuIjIz061YNAADKF0ewSjB58mTl5%2Bfr/vvv1%2BOPP66mTZvqhRdecHosAADgEhzBKsG1116ryZMnOz0GAABwqZDhw4cPd3oIXLjKlSurfv36pb4A323I527kc7dAzhfI2STy%2BYMgY4xxeggAAIBAwjVYAAAAllGwAAAALKNgAQAAWEbBAgAAsIyCBQAAYBkFCwAAwDIKFgAAgGUULAAAAMsoWH4qLS1NXbt2Vf369dW4cWMNGDBAhw4dkiQNGzZMtWrVUkxMTOGvlJSUwsdOnz5dzZo1U926ddWpUyf95z//cSrGWV1oPq/Xq5iYGNWtW9fn9uPHjzsZp5hz5UtLS1Pnzp0VExOjRo0aafTo0crPzy987CeffKL4%2BHjVrVtXbdq00caNG52KcVYXk%2B%2Bhhx7SXXfd5bP/du3a5VSUYs6WbejQoT4zx8TE6I477lC3bt0KH%2Bvm19758gXCa2/RokV66KGHdPfddyshIUEfffSRz2PdvP%2Bkc%2BcLhP23cuVKPfbYY4qJidGjjz6qL774wuexfvfeaeB3Tpw4YRo3bmwmTZpkcnJyzKFDh8yzzz5rnnvuOWOMMa1btzbz588v8bHz5883TZs2NTt27DAnT540o0ePNo888ojxer2XMsI5XUy%2B7du3m%2BjoaJOTk3MpRy6Tc%2BX7888/TWxsrHn77bdNbm6u2bdvn3nggQfMjBkzjDHGfP/99yYmJsb8%2BOOPJjc318ycOdPExsaa48ePO5zqfy4mX3Z2tqlZs6bZv3%2B/wylKdr7n5pm%2B/fZbU79%2BfbNjxw5jTGC89s5UNJ/bX3vbt283d911l9m4caMxxpj169eb6Ohos27dOmOM%2B/ff%2BfK5ff9t3brVREdHm7lz55q8vDyzbt06ExMTY77//ntjjH%2B%2Bd1Kw/NCuXbtMt27dTH5%2BfuHa8uXLzd13321ycnJMdHR04ZteUU888YSZOnVq4Z9zc3NNTEyMWbNmTbnPXVoXk2/evHmmTZs2l2rUC3KufO%2B%2B%2B65JTEz0uf/%2B/fvNf//7X2OMMf369TNDhgzxuf3BBx808%2BbNK//BS%2Bli8q1Zs8bExsZe0nnL4lzZznS6SC5YsKBwze2vvTOVlM/tr72lS5ea6Ohos379euP1es2GDRtMnTp1TGpqqjHG/fvvfPncvv/Gjx9vOnXq5HP/oUOHmhdffNEY45/vnZwi9EO33XabZsyYoZCQkMK1pUuXKjo6WmlpacrPz9fkyZPVqFEjJSQk6J133pHX65Uk7dy5UzVq1Ch8XGhoqKpWraq0tLRLnuNsLibfli1blJOTo7Zt26pBgwbq2LGjNmzY4FSUEp0r3%2BbNm1WjRg0NHTpUjRs3VosWLbRw4ULdcMMNkorvP0mKiopyzf47X74tW7YoLCxMTz31lGJjY9WmTRutWLHCqSjFnCvbmSZMmKBatWrp0UcfLVxz%2B2vvTCXlc/trr0mTJqpbt646dOig6OhoPfHEE3rxxRdVp04dSe7ff%2BfL5/b9V1BQoEqVKvncPzg4uPA0rj%2B%2Bd1Kw/JwxRhMnTtSKFSs0ePBgZWdnq379%2BurUqZNWrlyp8ePHa/bs2XrvvfckSceOHVNYWJjPNipWrOh359lPK2u%2BihUrqk6dOpoyZYq%2B/vprxcXFqVu3btq3b5/DSUpWNN/hw4c1f/581alTR19//bWSkpKUkpKimTNnSnL//jtfvqCgINWuXVsjR47Ut99%2Bqy5duqhXr17atGmTw0mKK5rttH379mnhwoXq16%2Bfz/3dvu9OO1s%2Bt7/2cnNzdfPNN2vmzJlKTU3VtGnT9NZbb2nVqlWS3L//zpfP7fsvPj5eq1at0tKlS5Wfn6/169dr8eLFysnJkeSn%2B8%2BxY2c4r%2BzsbNOzZ0/TvHlzk5aWdtb7TZ8%2B3bRu3doYY8zdd99tvvrqK5/bW7dubWbNmlWus16IC8lXkocfftjMnj27PEa8KCXl6969u3niiSd87jd9%2BnTTtm1bY4wxrVq1KpalZ8%2BeZtSoUZdm6DK4kHwlefbZZ82YMWPKddayOtdzc%2BLEieapp54q9phAee2dLV9J3PTaGzFihHn11Vd97jd48GDTs2dPY4z799/58pXETfvPGGMWLVpkWrZsaerXr2%2Bef/55M2bMGNOuXTtjjH%2B%2Bd3IEy0/t3btXbdu21dGjRzVv3jzVrFlTkrR8%2BXIlJyf73Dc3N1cVK1aUJFWvXl2//PJL4W15eXn69ddfix06ddrE2QkhAAADLUlEQVSF5ps4caJ%2B/vnnYrdXqFDh0gxeSmfLV61aNeXm5vrc1%2Bv1yhgjqfj%2Bk04d%2Bq5evfqlGbyULjTfu%2B%2B%2BqzVr1vjc7m/772zZTlu2bJn%2B9re/FXuc2197p50tn9tfewcOHFBeXp7PfT0ej0JDQyW5f/%2BdL5/b919WVpaqV6%2Buzz77TGvXrtWUKVP022%2B/qVatWpL89L3TsWqHs8rKyjL33Xefefnll01BQYHPbcuWLTN16tQxq1evLryQMTY21nz66afGGGPmzp1rmjZtarZt21b4kzDx8fEmNzfXiSgluph8//jHP8yTTz5p0tPTTU5OjnnrrbdMgwYNTGZmphNRSnSufDt37jS1atUy77zzjsnPzzdpaWmmadOm5v333zfGGLN69erCC2tP/yRMvXr1Aibfa6%2B9ZhISEszevXtNXl6e%2Bfjjj02dOnXMr7/%2B6kSUYs6VzRhjDh06ZGrUqFHivG5/7Rlz7nxuf%2B3NnTvX1KlTx3zzzTfG6/WatWvXmpiYmMKjVm7ff%2BfL5/b9t2nTJlO3bl2zbds2k5eXZxYtWmTq1KlT%2BANR/vjeGWTM///TEn5j5syZGjNmjMLCwhQUFORz28aNG5WcnKyZM2fq4MGDuvbaa9W1a1d17NhR0qnz1jNnztSHH36oQ4cOqXbt2vrnP/%2BpW2%2B91YkoJbqYfFlZWRo7dqxWrlypEydOqHbt2nrllVd0%2B%2B23OxGlROfLl5qaqnHjxmnHjh2qWLGiOnTooOeff77wvgsWLNDUqVN18OBBRUVFaciQIbrrrruciFKii8mXm5urCRMm6PPPP1d2draioqL00ksvKTY21qE0vs6XbcuWLWrXrp1SU1MLj6qeFgivvXPlC4TX3uzZszVnzhxlZGToxhtvVPfu3Qsv5A%2BE/XeufIGw/z766CNNnz5dmZmZuu2229S/f381bNiw8D7%2B9t5JwQIAALCMa7AAAAAso2ABAABYRsECAACwjIIFAABgGQULAADAMgoWAACAZRQsAAAAyyhYAAAAllGwAAAALKNgAQAAWEbBAgAAsIyCBQAAYBkFCwAAwDIKFgAAgGUULAAAAMv%2BD%2B0HZRuOcTjHAAAAAElFTkSuQmCC\"/>\n",
       "        </div>\n",
       "        <div role=\"tabpanel\" class=\"tab-pane col-md-12\" id=\"common-9138426861778195105\">\n",
       "            \n",
       "<table class=\"freq table table-hover\">\n",
       "    <thead>\n",
       "    <tr>\n",
       "        <td class=\"fillremaining\">Value</td>\n",
       "        <td class=\"number\">Count</td>\n",
       "        <td class=\"number\">Frequency (%)</td>\n",
       "        <td style=\"min-width:200px\">&nbsp;</td>\n",
       "    </tr>\n",
       "    </thead>\n",
       "    <tr class=\"\">\n",
       "        <td class=\"fillremaining\">262</td>\n",
       "        <td class=\"number\">4</td>\n",
       "        <td class=\"number\">10.0%</td>\n",
       "        <td>\n",
       "            <div class=\"bar\" style=\"width:25%\">&nbsp;</div>\n",
       "        </td>\n",
       "</tr><tr class=\"\">\n",
       "        <td class=\"fillremaining\">263</td>\n",
       "        <td class=\"number\">4</td>\n",
       "        <td class=\"number\">10.0%</td>\n",
       "        <td>\n",
       "            <div class=\"bar\" style=\"width:25%\">&nbsp;</div>\n",
       "        </td>\n",
       "</tr><tr class=\"\">\n",
       "        <td class=\"fillremaining\">264</td>\n",
       "        <td class=\"number\">3</td>\n",
       "        <td class=\"number\">7.5%</td>\n",
       "        <td>\n",
       "            <div class=\"bar\" style=\"width:19%\">&nbsp;</div>\n",
       "        </td>\n",
       "</tr><tr class=\"\">\n",
       "        <td class=\"fillremaining\">274</td>\n",
       "        <td class=\"number\">2</td>\n",
       "        <td class=\"number\">5.0%</td>\n",
       "        <td>\n",
       "            <div class=\"bar\" style=\"width:13%\">&nbsp;</div>\n",
       "        </td>\n",
       "</tr><tr class=\"\">\n",
       "        <td class=\"fillremaining\">260</td>\n",
       "        <td class=\"number\">2</td>\n",
       "        <td class=\"number\">5.0%</td>\n",
       "        <td>\n",
       "            <div class=\"bar\" style=\"width:13%\">&nbsp;</div>\n",
       "        </td>\n",
       "</tr><tr class=\"\">\n",
       "        <td class=\"fillremaining\">250</td>\n",
       "        <td class=\"number\">2</td>\n",
       "        <td class=\"number\">5.0%</td>\n",
       "        <td>\n",
       "            <div class=\"bar\" style=\"width:13%\">&nbsp;</div>\n",
       "        </td>\n",
       "</tr><tr class=\"\">\n",
       "        <td class=\"fillremaining\">281</td>\n",
       "        <td class=\"number\">2</td>\n",
       "        <td class=\"number\">5.0%</td>\n",
       "        <td>\n",
       "            <div class=\"bar\" style=\"width:13%\">&nbsp;</div>\n",
       "        </td>\n",
       "</tr><tr class=\"\">\n",
       "        <td class=\"fillremaining\">266</td>\n",
       "        <td class=\"number\">2</td>\n",
       "        <td class=\"number\">5.0%</td>\n",
       "        <td>\n",
       "            <div class=\"bar\" style=\"width:13%\">&nbsp;</div>\n",
       "        </td>\n",
       "</tr><tr class=\"\">\n",
       "        <td class=\"fillremaining\">269</td>\n",
       "        <td class=\"number\">2</td>\n",
       "        <td class=\"number\">5.0%</td>\n",
       "        <td>\n",
       "            <div class=\"bar\" style=\"width:13%\">&nbsp;</div>\n",
       "        </td>\n",
       "</tr><tr class=\"\">\n",
       "        <td class=\"fillremaining\">272</td>\n",
       "        <td class=\"number\">1</td>\n",
       "        <td class=\"number\">2.5%</td>\n",
       "        <td>\n",
       "            <div class=\"bar\" style=\"width:7%\">&nbsp;</div>\n",
       "        </td>\n",
       "</tr><tr class=\"other\">\n",
       "        <td class=\"fillremaining\">Other values (16)</td>\n",
       "        <td class=\"number\">16</td>\n",
       "        <td class=\"number\">40.0%</td>\n",
       "        <td>\n",
       "            <div class=\"bar\" style=\"width:100%\">&nbsp;</div>\n",
       "        </td>\n",
       "</tr>\n",
       "</table>\n",
       "        </div>\n",
       "        <div role=\"tabpanel\" class=\"tab-pane col-md-12\"  id=\"extreme-9138426861778195105\">\n",
       "            <p class=\"h4\">Minimum 5 values</p>\n",
       "            \n",
       "<table class=\"freq table table-hover\">\n",
       "    <thead>\n",
       "    <tr>\n",
       "        <td class=\"fillremaining\">Value</td>\n",
       "        <td class=\"number\">Count</td>\n",
       "        <td class=\"number\">Frequency (%)</td>\n",
       "        <td style=\"min-width:200px\">&nbsp;</td>\n",
       "    </tr>\n",
       "    </thead>\n",
       "    <tr class=\"\">\n",
       "        <td class=\"fillremaining\">250</td>\n",
       "        <td class=\"number\">2</td>\n",
       "        <td class=\"number\">5.0%</td>\n",
       "        <td>\n",
       "            <div class=\"bar\" style=\"width:100%\">&nbsp;</div>\n",
       "        </td>\n",
       "</tr><tr class=\"\">\n",
       "        <td class=\"fillremaining\">251</td>\n",
       "        <td class=\"number\">1</td>\n",
       "        <td class=\"number\">2.5%</td>\n",
       "        <td>\n",
       "            <div class=\"bar\" style=\"width:50%\">&nbsp;</div>\n",
       "        </td>\n",
       "</tr><tr class=\"\">\n",
       "        <td class=\"fillremaining\">253</td>\n",
       "        <td class=\"number\">1</td>\n",
       "        <td class=\"number\">2.5%</td>\n",
       "        <td>\n",
       "            <div class=\"bar\" style=\"width:50%\">&nbsp;</div>\n",
       "        </td>\n",
       "</tr><tr class=\"\">\n",
       "        <td class=\"fillremaining\">255</td>\n",
       "        <td class=\"number\">1</td>\n",
       "        <td class=\"number\">2.5%</td>\n",
       "        <td>\n",
       "            <div class=\"bar\" style=\"width:50%\">&nbsp;</div>\n",
       "        </td>\n",
       "</tr><tr class=\"\">\n",
       "        <td class=\"fillremaining\">259</td>\n",
       "        <td class=\"number\">1</td>\n",
       "        <td class=\"number\">2.5%</td>\n",
       "        <td>\n",
       "            <div class=\"bar\" style=\"width:50%\">&nbsp;</div>\n",
       "        </td>\n",
       "</tr>\n",
       "</table>\n",
       "            <p class=\"h4\">Maximum 5 values</p>\n",
       "            \n",
       "<table class=\"freq table table-hover\">\n",
       "    <thead>\n",
       "    <tr>\n",
       "        <td class=\"fillremaining\">Value</td>\n",
       "        <td class=\"number\">Count</td>\n",
       "        <td class=\"number\">Frequency (%)</td>\n",
       "        <td style=\"min-width:200px\">&nbsp;</td>\n",
       "    </tr>\n",
       "    </thead>\n",
       "    <tr class=\"\">\n",
       "        <td class=\"fillremaining\">280</td>\n",
       "        <td class=\"number\">1</td>\n",
       "        <td class=\"number\">2.5%</td>\n",
       "        <td>\n",
       "            <div class=\"bar\" style=\"width:50%\">&nbsp;</div>\n",
       "        </td>\n",
       "</tr><tr class=\"\">\n",
       "        <td class=\"fillremaining\">281</td>\n",
       "        <td class=\"number\">2</td>\n",
       "        <td class=\"number\">5.0%</td>\n",
       "        <td>\n",
       "            <div class=\"bar\" style=\"width:100%\">&nbsp;</div>\n",
       "        </td>\n",
       "</tr><tr class=\"\">\n",
       "        <td class=\"fillremaining\">283</td>\n",
       "        <td class=\"number\">1</td>\n",
       "        <td class=\"number\">2.5%</td>\n",
       "        <td>\n",
       "            <div class=\"bar\" style=\"width:50%\">&nbsp;</div>\n",
       "        </td>\n",
       "</tr><tr class=\"\">\n",
       "        <td class=\"fillremaining\">286</td>\n",
       "        <td class=\"number\">1</td>\n",
       "        <td class=\"number\">2.5%</td>\n",
       "        <td>\n",
       "            <div class=\"bar\" style=\"width:50%\">&nbsp;</div>\n",
       "        </td>\n",
       "</tr><tr class=\"\">\n",
       "        <td class=\"fillremaining\">289</td>\n",
       "        <td class=\"number\">1</td>\n",
       "        <td class=\"number\">2.5%</td>\n",
       "        <td>\n",
       "            <div class=\"bar\" style=\"width:50%\">&nbsp;</div>\n",
       "        </td>\n",
       "</tr>\n",
       "</table>\n",
       "        </div>\n",
       "    </div>\n",
       "</div>\n",
       "</div>\n",
       "    <div class=\"row headerrow highlight\">\n",
       "        <h1>Correlations</h1>\n",
       "    </div>\n",
       "    <div class=\"row variablerow\">\n",
       "    <img src=\"data:image/png;base64,iVBORw0KGgoAAAANSUhEUgAAAl4AAAISCAYAAAAdu8GRAAAABHNCSVQICAgIfAhkiAAAAAlwSFlzAAAPYQAAD2EBqD%2BnaQAAADl0RVh0U29mdHdhcmUAbWF0cGxvdGxpYiB2ZXJzaW9uIDMuMC4zLCBodHRwOi8vbWF0cGxvdGxpYi5vcmcvnQurowAAIABJREFUeJzs3XlclXX%2B//8nCLK5QAlaLmEEWZqBolguJWKmpi2alLlV6kwmqOloTqWV49JoUyZj%2BTHTb1kT5dJHy8m%2BmaNWCpromIiBppKabJqyyXZ%2Bf/jzfD2BeOkF1wF63G83bnne18LrvGf0vHi%2B3%2BfgYrPZbAIAAEC1c3V2AQAAAH8UNF4AAAAWofECAACwCI0XAACARWi8AAAALELjBQAAYBEaLwAAAIvQeAEAAFiExgsAAMAibs4uAMDV%2B%2BWXX9SrV6/LHnd3d1eDBg0UGBioe%2B%2B9V8OGDVODBg0srBAAUBEXfmUQUPtc2niFhISUa6qKi4uVk5Oj48ePS5JuvPFGrVixQjfddJPltQIA/h8aL6AWurTxev/99xUREVHheQkJCRo3bpxyc3MVFhamjz/%2B2MoyAQC/wx4voA6LiIjQc889J0lKSkrSjz/%2B6OSKAOCPjcYLqON69%2B5t//PevXudWAkAgM31QB3XsGFD%2B5/z8vIcju3cuVMffPCBdu/erTNnzqhRo0YKDQ3V8OHDddddd1V4v7Nnz%2Brjjz/Wli1blJaWptzcXHl5ealVq1bq2bOnRowYocaNGztcc%2Butt0qSvvvuO82bN0%2BbNm2Sq6ur2rZtq/fee09ubm7au3evVqxYoeTkZJ08eVIeHh5q3bq1oqKiNHTo0ArfHFBYWKiPP/5YGzZsUFpamoqLi9W0aVPdfffdeuqppxQYGOhwfkJCgkaMGKE777xTH374oT744AN99tlnOnr0qNzd3dW2bVsNHz5cUVFR1zLVAHBFNF5AHXf06FH7n5s1a2b/84IFC7R06VJJUuPGjRUSEqKMjAxt2rRJmzZt0ujRo/WXv/zF4V5HjhzRqFGjdPLkSbm5ualVq1Zq3ry5jh8/rv3792v//v364osvtHr1avn4%2BJSrJSYmRklJSQoJCVFOTo78/f3l5uamr776SpMmTVJJSYn8/Px0yy23KC8vT//973%2B1d%2B9erVu3Th9//LFD8/Xrr7/qySef1OHDhyVJgYGB8vHx0aFDhxQfH6/PPvtM8%2BbNU79%2B/crVUVxcrDFjxmj79u3y8/NTUFCQfv75Z%2B3YsUM7duzQyy%2B/rMcff9zcxANARWwAap309HRbSEiILSQkxLZjx45Kz506daotJCTE1rZtW1tmZqbNZrPZ/vWvf9lCQkJs4eHhtv/93/%2B1n1tWVmb74osvbKGhobaQkBDbJ5984nCvYcOG2UJCQmxDhgyxnTp1yuG6tWvX2tq0aWMLCQmxrVy50uG6i7W2a9fOlpiYaLPZbLbS0lLb6dOnbaWlpbauXbvaQkJCbEuXLrWVlJTYr/vxxx9tXbp0sYWEhNiWLFliHy8pKbE9%2BOCDtpCQEFufPn1sBw4csB87d%2B6c7YUXXrA/5z179tiP7dixw15LaGiobd26dfZjZ8%2BetY0cOdIWEhJi69y5s624uLjSeQWAa8EeL6AOKiwsVHJysmbOnKnPPvtMkjRq1Cg1adJERUVFWrRokSRpzpw5GjhwoP06FxcX9evXz550LVq0SCUlJZKk7OxspaamSpJmzZqlgIAAh%2Bseeughde7cWZJ08ODBCuvq27evOnXqJElydXWVr6%2BvcnJylJmZKUkaMmSI6tWrZz%2B/bdu2mjRpkqKiouTr62sf//LLL3XgwAF5eHho6dKlatOmjf1YgwYN9Le//U3du3dXcXGx3njjjQpriY2N1YABA%2ByPGzZsaH/eZ86c0c8//3yZ2QWAa8dSI1DLjRgx4ornPProo5owYYKkC%2B9uzMrKko%2BPz2U/hHXgwIGaNWuWTp06peTkZLVv317XX3%2B9duzYocLCQnl6epa7prS01L4UWFhYWOF9O3bsWG7Mz89PjRs31m%2B//aYpU6bomWee0Z133ilX1ws/Fw4ZMkRDhgxxuOabb76RJEVGRqply5YVfq8nn3xS27ZtU2Jios6dO%2Bew102SevbsWe6aoKAg%2B5/Pnj1b4X0BwAwaL6CW%2B/0HqLq4uMjDw0O%2Bvr669dZbFRUVpVtuucV%2B/GJqVVxcrCeeeOKy961Xr57Kysp0%2BPBhtW/f3j7u6empkydPau/evTp27JjS09N16NAhHThwQPn5%2BZKksrKyCu/p7%2B9f4feZMmWKXnrpJW3ZskVbtmxR48aNFRERoa5du%2Bree%2B912JsmyZ5GtW3b9rL1XzxWWlqqo0ePql27dg7HmzZtWu6aSxvK0tLSy94bAK4VjRdQy7344ouX/QDVipw7d06SVFRUpN27d1/x/EuTn8OHD%2Bvvf/%2B7tmzZ4tBcNWjQQOHh4crIyFBKSspl71VRUiZdSLVuuukmLV%2B%2BXN9//71%2B%2B%2B03ffXVV/rqq6/k4uKie%2B%2B9Vy%2B//LK9AcvNzZWkcinWpS5tRn//bk7pwq9VqoyNz5YGUA1ovIA/GC8vL0kXEqE1a9YYvi47O1vDhg1Tdna2brzxRg0ZMkS33367br75ZrVo0UIuLi6aPHlypY1XZSIiIhQREaHCwkLt2rVLO3fu1LZt27R//35t3rxZJ0%2Be1GeffSYXFxf7OyYvNpEVubRhrOgdlgDgDDRewB9M69atJV34aIiSkhK5uZX/Z8BmsykhIUHNmjXTjTfeqPr162v16tXKzs6Wr6%2BvVq9ereuuu67cdadOnbrqeoqKipSenq7c3Fzdeeed8vT0VLdu3dStWzdNmjRJX3zxhZ577jmlpKTo4MGDatOmjW6%2B%2BWYlJydr//79l73vvn37JF1Yem3VqtVV1wUA1YF3NQJ/MJ06dVLDhg2Vl5d32cRr/fr1GjlypPr27atff/1V0oXfDyld%2BIXbFTVdaWlp2rNnj6Sr2x%2B1detW9evXT2PHjlVRUVG543fffbf9zxfve3Fj/DfffKP09PQK7/v%2B%2B%2B9LkkJDQ9WoUSPD9QBAdaLxAv5gvL29NXbsWEnS7NmztXr1aof9Wl9//bVmzpwp6cLHP1xMi26%2B%2BWZJUkpKijZu3Gg/32azaevWrRo9erSKi4slSQUFBYbr6dGjh/z8/HTmzBlNmzZNZ86csR/Ly8vTa6%2B9Jkm64YYbFBwcLEm6//77deutt%2Br8%2BfMaM2aMw/Jmbm6uXnrpJX377bdyc3PTlClTjE8OAFQzlhqBP6AxY8YoPT1dn3zyif76179q/vz5atGihU6dOqWMjAxJUocOHfS3v/3Nfs3gwYP10Ucf6ejRo4qNjVXz5s3l5%2BenkydPKjs7W%2B7u7urcubMSExOvasmxfv36WrhwoZ5%2B%2Bmlt2LBBmzZtUqtWreTq6qr09HTl5%2BfLy8tL8%2BbNU/369SVJbm5uWrx4scaMGaPDhw/rwQcfdPjk%2BosfefHKK68oPDy8aicPAEyg8QL%2BgFxcXDRr1iz16dNHH3/8sfbs2WP/QNLQ0FA98MADio6Otjc60oV3Ca5atUpLly7V5s2b9csvvygrK0vNmjXTvffeq5EjR8rb21tRUVFKSUnRiRMndOONNxqqJyIiQp9%2B%2BqmWL1%2BuH374QUeOHJGbm5uaNWumbt266amnnip3rxYtWmj16tX617/%2BpS%2B//FKHDh3Sr7/%2BqhtuuEHdu3fXE088Ue53NQKAs7nYeM80AACAJdjjBQAAYBEaLwAAAIvQeAEAAFiExgsAANQJOTk56t27txISEi57zpYtWzRgwACFhoaqb9%2B%2B2rx5s8PxpUuXqkePHgoNDdXw4cN1%2BPDhKq2RxgsAANR6P/zwg6Kjo3Xs2LHLnnPkyBHFxMRowoQJ2rVrl2JiYjRx4kT7R%2BCsXbtWH3zwgZYtW6aEhAS1bdtWsbGxVfq7W2m8AACAU2VkZGj//v0OXxc/U9CItWvXasqUKZo0adIVzwsPD1dUVJTc3NzUr18/derUSfHx8ZKkTz75REOHDlVwcLA8PDw0efJknThxotIE7WrxOV6VcXFxdgW4ktatpdRUKThY%2BvlnZ1eDSmRm8Mk1NZ2rq3TddVJOjnTJLzNADeTv78RvXg2vjfFvvaW4uDiHsfHjxysmJsbQ9d26ddOAAQPk5uZWafOVlpamkJAQh7FbbrnF/tsv0tLSNGbMGPsxd3d3BQYGKiUlRV26dDH6dCpF44XazddXqlfvwn8BmOLqeuE11dWVxgvWio6OVmRkpMOY/1V0l0bPzcvLk5eXl8OYp6en8vPzDR2vCjReAADAqQICAhQQEFDt38fLy0uFhYUOY4WFhfLx8TF0vCqwxwsAABjn6lr1XxYJCQlRamqqw1haWpqCg4MlScHBwQ7Hi4uLdeTIkXLLk2bQeAEAAONqceM1cOBAJSYmasOGDSopKdGGDRuUmJioBx98UJI0aNAgrVy5UikpKTp//rxef/11NWnSROHh4VVWA40XAACos8LCwrRu3TpJUlBQkP75z39qyZIl6tSpkxYvXqxFixapdevWkqTBgwdr1KhRevbZZ9WlSxclJydryZIlcnd3r7J6%2BCXZleFdjTVfWJi0e7fUoYOUlOTsalAJ3tVY87m5SX5%2B0unTUkmJs6tBZZz6rkYPj6q/5/nzVX/PGorECwAAwCK8qxEAABhn4Z6suojGCwAAGEfjZQqzBwAAYBESLwAAYByJlyk0XgAAwDgaL1OYPQAAAIuQeAEAAONIvExh9gAAACxC4gUAAIwj8TKFxgsAABhH42UKswcAAGAREi8AAGAciZcpzB4AAIBFSLwAAIBxJF6m0HgBAADjaLxMYfYAAAAsQuIFAACMI/EyhdkDAACwCIkXAAAwjsTLFBovAABgHI2XKcweAACARUi8AACAcSRepjB7AAAAFiHxAgAAxpF4mULjBQAAjKPxMoXZAwAAsAiJFwAAMI7EyxRmDwAAwCIkXgAAwDgSL1NovAAAgHE0XqYwewAAABYh8QIAAMaReJnC7AEAAFiExAsAABhH4mUKjRcAADCOxssUZg8AAMAiJF4AAMA4Ei9TmD0AAACLkHgBAADjSLxMofECAADG0XiZwuwBAABYhMQLAAAYR%2BJlCo0XAACo1bKzs/XSSy8pMTFR9erV08CBAzVt2jS5uTm2OaNHj9YPP/zgMJafn6/o6Gi9%2BuqrysrKUteuXeXt7W0/7ufnp2%2B%2B%2BabKaqXxAgAAxtXAxGvixIlq2rSptm3bpqysLD3zzDNasWKFRo8e7XDeu%2B%2B%2B6/B41apViouL0/jx4yVJ%2B/btU/Pmzau00fo9Gi8AAGBcNTReGRkZyszMdBjz9/dXQEDAFa89evSoEhMTtXXrVnl5eally5YaN26c5s%2BfX67xutThw4c1a9YsLVu2zP599u3bp3bt2pl7MldA4wUAAJwqPj5ecXFxDmPjx49XTEzMFa9NTU2Vr6%2BvmjZtah8LCgrSiRMndPbsWTVq1KjC61555RU99NBDCg8Pt4/t27dPv/32mx544AFlZWXpjjvu0LRp03TLLbdc4zMrj8YLAAAYVw2JV3R0tCIjIx3G/P39DV2bl5cnLy8vh7GLj/Pz8ytsvHbt2qW9e/dqwYIFDuONGjXSLbfcojFjxqh%2B/fpauHChnnzySW3YsEENGza8mqd0WTReAADAqQICAgwtK1bE29tbBQUFDmMXH/v4%2BFR4TXx8vPr27VuuuXv99dcdHk%2BfPl2rV6/Wrl271LNnz2uq7/dq3g45AABQc7m6Vv2XCcHBwTpz5oyysrLsY4cOHVKzZs0qTKlKSkq0adMmDRw40GE8NzdXr732mo4fP24fKy0tVUlJiTw9PU3VeCkaLwAAYFwNa7wCAwPVsWNHzZkzR7m5uUpPT9fixYs1ePDgCs8/ePCgzp8/rw4dOjiMN2jQQN9//71ee%2B01nTt3Tnl5eZo1a5ZatGjhsA/MLBovAABQq7311lsqKSlRr169NGTIEHXv3l3jxo2TJIWFhWndunX2c9PT09W4cWN5eHiUu8/ixYtVVlamqKgode/eXZmZmVq6dKnc3d2rrFYXm81mq7K71TUuLs6uAFcSFibt3i116CAlJTm7GlQiM4N/amo6NzfJz086fVoqKXF2NaiMwX3n1aNPn6q/58aNVX/PGorN9QAAwLga%2BAGqtQmzBwAAYBESLwAAYByJlynMHgAAgEVIvAAAgHEkXqbQeAEAAONovExh9gAAACxC4gUAAIwj8TKF2QMAALAIiRcAADCOxMsUGi8AAGAcjZcpzB4AAIBFSLwAAIBxJF6mMHsAAAAWIfECAADGkXiZQuMFAACMo/EyhdkDAACwCIkXAAAwjsTLFGYPAADAIiReAADAOBIvU2i8AACAcTRepjB7AAAAFiHxAgAAxpF4mcLsAQAAWITECwAAGEfiZQqNFwAAMI7GyxRmDwAAwCIkXgAAwDgSL1OYPQAAAIuQeAEAAONIvEyh8QIAAMbReJnC7AEAAFiExAsAABhH4mUKswcAAGAREi8AAGAciZcpNF4AAMA4Gi9TmD0AAACLkHgBAADjSLxMYfYAAAAsQuIFAACMI/EyhcYLAAAYR%2BNlCrMHAABgkTrbeB05csTZJQAAUPe4ulb91x/INT3bn3/%2BWdOmTVOPHj0UFhamqKgoLViwQHl5eVVd3zVJTk7WAw884OwyAACoe2pg45Wdna1x48YpPDxcERERmj17tkpKSio8d/To0brjjjsUFhZm/9q6daskqbS0VK%2B99pruvvtuhYWF6ZlnnlFGRobp%2Bi511c929%2B7devjhh9W8eXN99tlnSkpK0tKlS7V371499dRTKi0trdICr8W5c%2BdUXFzs7DIAAIAFJk6cKG9vb23btk2rVq3S9u3btWLFigrP/fHHH7Vs2TIlJSXZv3r06CFJevvtt/Xdd99p9erV2rZtmzw9PfXiiy9Waa1Xvbl%2BxowZeuihhxQbG2sfa926td544w3NmDFD6enp6tOnj95//31FRERIktasWaO4uDh98803SkhI0NSpUxUeHq4tW7Zo7NixOnz4sPLz85WamqrTp0/rk08%2Bkbe3t%2BbNm6ft27fLxcVFkZGRmjp1qho0aKCEhARNnz5djz76qD766COdP39eERERmjt3rk6fPq0xY8ZIksLCwvTee%2B8pLCzsis8rIyNDmZmZDmP%2BrVsrwNf3aqcIVmrTxvG/qLHceCtPjVevnuN/gQpVw9Jgha/B/v4KCAi44rVHjx5VYmKitm7dKi8vL7Vs2VLjxo3T/PnzNXr0aIdz09PT9dtvv%2Bn222%2Bv8F6ffvqppkyZohtuuEGS9MILL6hbt25KT09Xy5Ytr/HZObqqfwqPHTum1NRUvfzyy%2BWONWnSRIsXLzZ0n19//VU333yz5s2bp/Pnz%2Btvf/ubtm3bpvj4eDVr1kwNGjTQY489psDAQG3cuFHFxcWaPn26ZsyYoX/84x%2BSpOPHj%2BvUqVP6v//3/%2BrUqVN64okn9NFHH2ns2LFaunSpRowYoaSkJMPPLT4%2BXnFxcQ5j4ydMUMyECYbvASf66CNnV4Ar8HN2ATCsUSNnV4A/mgpfg8ePV0xMzBWvTU1Nla%2Bvr5o2bWofCwoK0okTJ3T27Fk1uuT/0Pv27ZOPj48mTZqkffv2qUmTJho1apQGDx6sc%2BfO6ddff1VISIj9/CZNmqhx48Y6ePCgcxqvnJwceyFmDR48WO7u7nJ3d5ckhYaG2p/sf//7X%2B3fv1/Lly%2BXj4%2BPJGnatGm6//779dJLL9nv8eyzz8rT01M33XSTIiIi9PPPP19zPdHR0YqMjHQY8x8wQPo//%2Bea7wkLtGlzoekaOlRKSXF2NajE6U27nV0CrqBevQtN19mzUg3YNYJK%2BDnzJ5lqSLwqfA329zd0bV5enry8vBzGLj7Oz893aLyKiooUGhqqSZMmKTg4WAkJCYqJiZGPj499dczb29vhXp6enlW6h/2qGq%2BLk5CZmanAwMByx7Oysgw3Zb%2BPDy99/Msvv6i0tFT33HOPwzn169dXenp6uXokyd3dXTabzdD3vlw95SJNE40cLJaSIl1FwgnrXWafK2qg0lL%2B90IlqqHxqvA12CBvb28VFBQ4jF18fDG8ueihhx7SQw89ZH/crVs3PfTQQ/r3v/%2Btu%2B%2B%2B2%2BHaiwoLC8vdx4yrmr3mzZsrJCREGzZsKHcsOztbPXv21Oeffy5XV1eHze2nT58ud76Li8tlHzdr1kyenp5KSEjQrl27tGvXLn3//ff67LPPLrsuCwAA/niCg4N15swZZWVl2ccOHTqkZs2aqWHDhg7nrlq1Sv/%2B978dxoqKiuTh4aHGjRuradOmSktLsx/LzMzUmTNnHJYfzbrqtvWll17S6tWrFRcXp9OnT8tms%2BnAgQP685//rLZt26pPnz4KCgrSxo0bVVJSomPHjmnVqlVX9T3at2%2Bvm266SfPmzVNeXp4KCws1Z84cjRo1ytC7Jj08PCRdeHcjAACoQjXs4yQCAwPVsWNHzZkzR7m5uUpPT9fixYs1ePDgcufm5uZq1qxZSk5OVllZmf7zn//o888/V3R0tCTpkUce0dtvv6309HTl5uZqzpw56ty5s1q1amWqxktd9bPt3LmzVq5cqeTkZPXv318dOnRQbGysunTponfffVfu7u6aOXOm9u/fr86dO2vixIkVPvnKuLm5acmSJcrKytJ9992nbt266dixY1q%2BfLm9qapMSEiIOnbsqO7du2vLli1X%2BxQBAEAt8tZbb6mkpES9evXSkCFD1L17d40bN07ShU84WLdunSRp5MiRGjZsmMaPH6%2BwsDAtWLBAr732msLDwyVd2Dt%2Bzz336IknntA999yj8%2BfP680336zSWl1sZjZG1XW/Ww5FDRQWJu3eLXXowB6vGi4zg39qajo3twubtk%2BfZo9XTWdw33n1mDu36u85fXrV37OG4pN1AACAcX%2BwX/FT1Zg9AAAAi5B4AQAA40i8TGH2AAAALELiBQAAjCPxMoXGCwAAGEfjZQqzBwAAYBESLwAAYByJlynMHgAAgEVIvAAAgHEkXqbQeAEAAONovExh9gAAACxC4gUAAIwj8TKF2QMAALAIiRcAADCOxMsUGi8AAGAcjZcpzB4AAIBFSLwAAIBxJF6mMHsAAAAWIfECAADGkXiZQuMFAACMo/EyhdkDAACwCIkXAAAwjsTLFGYPAADAIiReAADAOBIvU2i8AACAcTRepjB7AAAAFiHxAgAAxpF4mcLsAQAAWITECwAAGEfiZQqNFwAAMI7GyxRmDwAAwCIkXgAAwDgSL1NovAAAgHE0XqYwewAAABYh8QIAAMaReJnC7AEAAFiExAsAABhH4mUKjRcAADCOxssUZg8AAMAiJF4AAMA4Ei9TmD0AAACLkHgBAADjSLxMofECAADG1cDGKzs7Wy%2B99JISExNVr149DRw4UNOmTZObW/k251//%2BpdWrFihjIwMBQQEaMSIEXriiSckSWVlZerYsaNsNptcXFzs13z33Xfy9vauklppvAAAQK02ceJENW3aVNu2bVNWVpaeeeYZrVixQqNHj3Y47%2Buvv9Y//vEPLV26VHfeeaf27NmjsWPHqkmTJurTp4/S0tJUXFys3bt3q379%2BtVSK40XAAAwrhoSr4yMDGVmZjqM%2Bfv7KyAg4IrXHj16VImJidq6dau8vLzUsmVLjRs3TvPnzy/XeJ06dUpjxoxRaGioJCksLEwRERHauXOn%2BvTpo3379unWW2%2BttqZLovECAABOFh8fr7i4OIex8ePHKyYm5orXpqamytfXV02bNrWPBQUF6cSJEzp79qwaNWpkH7%2B4pHhRdna2du7cqenTp0uS9u3bp/Pnz2vQoEE6fvy4goKCNHnyZHXo0MHM03NA4wUAAIyrhsQrOjpakZGRDmP%2B/v6Grs3Ly5OXl5fD2MXH%2Bfn5Do3XpTIzM/WnP/1J7dq10wMPPCBJ8vT0VPv27TVhwgQ1btxYH374oZ5%2B%2BmmtW7dOLVu2vNqnVSEaLwAAYFw1NF4BAQGGlhUr4u3trYKCAoexi499fHwqvGbPnj2aMGGCwsPDNXfuXPsm/Oeff97hvKefflpr1qzRli1bNGzYsGuq7/dq3lsTAAAADAoODtaZM2eUlZVlHzt06JCaNWumhg0bljt/1apVGjVqlEaOHKnXX3/dYT/XG2%2B8oeTkZIfzi4qK5OHhUWX10ngBAADjXF2r/suEwMBAdezYUXPmzFFubq7S09O1ePFiDR48uNy5Gzdu1Msvv6xFixbpqaeeKnf8p59%2B0uzZs5WZmamioiLFxcUpNzdXvXv3NlXjpWi8AABArfbWW2%2BppKREvXr10pAhQ9S9e3eNGzdO0oV3Lq5bt06SFBcXp9LSUsXGxiosLMz%2BNWPGDEnS3Llz1apVKz344IOKiIhQYmKili9fLl9f3yqr1cVms9mq7G51zSUfnoYaKixM2r1b6tBBSkpydjWoRGYG/9TUdG5ukp%2BfdPq0VFLi7GpQGYP7zqvH9u1Vf8%2B77qr6e9ZQbK4HAADG1cBPrq9NmD0AAACLkHgBAADjSLxMYfYAAAAsQuIFAACMI/EyhcYLAAAYR%2BNlCrMHAABgERIvAABgHImXKcweAACARUi8AACAcSReptB4AQAA42i8TGH2AAAALELiBQAAjCPxMoXZAwAAsAiJFwAAMI7EyxQaLwAAYByNlynMHgAAgEVIvAAAgHEkXqYwewAAABYh8QIAAMaReJlC4wUAAIyj8TKF2QMAALAIiRcAADCOxMsUZg8AAMAiJF4AAMA4Ei9TaLwAAIBxNF6mMHsAAAAWIfECAADGkXiZQuMFAACMo/EyhdkDAACwCIkXAAAwjsTLFGYPAADAIiReAADAOBIvU2i8AACAcTRepjB7AAAAFiHxAgAAxpF4mcLsAQAAWITECwAAGEfiZQqNFwAAMI7GyxRmDwAAwCIkXgAAwDgSL1OYPQAAAIuQeAEAAONIvExh9gAAgHGurlX/ZVJ2drbGjRun8PBwRUREaPbs2SopKanw3C1btmjAgAEKDQ1V3759tXnzZofjS5cuVY8ePRQaGqrhw4fr8OHDpuu7FI0XAACo1SZOnChvb2%2B2MvgyAAAfbElEQVRt27ZNq1at0vbt27VixYpy5x05ckQxMTGaMGGCdu3apZiYGE2cOFGnTp2SJK1du1YffPCBli1bpoSEBLVt21axsbGy2WxVViuNFwAAMK4aEq%2BMjAzt37/f4SsjI8NQOUePHlViYqL%2B8pe/yMvLSy1bttS4ceP04Ycfljt37dq1Cg8PV1RUlNzc3NSvXz916tRJ8fHxkqRPPvlEQ4cOVXBwsDw8PDR58mSdOHFCCQkJVTZ97PGqRGZG1XW4qB5ubpKfpNObdusyqTJqCP8AF2eXgCsJC5N275Zfrw5SUpKzq0FlqjCBqQni4%2BMVFxfnMDZ%2B/HjFxMRc8drU1FT5%2BvqqadOm9rGgoCCdOHFCZ8%2BeVaNGjezjaWlpCgkJcbj%2BlltuUUpKiv34mDFj7Mfc3d0VGBiolJQUdenS5Zqe2%2B/ReAEAAMNsqvofoqKjoxUZGekw5u/vb%2BjavLw8eXl5OYxdfJyfn%2B/QeFV0rqenp/Lz8w0drwo0XgAAwLCysqq/Z0BAgAICAq7pWm9vbxUUFDiMXXzs4%2BPjMO7l5aXCwkKHscLCQvt5VzpeFdjjBQAAaq3g4GCdOXNGWVlZ9rFDhw6pWbNmatiwocO5ISEhSk1NdRhLS0tTcHCw/V6XHi8uLtaRI0fKLU%2BaQeMFAAAMKyur%2Bi8zAgMD1bFjR82ZM0e5ublKT0/X4sWLNXjw4HLnDhw4UImJidqwYYNKSkq0YcMGJSYm6sEHH5QkDRo0SCtXrlRKSorOnz%2Bv119/XU2aNFF4eLi5Ii9B4wUAAGq1t956SyUlJerVq5eGDBmi7t27a9y4cZKksLAwrVu3TtKFTff//Oc/tWTJEnXq1EmLFy/WokWL1Lp1a0nS4MGDNWrUKD377LPq0qWLkpOTtWTJErm7u1dZrS62qvxwijomM9PZFeBK3NwkPz/p9GnxrsYajnc11gL//7sa1YF3NdZ4TnzpPn%2B%2B6u/p4VH196yp2FwPAAAMq47N9X8kLDUCAABYhMQLAAAYRuJlDokXAACARUi8AACAYSRe5tB4AQAAw2i8zGGpEQAAwCIkXgAAwDASL3NIvAAAACxC4gUAAAwj8TKHxgsAABhG42UOS40AAAAWIfECAACGkXiZQ%2BIFAABgERIvAABgGImXOTReAADAMBovc1hqBAAAsAiJFwAAMIzEyxwaLwAAYBiNlzksNQIAAFiExAsAABhG4mUOiRcAAIBFSLwAAIBhJF7m0HgBAADDaLzMYakRAADAIiReAADAMBIvc0i8AAAALELiBQAADCPxMofGCwAAGEbjZQ5LjQAAABYh8QIAAIaReJlD4gUAAGAREi8AAGAYiZc5NF4AAMAwGi9zWGoEAACwCIkXAAAwjMTLHBIvAAAAi5B4AQAAw0i8zKHxAgAAhtF4mcNSIwAAgEVIvAAAgGEkXuaQeAEAAFiExAsAABhG4mUOjRcAADCstjVe%2Bfn5mjVrlr755huVlJSoV69emjlzpnx8fCo8f%2BPGjVq8eLHS09Pl6%2BurRx55ROPGjZOr64VFwr59%2B%2BrEiRP2x5K0atUqBQUFGaqHxgsAANRZs2bN0smTJ7Vx40aVlpZq4sSJWrBggWbOnFnu3B9//FFTp07Vm2%2B%2BqXvuuUc///yzxowZI29vbz311FPKzc3Vzz//rE2bNql58%2BbXVA97vAAAgGFlZVX/lZGRof379zt8ZWRkmK61oKBA69evV2xsrHx9fXX99ddrypQpWrNmjQoKCsqdf/z4cT322GPq2bOnXF1dFRQUpN69e2vnzp2SLjRmvr6%2B19x0SSReAADAyeLj4xUXF%2BcwNn78eMXExFzx2sLCQp06darCYwUFBSouLlZISIh9LCgoSIWFhTpy5Ihuu%2B02h/P79OmjPn36ONz7P//5jwYMGCBJ2rdvn7y8vDRs2DClpqaqefPmiomJUc%2BePQ0/VxovAABgWHXs8YqOjlZkZKTDmL%2B/v6Fr9%2B7dqxEjRlR4bMKECZIkb29v%2B5iXl5ckKS8vr9L75ubmasKECfL09NSoUaMkSS4uLrrjjjv03HPP6cYbb9SXX36pmJgYrVy5UqGhoYbqpfECAACGVUfjFRAQoICAgGu6NiIiQgcPHqzwWHJyshYuXKiCggL7ZvqLS4wNGjS47D0PHz6s2NhYXX/99Xr//fft544ePdrhvIEDB%2Brzzz/Xxo0bDTde7PECAAB1UuvWreXu7q60tDT72KFDh%2BTu7q7AwMAKr9myZYseffRRde/eXcuWLVPjxo3tx5YtW6bt27c7nF9UVCQPDw/DNdF4AQAAw6pjc3118fLyUt%2B%2BfbVgwQLl5OQoJydHCxYs0AMPPCBPT89y5%2B/Zs0fPPvuspk%2BfrmnTpsnNzXFh8OTJk3rllVeUnp6ukpISrVq1SklJSXr44YcN10TjBQAA6qyZM2cqMDBQAwYM0P33368WLVpoxowZ9uP9%2B/fXO%2B%2B8I0l65513VFJSotmzZyssLMz%2BdXGJcerUqerRo4eGDh2q8PBwffzxx/qf//kf3XTTTYbrcbHZbLaqfYp1R2amsyvAlbi5SX5%2B0unTUkmJs6tBZfwDXJxdAq4kLEzavVvq0EFKSnJ2NaiME1%2B6N26s%2Bnte8kbCOo/N9QAAwLDa9sn1NQ1LjQAAABYh8QIAAIaReJlD4gUAAGAREi8AAGAYiZc5NF4AAMAwGi9zWGoEAACwCIkXAAAwjMTLHBovAABgGI2XOSw1AgAAWITECwAAGEbiZQ6JFwAAgEVIvAAAgGEkXubQeAEAAMNovMxhqREAAMAiJF4AAMAwEi9zSLwAAAAsQuIFAAAMI/Eyh8YLAAAYRuNlDkuNAAAAFiHxAgAAhpF4mUPiBQAAYBESLwAAYBiJlzk0XgAAwDAaL3NYagQAALAIiRcAADCMxMscEi8AAACLkHgBAADDSLzMofECAACG0XiZw1IjAACARUi8AACAYSRe5pB4AQAAWITECwAAGEbiZQ6NFwAAMIzGyxyWGgEAACxC4gUAAAwj8TKHxAsAAMAiJF4AAMAwEi9zaLwAAIBhNF7msNQIAABgERIvAABgGImXOSReAAAAFnFa43Xrrbdq7NixstlsDuNr1qxRZGSkk6oCAACVKSur%2Bq/qlJ%2Bfr%2BnTpysiIkIdO3bU1KlTlZeXd9nzZ86cqXbt2iksLMz%2BFR8fbz%2B%2BdOlS9ejRQ6GhoRo%2BfLgOHz58VfU4NfHasmWL3n33XWeWAAAArkJta7xmzZqlkydPauPGjfrqq6908uRJLViw4LLn79u3T7NmzVJSUpL9Kzo6WpK0du1affDBB1q2bJkSEhLUtm1bxcbGlguRKuPUxmv48OFauHChdu/efdlzjh07pj//%2Bc%2BKiIhQz5499cYbb6ioqEi//fab2rZtqwMHDkiSzp8/r/bt22v%2B/Pn2a2NjY7Vw4cJqfx4AAKDmKSgo0Pr16xUbGytfX19df/31mjJlitasWaOCgoJy5xcVFemnn35Su3btKrzfJ598oqFDhyo4OFgeHh6aPHmyTpw4oYSEBMM1OXVzfe/evWWz2fTcc8/ps88%2Bk6%2Bvr8Px/Px8jRo1Sv3799fChQuVk5Oj2NhYlZWVafLkyercubO2bt2q2267TYmJiXJxcdH3338v6cLkffvtt3rmmWcM1ZKRkaHMzEyHMTc3fwUEBFTNk0W1qFfP8b%2BowcLCnF0BrqRNG8f/AhWojoSqotdgf39jr8GFhYU6depUhccKCgpUXFyskJAQ%2B1hQUJAKCwt15MgR3XbbbQ7np6SkqKSkRG%2B99ZZ%2B%2BOEHNWzYUIMGDdLo0aPl6uqqtLQ0jRkzxn6%2Bu7u7AgMDlZKSoi5duhh6rk5/V%2BO0adOUlJSk559/Xm%2B//bbDsf/85z8qKirSc889JxcXF91www2aMGGCYmNjNXnyZEVFRWnDhg3605/%2BpG%2B//VbR0dFauXKlcnJy9OOPP8rPz6/cpF5OfHy84uLiHMaefXa8YmNjquy5ovo0auTsCnBFlSTbqGE%2B%2BsjZFeAPpqLX4PHjxysm5sqvwXv37tWIESMqPDZhwgRJkre3t33My8tLkirc53Xu3Dl17txZw4cP1z/%2B8Q8dOHBAzz77rFxdXTV69Gjl5eXZr7/I09NT%2Bfn5V6zzIqc3XvXr19ebb76phx9%2BWO%2B99578/Pzsx44fP66cnBx16tTJPmaz2VRcXKzs7GxFRUVp7ty5OnfunLZt26Y5c%2BYoMTFRO3bsUEJCgu677z7DdURHR5fb1O/m5q/Tp80/R1SfevUuNF1nz0qlpc6uBpXx69XB2SXgStq0udB0DR0qpaQ4uxpUxok/yFRH4lXRa7C/v7%2BhayMiInTw4MEKjyUnJ2vhwoUqKCiQj4%2BPJNmXGBs0aFDu/K5du6pr1672x%2B3bt9fIkSO1YcMGjR49Wl5eXiosLHS4prCw0H5vI5zeeElSq1atNGvWLE2dOlWPPPKIfbxZs2Zq1aqVvvzyS/tYbm6usrOzdd1118nFxUVt2rTRmjVrlJWVpTvuuEPdunXT999/r23btunNN980XENAQEC5SDMzUyopMf/8UP1KS/nfqsZLSnJ2BTAqJYX/vXBZ1dF4VfQaXBVat24td3d3paWl6c4775QkHTp0yL5E%2BHtff/21srKy9Nhjj9nHioqK5OnpKUkKDg5WamqqevbsKUkqLi7WkSNHHJYyr6TGfI5Xv379NGjQIIe3bPbs2VN5eXl69913VVRUpLNnz2ratGmaNGmSXFxcJF3YJ/b222%2BrS5cuqlevnrp27arPP/9cZWVlCg0NddbTAQAATubl5aW%2BfftqwYIFysnJUU5OjhYsWKAHHnjA3kxdymazae7cudq%2BfbtsNpuSkpL0/vvv29/VOGjQIK1cuVIpKSk6f/68Xn/9dTVp0kTh4eGGa6oxjZck/fWvf3XYk9WgQQOtWLFCCQkJ6tGjh6KiouTq6uqwFywqKkqnT5%2B2R4MdO3aUi4uLoqKi7M0ZAACoGrXt4yRmzpypwMBADRgwQPfff79atGihGTNm2I/3799f77zzjqQLYc706dP18ssvKywsTH/5y18UExOjBx98UJI0ePBgjRo1Ss8%2B%2B6y6dOmi5ORkLVmyRO7u7obrcbFdzYdP/MH87g0WqIHc3CQ/P%2Bn0aZYaazr/AH4QqvHCwi7sHerQgaXGms6JL90vvFD195w9u%2BrvWVPViD1eAACgduB3NZpD4wUAAAyj8TKnRu3xAgAAqMtIvAAAgGEkXubQeAEAAMNovMxhqREAAMAiJF4AAMAwEi9zSLwAAAAsQuIFAAAMI/Eyh8YLAAAYRuNlDkuNAAAAFiHxAgAAhpF4mUPiBQAAYBESLwAAYBiJlzk0XgAAwDAaL3NYagQAALAIiRcAADCMxMscEi8AAACLkHgBAADDSLzMofECAACG0XiZw1IjAACARUi8AACAYSRe5pB4AQAAWITECwAAGEbiZQ6NFwAAMIzGyxyWGgEAACxC4gUAAAwj8TKHxAsAAMAiJF4AAMAwEi9zaLwAAIBhNF7msNQIAABgERIvAABgGImXOSReAAAAFiHxAgAAhpF4mUPjBQAADKPxMoelRgAAAIuQeAEAAMNIvMwh8QIAALAIiRcAADCMxMscGi8AAGAYjZc5LDUCAABYhMQLAAAYRuJlDokXAACARUi8AACAYbUt8crPz9esWbP0zTffqKSkRL169dLMmTPl4%2BNT7twZM2Zo/fr1DmOFhYW6%2B%2B67tWzZMpWVlaljx46y2WxycXGxn/Pdd9/J29vbUD00XgAAwLDa1njNmjVLJ0%2Be1MaNG1VaWqqJEydqwYIFmjlzZrlzX331Vb366qv2x99%2B%2B60mT56s559/XpKUlpam4uJi7d69W/Xr17%2BmelhqBAAAdVJBQYHWr1%2Bv2NhY%2Bfr66vrrr9eUKVO0Zs0aFRQUVHptTk6OpkyZohdeeEHBwcGSpH379unWW2%2B95qZLIvECAABXoToSr4yMDGVmZjqM%2Bfv7KyAg4IrXFhYW6tSpUxUeKygoUHFxsUJCQuxjQUFBKiws1JEjR3Tbbbdd9r4LFixQu3btNHDgQPvYvn37dP78eQ0aNEjHjx9XUFCQJk%2BerA4dOlyxzotovAAAgGHV0XjFx8crLi7OYWz8%2BPGKiYm54rV79%2B7ViBEjKjw2YcIESXLYf%2BXl5SVJysvLu%2Bw909PTtW7dOn366acO456enmrfvr0mTJigxo0b68MPP9TTTz%2BtdevWqWXLllesVaLxAgAAThYdHa3IyEiHMX9/f0PXRkRE6ODBgxUeS05O1sKFC1VQUGDfTH9xibFBgwaXvefq1asVFhZWLhG7uNfroqefflpr1qzRli1bNGzYMEP10ngBAADDqiPxCggIMLSseLVat24td3d3paWl6c4775QkHTp0SO7u7goMDLzsdV999ZWeeuqpcuNvvPGG%2BvTpo9tvv90%2BVlRUJA8PD8M1sbkeAADUSV5eXurbt68WLFignJwc5eTkaMGCBXrggQfk6elZ4TWnT5/WoUOH1KlTp3LHfvrpJ82ePVuZmZkqKipSXFyccnNz1bt3b8M10XgBAADDysqq/qs6zZw5U4GBgRowYIDuv/9%2BtWjRQjNmzLAf79%2B/v9555x37419%2B%2BUWS1LRp03L3mjt3rlq1aqUHH3xQERERSkxM1PLly%2BXr62u4HhebzWYz8XzqtN%2B9wQI1kJub5OcnnT4tlZQ4uxpUxj/A5conwbnCwqTdu6UOHaSkJGdXg8o48aX7rruq/p7bt1f9PWsqEi8AAACLsLkeAAAYVts%2Bub6mIfECAACwCIkXAAAwjMTLHBovAABgGI2XOSw1AgAAWITECwAAGEbiZQ6JFwAAgEVIvAAAgGEkXubQeAEAAMNovMxhqREAAMAiJF4AAMAwEi9zSLwAAAAsQuIFAAAMI/Eyh8YLAAAYRuNlDkuNAAAAFiHxAgAAhpF4mUPiBQAAYBESLwAAYBiJlzk0XgAAwDAaL3NYagQAALAIiRcAADCMxMscEi8AAACLkHgBAADDSLzMofECAACG0XiZw1IjAACARUi8AACAYSRe5pB4AQAAWITECwAAGEbiZQ6NFwAAMIzGyxyWGgEAACxC4gUAAAwj8TKHxAsAAMAiJF4AAMAwEi9zaLwAAIBhNF7msNQIAABgERIvAABgGImXOTReAADAMBovc1hqBAAAsAiJFwAAMIzEyxwSLwAAAIuQeAEAAMNIvMyh8QIAAIbReJnDUiMAAKjzCgoKFB0drTVr1lR63t69e/Xoo48qLCxMkZGR%2BvTTTx2Or127Vr1791ZoaKgeeeQRJSUlXVUdNF4AAMCwsrKq/6puqampeuKJJ7Rnz55Kz/vtt980duxYPfTQQ9q5c6dmz56tuXPn6r///a8kKSEhQbNmzdK8efO0c%2BdODRw4UM8884wKCgoM10LjBQAA6qzt27dr5MiRevjhh3XjjTdWeu5XX30lX19fPfHEE3Jzc9Ndd92lAQMG6MMPP5Qkffrpp%2Brfv786duwod3d3jRo1Sn5%2BftqwYYPhetjjBQAADKuOhCojI0OZmZkOY/7%2B/goICLjitYWFhTp16lSFx/z9/dWmTRtt3rxZHh4eWr58eaX3Sk1NVUhIiMPYLbfcolWrVkmS0tLSNGjQoHLHU1JSrljnRTRelfD3d3YFuJKMjAwtWhSv6OhoQ39B4UQ2m7MrwBVkZGQoftEiRX/5JX%2BfcFnV8Vd50aJ4xcXFOYyNHz9eMTExV7x27969GjFiRIXH/vnPfyoqKspwHXl5efLy8nIY8/T0VH5%2BvqHjRtB4oVbLzMxUXFycIiMjeaEATOLvE5wlOjpakZGRDmP%2BBtOPiIgIHTx4sErq8PLy0rlz5xzGCgsL5ePjYz9eWFhY7rifn5/h70HjBQAAnCogIKBGNPshISH67rvvHMbS0tIUHBwsSQoODlZqamq54z169DD8PdhcDwAAIKl3797KysrSihUrVFxcrB07dmj9%2BvX2fV2DBw/W%2BvXrtWPHDhUXF2vFihXKzs5W7969DX8PGi8AAPCH1b9/f73zzjuSJD8/P7333nv68ssvFRERoRdffFEvvviiunTpIkm66667NHPmTL388svq3LmzvvjiCy1dulS%2Bvr6Gv5%2BLzcaOV9ReGRkZio9ncz1QFfj7BFQ/Gi8AAACLsNQIAABgERovAAAAi9B4AQAAWITGCwAAwCI0XgAAABah8QIAALAIjRcAAIBFaLwAAAAsQuMFAABgERovAAAAi9B4odbZu3dvheNbt261uBKg9lu0aJEOHjzo7DKAPwwaL9Q6Tz75ZLmx3NxcTZgwwQnVALVbamqqhg4dqt69e2v%2B/PmX/cEGQNXgl2SjVjh69Kj69%2B%2Bv0tJS2Ww2ubi4lDunQ4cO%2BvDDD51QHVC7FRcXa/v27frmm2%2B0ZcsWlZWVqXfv3nrxxRedXRpQ59B4odY4cOCAzp49q7Fjx2rp0qUOxzw8PBQSEiIvLy8nVQfUbmfOnNH27dv1/fff6/PPP5eLi4t2797t7LKAOofGC7VOenq6WrZs6ewygDrh9ddf13fffaeffvpJISEh6tq1q7p27aqOHTvK3d3d2eUBdQ6NF2qdvLw8ffTRRzpy5IjKysocjs2dO9dJVQG1U/v27eXq6qrHHntM/fr10x133FHhUj6AquHm7AKAqzV9%2BnQlJSUpIiKCn8gBk3bt2qXExER9%2B%2B23mj59urKystSlSxd169ZNjz76qLPLA%2BocEi/UOhEREVq1ahXLjUAVy83N1Zo1a/T222/rzJkzOnDggLNLAuocEi/UOh4eHmratKmzywDqhJSUFG3dulXbtm3Tnj17dNttt%2BnJJ59UVFSUs0sD6iQSL9Q677zzjjIyMjR%2B/Hhdd911zi4HqNXatWunzp07q1evXoqKiuKHGqCa0Xih1omMjNSJEycq3ADM0ghwdc6ePatGjRpJknJycvhhBqhmNF6odRITEy97rHPnzhZWAtR%2BJSUlWrRokVauXKnS0lKtW7dOkyZN0ttvv62AgABnlwfUOfzKINQ6nTt3VufOnXXrrbfK29tb4eHhCg0NpekCrsGiRYu0Y8cOLVy4UO7u7mrSpImaNWum2bNnO7s0oE6i8UKtk5eXp8mTJysiIkLDhg3TkSNH1Lt3bx0%2BfNjZpQG1zvr16/XWW2%2BpW7ducnFxkbe3t%2BbOnasdO3Y4uzSgTqLxQq3z97//Xfn5%2Bfr3v/8td3d3tWzZUj179uQndOAa5Ofn2/d1Xdx54unpKVdXXh6A6sDfLNQ6mzdv1rx589S6dWu5uLjI3d1dzz//vPbt2%2Bfs0oBaJzQ0VHFxcZJkf8PKBx98oDvuuMOZZQF1Fp/jhVqnrKxM9evXl/T/fkK/dAyAcS%2B88IJGjhyptWvXKi8vT/369VNeXp6WL1/u7NKAOonGC7VOly5d9Oqrr2rGjBn2n9DffPNNNtcD16Bly5b64osvtHnzZp04cULNmjXTvffeqwYNGji7NKBO4uMkUOtkZ2frmWeeUXJyskpLS%2BXp6anAwEC98847fPgjAKBGo/FCrZOenq4WLVpo3759On78uJo1a6b27durXr16zi4NqDUiIyMr/BDii1xcXPT1119bWBHwx0DjhVrn7rvv1ldffcVSCGDC2rVrKxzfs2eP4uPjdfvtt2vNmjUWVwXUfezxQq3j6%2BurU6dO0XgBJjz88MPlxt577z2tXr1ajz/%2BuKZPn%2B6EqoC6j8YLtU5wcLCGDBmi0NDQcr/SZO7cuU6qCqi9zp49q2nTpmnXrl2aP3%2B%2B%2Bvbt6%2BySgDqLxgu1jre3t%2B677z5nlwHUCXv27NGkSZPk5%2BenNWvWqGXLls4uCajTaLxQ6wQFBenxxx%2BXj4%2BPs0sBarV3331XCxcuVHR0tKZOncpn4QEWYHM9ap3OnTtr%2B/btvIsRMOHPf/6ztmzZomHDhl02Qe7UqZPFVQF1H40Xap3JkycrODhYjzzySLk9XgCMadOmTaXHXVxcdODAAYuqAf44aLxQ69x777369ddfK/wMIl4oAAA1GY0Xap3ExMTLHuPXBgEAajIaLwAAAIvwrkbUOpX9qpNNmzZZXA0AAMbReKHWiYmJcXick5Oj1atX69FHH3VSRQAAGMNSI%2BqEY8eO6bnnntOqVaucXQoAAJfl6uwCgKrQvHlzHTlyxNllAABQKZYaUevs3LnT4XFxcbG%2B/PJLBQYGOqcgAAAMovFCrTN8%2BHCHx66urgoKCtLMmTOdVBEAAMawxwu1is1m07Fjx3TTTTfZx7744gvdf//9/AohAECNxx4v1Br5%2Bfl6/PHHNX/%2BfPtYdna2pk%2BfruHDhys/P9%2BJ1QEAcGU0Xqg13n77bbm7u%2BuVV16xj11//fXavHmzSkpKtGTJEidWBwDAlbHUiFrjvvvu09KlSx2WGS86cOCAJk6cqI0bNzqhMgAAjCHxQq2RnZ1dYdMlSbfddpsyMzMtrgjA/9fOHdo6CIVhGP4rSbAYBqjGILoCkiU6BWEZwKG7RReorENAN%2BAu0DS35jQkz2OP%2BeQr/hzgO8KLw8jzPLZte/v2er0iy7LEiwDgO8KLw7hcLjGO49u3aZqiqqrEiwDgO/7x4jCu12u0bRvbtkXTNFEURSzLErfbLeZ5jmEYfj0RAD5yXM%2Bh3O/36Ps%2BHo9HnE6n2Pc9zudzdF0XdV3/eh4AfCS8OKTn8xnrukZRFFGW5a/nAMC/CC8AgEQc1wMAJCK8AAASEV4AAIkILwCARIQXAEAiwgsAIBHhBQCQyB%2B79V6yU5XiPwAAAABJRU5ErkJggg%3D%3D\" class=\"center-img\">\n",
       "    <img src=\"data:image/png;base64,iVBORw0KGgoAAAANSUhEUgAAAl4AAAISCAYAAAAdu8GRAAAABHNCSVQICAgIfAhkiAAAAAlwSFlzAAAPYQAAD2EBqD%2BnaQAAADl0RVh0U29mdHdhcmUAbWF0cGxvdGxpYiB2ZXJzaW9uIDMuMC4zLCBodHRwOi8vbWF0cGxvdGxpYi5vcmcvnQurowAAIABJREFUeJzs3XlYlXX%2B//HXAZHFDVPQTA2HQM0lUBTLpUQcc83SpNLUSp3RRGxsMpvSJselCSuVXMYsp6wZyqXRsmycTK0UMtCxFAOXJHVYJWXfzu8Pf5yvJxBvu/EcsOfjus5V53MvvM/HS8%2Bb1%2Bc%2B97FYrVarAAAAcM25OLsAAACAXwsaLwAAAAeh8QIAAHAQGi8AAAAHofECAABwEBovAAAAB6HxAgAAcBAaLwAAAAeh8QIAAHCQes4uAIC9pKQkbdiwQXv37lVaWpqKiop0ww03KCAgQHfddZdGjx4tDw8PZ5cJAPgFLHxlEFB7LFu2TCtXrlR5ebkaNmyotm3bys3NTRkZGTpz5owk6cYbb9Rrr72mTp06OblaAMDVovECaomNGzfqmWeekZeXlxYtWqSBAwfK1dXVtv3YsWN65plndODAATVt2lTbtm3TDTfc4MSKAQBXi2u8gFpi1apVkqSnnnpKd999t13TJUn%2B/v5auXKlmjVrpnPnzumtt95yRpkAABNovIBa4Pz58zp16pQk6bbbbrvsfjfccIPCw8MlSf/9738dUhsAoOZwcT1QC9Sr939/FXfu3Klbb731svtGRkZq/PjxatasmW3s6aef1ubNmzVnzhz17dtXr7zyir7%2B%2BmsVFxfr5ptv1r333qsHHnhA7u7uVZ7z66%2B/1ttvv62EhATl5OSocePGCgoK0sMPP6zbb7%2B9ymPOnz%2Bvf/7zn9q1a5dSUlKUm5srT09PtW3bVv3799f48ePVpEkTu2Pat28vSfryyy%2B1ePFi/ec//5GLi4s6deqkN954Q88%2B%2B6w2b96sv/zlL%2BrRo4eWL1%2Buffv26cKFC2rdurXuv/9%2BTZw4URaLRZ9%2B%2Bqn%2B/ve/68iRIyovL1eHDh00depU3XnnnZVqLSws1MaNG7Vjxw4dPXpU58%2BfV/369dWqVSv16dNHjzzyiFq0aGF3TFhYmE6fPq1t27YpKytLr7/%2Bug4ePKj8/Hy1bt1agwcP1mOPPaYGDRpc9s8KAH6Oa7yAWuLBBx9UQkKCLBaL7rnnHo0ePVrdunWrtORYlYrG67777tP27duVn5%2BvgIAAlZaW6vjx45Kk7t27a/Xq1WrUqJHdsdHR0VqzZo0kqUmTJmrdurXS09OVkZEhSZo0aZL%2B%2BMc/2h1z8uRJTZw4UWfPnlW9evXUtm1beXp66vTp08rJyZEktWvXThs3brRrTCoar27duikxMVGBgYHKzs5WaGiolixZYvc6Pv74Y5WWlsrf319ZWVm2eqZMmSKLxaLVq1ercePGatOmjU6cOKH8/HxZLBb97W9/U79%2B/Ww/Mzs7WxMmTND3338vi8Witm3bqlGjRkpLS7Ods1mzZtq0aZNatmxpO66i8XrkkUe0bt061a9fX35%2Bfvrpp5/0v//9T5IUHBysd955x9CfEQBIkqwAaoXvvvvOGhQUZA0MDLQ9unXrZp08ebJ19erV1gMHDljLysqqPHb27Nm2Y/r37289fPiwbVtCQoL1jjvusAYGBlqfe%2B45u%2BP%2B8Y9/WAMDA60hISHWf/3rX7bx8vJy60cffWSr57333rM7bty4cdbAwEDrmDFjrGlpaXbHbd682dqhQwdrYGCgdf369XbHVdTYuXNna3x8vNVqtVrLysqs586dq/Q6HnzwQWt6erptn6efftoaGBho7dChg7V9%2B/bWtWvX2uYjOzvbOnLkSGtgYKB13LhxVc7NwIEDrSdOnLDbtnv3buttt91mDQwMtC5evNhuW//%2B/W21PP3009bz58/bXuP69ett2/79739X%2BWcCAFXhGi%2Bglrj11lv1/vvvq3v37rax3Nxc7dq1S0uWLNGYMWPUp08fvfLKKyooKKjyHC4uLlqxYoU6duxoGwsODtaLL74oSXr//feVlpYmSSouLtby5cslSQsXLtSIESNsx1gsFg0ZMsSWdC1fvlylpaWSpKysLCUnJ0uS5s%2BfL19fX7vjRo4cqZ49e0qSjh49WmWdgwcPVo8ePWw1e3t7222vV6%2BeXn75Zfn4%2BNj2mTJliiSpvLxc99xzjx599FG5uFz8J6xp06YaP368JOnw4cO285SWlmr//v2yWCyaM2eO/Pz87H5O3759NWTIEEnS999/X2WtHTp00MKFC21JocVi0dixY23p3TfffFPlcQBQFRovoBa55ZZb9O677%2BqDDz7Q9OnTFRwcLDc3N9v2rKwsrVq1SiNGjLAtd12qV69e6tChQ6XxPn36qHXr1iovL9fOnTslSYmJicrMzFSDBg00YMCAKusZMWKEXFxclJaWZmtomjVrpn379ungwYMKDAysdExZWZkaNmwo6eK1VVW5tLmsSvv27e2W/STppptusv1/VddxVTSAubm5trF69eppx44dOnjwoO66665Kx1itVnl5eVVb61133SWLxVJp/De/%2BY0k6cKFC9W%2BFgC4FBfXA7VQx44d1bFjR0VGRqqgoEAJCQn64osv9K9//UtZWVk6deqUoqKiFBsba3dc165dL3vO9u3b68cff9TJkyclyZZalZSUaOzYsZc9ztXVVeXl5Tp%2B/Ljd%2BT08PHT27FkdPHhQp06dUmpqqo4dO6YjR44oPz9f0sV0qioVSdbl3HjjjZXG6tevb/v/pk2bVtp%2B6QcUfs7d3V1ZWVk6cOCATp48qR9//FHHjx/XkSNH9NNPP1Vb66WJ3qUqvj2grKzs8i8EAH6Gxguo5Tw9PdW7d2/17t1bUVFReuaZZ/TRRx/pwIED%2Bu677%2BzuYP/zTxFeqiLZOX/%2BvKT/S2qKi4uVkJBwxToqjpOk48eP669//at27dpl17A0bNhQISEhSk9PV1JS0mXPdaWvPPL09Kx2e8USoxEZGRl68cUX9cknn6ikpMTuZ3Tp0kVlZWXVLhde2vBVxcrnkwBcBRovoBaYO3eu9u3bp3vvvVdTp0697H4eHh564YUX9Omnn6qkpEQnTpywa7wqkqaqVCzBVdyGoqK56dSpkzZt2mS41qysLI0bN05ZWVlq1aqVxowZo1tvvVW/%2Bc1v1Lp1a1ksFs2aNavaxstRioqKNGHCBB07dkze3t568MEH1blzZ/n7%2B6tt27ZydXXVK6%2B8wnVaAByGxguoBYqKivTDDz9ox44d1TZe0sVUqUGDBsrJyan0lUEVy4dVqWiEbrnlFkkXb/cgXbw1RGlpaZVLdVarVXFxcWrZsqVatWql%2BvXra%2BPGjcrKypK3t7c2btxY5dcWVVzA72w7duzQsWPHVK9ePcXGxla6uF5SldfKAcC1wsX1QC1Q8YnCb7/99orp0xdffKGcnBx5e3tXusv97t27bfemutTOnTt19uxZ1a9fX2FhYZKkHj16qFGjRsrLy7vsz9y6dasmTJigwYMH2xqUH3/8UZLUqlWrKpuulJQUHThwQJLzr3%2BqqLVBgwZVNl2ZmZn6/PPPJTm/VgC/DjReQC3Qu3dvDRo0SJL07LPPasGCBbamoUJRUZE2btyomTNnSpKioqIq3TU9Pz9f06ZN09mzZ21jcXFxmjNnjqSLNx%2BtuC2Cl5eX7RYNCxYs0MaNG%2B2u19qxY4fmzZsn6eLtH9q2bSvp/z7Nl5SUpO3bt9v2t1qt2r17tyZNmmS7lupyt71wlIpaf/rpJ/3973%2B3ux7rwIEDeuSRR2w3fHV2rQB%2BHVhqBGqJ6OhoeXl56YMPPtBbb72lt956S61atVKzZs1UVFSkkydPqri4WG5ubpo1a5YeeuihSufw8/PTkSNHFB4ersDAQOXn59s%2BxThs2DD97ne/s9t/8uTJSk1N1XvvvadnnnlGL730klq3bq20tDSlp6dLuniX%2Bb/85S%2B2Y0aPHq13331XP/zwg2bMmKGbbrpJTZs21dmzZ5WVlSU3Nzf17NlT8fHxTl9yDAsLU3BwsBITE7Vw4UKtWbNGLVq0UEZGhtLS0mSxWHTHHXfoq6%2B%2BUnp6uqxWa5W3jgCAmkLjBdQS9evX1%2BLFizV27Fht27ZNcXFxSktLU1JSkjw9PdWuXTv16dNHo0ePtiU5P9elSxdFR0dr2bJl%2Buabb1SvXj317NlTDz74oO1GoZeyWCyaP3%2B%2BBg0apH/%2B8586cOCAjhw5Ind3dwUFBWnYsGGKiIiw%2B2Rfw4YNtWHDBq1Zs0Y7d%2B7Ujz/%2BqMzMTLVs2VJ33XWXJkyYIC8vL4WHhyspKUlnzpxRq1atrtm8VcfV1VXr1q3T22%2B/rY8%2B%2Bkipqan6/vvv5ePjoyFDhmjs2LHq1KmTQkNDlZOTo4SEhCveYwwAzOC7GoHrQMV3HA4fPlzR0dHOLgcAcBlc4wUAAOAgNF4AAAAOQuMFAADgIDReAADgupCdna2BAwcqLi7usvvs2rVLw4cPV1BQkAYPHqydO3fabV%2BzZo369eunoKAgPfzwwzp%2B/HiN1kjjBVwHFi9erKNHj3JhPYBfrW%2B%2B%2BUYRERE6derUZfc5efKkIiMjFRUVpf379ysyMlIzZ8603fpm8%2BbNevvtt7V27VrFxcWpU6dOmjFjRo1%2BJyuNFwAAcKr09HR99913do%2BKewkasXnzZj355JN64oknrrhfSEiIwsPDVa9ePQ0ZMkQ9evRQbGysJOm9997TQw89pICAALm7u2vWrFk6c%2BZMtQna1eI%2BXtXhRoq1X7t2UnKyFBAgnTjh7GpQjaxM7lxT27m4SN7eUk6OdMmXGKAW%2Bv/fde8c1%2BC9MXbZMsXExNiNTZ8%2BXZGRkYaO79Onj4YPH6569epV23ylpKQoMDDQbuyWW26xfZdtSkqKJk%2BebNvm5uYmPz8/JSUlqVevXkZfTrVovFC3eXtLrq4X/wvAFIvl/x6AI0VERNi%2BR7aCj4%2BP4eON7puXlydPT0%2B7MQ8PD%2BXn5xvaXhNovAAAgFP5%2BvrK19f3mv8cT09PFRYW2o0VFhbavvf2SttrAtd4AQAA41xcav7hIIGBgUpOTrYbS0lJUUBAgCQpICDAbntJSYlOnjxZaXnSDBovAABgXB1uvEaMGKH4%2BHht27ZNpaWl2rZtm%2BLj43XPPfdIkkaNGqX169crKSlJRUVFWrJkiZo3b66QkJAaq4HGCwAAXLeCg4O1ZcsWSZK/v79ee%2B01rV69Wj169NCKFSu0fPlytWvXTpI0evRoTZw4UY8//rh69eqlw4cPa/Xq1XJzc6uxeviS7OpwhWntFxwsJSRI3bpJiYnOrgbV4FONtV/F51RycqSyMmdXg%2Bo49VON7u41f86iopo/Zy1F4gUAAOAgfKoRAAAY58Brsq5HNF4AAMA4Gi9TmD0AAAAHIfECAADGkXiZQuMFAACMo/EyhdkDAABwEBIvAABgHImXKcweAACAg5B4AQAA40i8TKHxAgAAxtF4mcLsAQAAOAiJFwAAMI7EyxRmDwAAwEFIvAAAgHEkXqbQeAEAAONovExh9gAAAByExAsAABhH4mUKswcAAOAgJF4AAMA4Ei9TaLwAAIBxNF6mMHsAAAAOQuIFAACMI/EyhdkDAABwEBIvAABgHImXKTReAADAOBovU5g9AAAAByHxAgAAxpF4mcLsAQAAOAiJFwAAMI7EyxQaLwAAYByNlynMHgAAgIOQeAEAAONIvExh9gAAAByExAsAABhH4mUKjRcAADCOxssUZg8AAMBBSLwAAIBxJF6mMHsAAAAOQuIFAACMI/EyhcYLAAAYR%2BNlCrMHAADgICReAADAOBIvU2i8AABAnZaVlaXnnntO8fHxcnV11YgRIzR79mzVq2ff5kyaNEnffPON3Vh%2Bfr4iIiL0wgsvKDMzU71795aXl5dte9OmTfXZZ5/VWK00XgAAwLhamHjNnDlTLVq00J49e5SZmampU6dq3bp1mjRpkt1%2Br7/%2But3zDRs2KCYmRtOnT5ckHTp0SDfddFONNlo/R%2BMFAACMuwaNV3p6ujIyMuzGfHx85Ovre8Vjf/jhB8XHx2v37t3y9PRUmzZtNG3aNL300kuVGq9LHT9%2BXPPnz9fatWttP%2BfQoUPq3LmzuRdzBTReAADAqWJjYxUTE2M3Nn36dEVGRl7x2OTkZHl7e6tFixa2MX9/f505c0bnz59X48aNqzzuz3/%2Bs0aOHKmQkBDb2KFDh/TTTz9p2LBhyszMVJcuXTR79mzdcsstv/CVVUbjBQAAjLsGiVdERITCwsLsxnx8fAwdm5eXJ09PT7uxiuf5%2BflVNl779%2B/XwYMHFR0dbTfeuHFj3XLLLZo8ebLq16%2BvpUuX6pFHHtG2bdvUqFGjq3lJl0XjBQAAnMrX19fQsmJVvLy8VFBQYDdW8bxBgwZVHhMbG6vBgwdXau6WLFli93zOnDnauHGj9u/fr/79%2B/%2Bi%2Bn6u9l0hBwAAai8Xl5p/mBAQEKCcnBxlZmbaxo4dO6aWLVtWmVKVlpbqP//5j0aMGGE3npubqxdffFGnT5%2B2jZWVlam0tFQeHh6marwUjRcAADCuljVefn5%2B6t69uxYuXKjc3FylpqZqxYoVGj16dJX7Hz16VEVFRerWrZvdeMOGDfXVV1/pxRdf1IULF5SXl6f58%2BerdevWdteBmUXjBQAA6rRly5aptLRUAwYM0JgxY9S3b19NmzZNkhQcHKwtW7bY9k1NTVWTJk3k7u5e6TwrVqxQeXm5wsPD1bdvX2VkZGjNmjVyc3OrsVotVqvVWmNnu95YLM6uAFcSHCwlJEjdukmJic6uBtXIyuSfmtrO1VXy9pZycqSyMmdXg%2Bo0a%2BbEHz5oUM2fc/v2mj9nLcXF9QAAwLhaeAPVuoTZAwAAcBASLwAAYByJlynMHgAAgIOQeAEAAONIvEyh8QIAAMbReJnC7AEAADgIiRcAADCOxMsUZg8AAMBBSLwAAIBxJF6m0HgBAADjaLxMYfYAAAAchMQLAAAYR%2BJlCrMHAADgICReAADAOBIvU2i8AACAcTRepjB7AAAADkLiBQAAjCPxMoXZAwAAcBASLwAAYByJlyk0XgAAwDgaL1OYPQAAAAch8QIAAMaReJnC7AEAADgIiRcAADCOxMsUGi8AAGAcjZcpzB4AAICDkHgBAADjSLxMYfYAAAAchMQLAAAYR%2BJlCo0XAAAwjsbLFGYPAADAQUi8AACAcSRepjB7AAAADkLiBQAAjCPxMoXGCwAAGEfjZQqzBwAA4CAkXgAAwDgSL1OYPQAAAAch8QIAAMaReJlC4wUAAIyj8TKF2QMAAHCQ67bxOnnypLNLAADg%2BuPiUvOPX5Ff9GpPnDih2bNnq1%2B/fgoODlZ4eLiio6OVl5dX0/X9IocPH9awYcOcXQYAANefWth4ZWVladq0aQoJCVFoaKgWLFig0tLSKvedNGmSunTpouDgYNtj9%2B7dkqSysjK9%2BOKLuuOOOxQcHKypU6cqPT3ddH2XuupXm5CQoHvvvVc33XSTPvjgAyUmJmrNmjU6ePCgHn30UZWVldVogb/EhQsXVFJS4uwyAACAA8ycOVNeXl7as2ePNmzYoL1792rdunVV7vvtt99q7dq1SkxMtD369esnSVq5cqW%2B/PJLbdy4UXv27JGHh4eeffbZGq31qi%2Bunzt3rkaOHKkZM2bYxtq1a6dXXnlFc%2BfOVWpqqgYNGqS33npLoaGhkqRNmzYpJiZGn332meLi4vTUU08pJCREu3bt0pQpU3T8%2BHHl5%2BcrOTlZ586d03vvvScvLy8tXrxYe/fulcViUVhYmJ566ik1bNhQcXFxmjNnju6//369%2B%2B67KioqUmhoqBYtWqRz585p8uTJkqTg4GC98cYbCg4OvuLrSk9PV0ZGht2YT7t28vX2vtopgiN16GD/X9Rarq7OrgBXUvFnxJ8VqnUNlgarfA/28ZGvr%2B8Vj/3hhx8UHx%2Bv3bt3y9PTU23atNG0adP00ksvadKkSXb7pqam6qefftKtt95a5bnef/99Pfnkk7rxxhslSX/605/Up08fpaamqk2bNr/w1dm7qsbr1KlTSk5O1vPPP19pW/PmzbVixQpD5/nf//6n3/zmN1q8eLGKior0l7/8RXv27FFsbKxatmyphg0b6oEHHpCfn5%2B2b9%2BukpISzZkzR3PnztXLL78sSTp9%2BrTS0tL073//W2lpaRo7dqzeffddTZkyRWvWrNH48eOVmJho%2BLXFxsYqJibGbmx6VJQio6IMnwNO9O67zq4AV8CvMHVHo0bOrgC/NlW%2BB0%2BfrsjIyCsem5ycLG9vb7Vo0cI25u/vrzNnzuj8%2BfNq3LixbfzQoUNq0KCBnnjiCR06dEjNmzfXxIkTNXr0aF24cEH/%2B9//FBgYaNu/efPmatKkiY4ePeqcxis7O9tWiFmjR4%2BWm5ub3NzcJElBQUG2F/vf//5X3333nd588001aNBAkjR79mzdfffdeu6552znePzxx%2BXh4aGbb75ZoaGhOnHixC%2BuJyIiQmFhYXZjPsOHS3//%2By8%2BJxygQ4eLTddDD0lJSc6uBtXI%2BSzB2SXgClxdLzZdFy5IteCqEVTDqYsx1yDxqvI92MfH0LF5eXny9PS0G6t4np%2Bfb9d4FRcXKygoSE888YQCAgIUFxenyMhINWjQwLY65uXlZXcuDw%2BPGr2G/aoar4pJyMjIkJ%2BfX6XtmZmZhpuyn8eHlz7/8ccfVVZWpjvvvNNun/r16ys1NbVSPZLk5uYmq9Vq6Gdfrp5KkaaJRg4OlpQkXUXCCcfjjbzuKCvjzwvVuAaNV5XvwQZ5eXmpoKDAbqzieUV4U2HkyJEaOXKk7XmfPn00cuRIffzxx7rjjjvsjq1QWFhY6TxmXNXs3XTTTQoMDNS2bdsqbcvKylL//v314YcfysXFxe7i9nPnzlXa32KxXPZ5y5Yt5eHhobi4OO3fv1/79%2B/XV199pQ8%2B%2BOCy67IAAODXJyAgQDk5OcrMzLSNHTt2TC1btlSjn62bb9iwQR9//LHdWHFxsdzd3dWkSRO1aNFCKSkptm0ZGRnKycmxW34066rb1ueee04bN25UTEyMzp07J6vVqiNHjuj3v/%2B9OnXqpEGDBsnf31/bt29XaWmpTp06pQ0bNlzVz%2BjatatuvvlmLV68WHl5eSosLNTChQs1ceJEQ5%2BadHd3l3Tx040AAKAG1bLbSfj5%2Bal79%2B5auHChcnNzlZqaqhUrVmj06NGV9s3NzdX8%2BfN1%2BPBhlZeX6/PPP9eHH36oiIgISdJ9992nlStXKjU1Vbm5uVq4cKF69uyptm3bmqrxUlf9anv27Kn169fr8OHDGjp0qLp166YZM2aoV69eev311%2BXm5qZ58%2Bbpu%2B%2B%2BU8%2BePTVz5swqX3x16tWrp9WrVyszM1O//e1v1adPH506dUpvvvmmramqTmBgoLp3766%2Bfftq165dV/sSAQBAHbJs2TKVlpZqwIABGjNmjPr27atp06ZJuniHgy1btkiSJkyYoHHjxmn69OkKDg5WdHS0XnzxRYWEhEi6eO34nXfeqbFjx%2BrOO%2B9UUVGRXn311Rqt1WI1c2HU9e5ny6GohYKDpYQEqVs3rvGq5bIy%2BaemtnN1vXjRdk4O13jVds2aOfGHL1pU8%2BecM6fmz1lL8SXZAADAuF/ZV/zUNGYPAADAQUi8AACAcSRepjB7AAAADkLiBQAAjCPxMoXGCwAAGEfjZQqzBwAA4CAkXgAAwDgSL1OYPQAAAAch8QIAAMaReJlC4wUAAIyj8TKF2QMAAHAQEi8AAGAciZcpzB4AAICDkHgBAADjSLxMofECAADG0XiZwuwBAAA4CIkXAAAwjsTLFGYPAADAQUi8AACAcSReptB4AQAA42i8TGH2AAAAHITECwAAGEfiZQqzBwAA4CAkXgAAwDgSL1NovAAAgHE0XqYwewAAAA5C4gUAAIwj8TKF2QMAAHAQEi8AAGAciZcpNF4AAMA4Gi9TmD0AAAAHIfECAADGkXiZQuMFAACMo/EyhdkDAABwEBIvAABgHImXKcweAACAg5B4AQAA40i8TKHxAgAAxtF4mcLsAQAAOAiJFwAAMI7EyxRmDwAAwEFIvAAAgHEkXqbQeAEAAONqYeOVlZWl5557TvHx8XJ1ddWIESM0e/Zs1atXuc35xz/%2BoXXr1ik9PV2%2Bvr4aP368xo4dK0kqLy9X9%2B7dZbVaZbFYbMd8%2BeWX8vLyqpFaabwAAECdNnPmTLVo0UJ79uxRZmampk6dqnXr1mnSpEl2%2B%2B3YsUMvv/yy1qxZo9tuu00HDhzQlClT1Lx5cw0aNEgpKSkqKSlRQkKC6tevf01qpfECAADGXYPEKz09XRkZGXZjPj4%2B8vX1veKxP/zwg%2BLj47V79255enqqTZs2mjZtml566aVKjVdaWpomT56soKAgSVJwcLBCQ0P19ddfa9CgQTp06JDat29/zZouicYLAAA4WWxsrGJiYuzGpk%2BfrsjIyCsem5ycLG9vb7Vo0cI25u/vrzNnzuj8%2BfNq3LixbbxiSbFCVlaWvv76a82ZM0eSdOjQIRUVFWnUqFE6ffq0/P39NWvWLHXr1s3My7ND4wUAAIy7BolXRESEwsLC7MZ8fHwMHZuXlydPT0%2B7sYrn%2Bfn5do3XpTIyMvS73/1OnTt31rBhwyRJHh4e6tq1q6KiotSkSRO98847euyxx7Rlyxa1adPmal9WlWi8AACAcdeg8fL19TW0rFgVLy8vFRQU2I1VPG/QoEGVxxw4cEBRUVEKCQnRokWLbBfhP/3003b7PfbYY9q0aZN27dqlcePG/aL6fq72fTQBAADAoICAAOXk5CgzM9M2duzYMbVs2VKNGjWqtP%2BGDRs0ceJETZgwQUuWLLG7nuuVV17R4cOH7fYvLi6Wu7t7jdVL4wUAAIxzcan5hwl%2Bfn7q3r27Fi5cqNzcXKWmpmrFihUaPXp0pX23b9%2Bu559/XsuXL9ejjz5aafv333%2BvBQsWKCMjQ8XFxYqJiVFubq4GDhxoqsZL0XgBAIA6bdmyZSotLdWAAQM0ZswY9e3bV9OmTZN08ZOLW7ZskSTFxMSorKxMM2bMUHBwsO0xd%2B5cSdJ0gU2RAAAgAElEQVSiRYvUtm1b3XPPPQoNDVV8fLzefPNNeXt711itFqvVaq2xs11vLrl5Gmqp4GApIUHq1k1KTHR2NahGVib/1NR2rq6St7eUkyOVlTm7GlSnWTMn/vC9e2v%2BnLffXvPnrKW4uB4AABhXC%2B9cX5cwewAAAA5C4gUAAIwj8TKF2QMAAHAQEi8AAGAciZcpNF4AAMA4Gi9TmD0AAAAHIfECAADGkXiZwuwBAAA4CIkXAAAwjsTLFBovAABgHI2XKcweAACAg5B4AQAA40i8TGH2AAAAHITECwAAGEfiZQqNFwAAMI7GyxRmDwAAwEFIvAAAgHEkXqYwewAAAA5C4gUAAIwj8TKFxgsAABhH42UKswcAAOAgJF4AAMA4Ei9TmD0AAAAHIfECAADGkXiZQuMFAACMo/EyhdkDAABwEBIvAABgHImXKTReAADAOBovU5g9AAAAByHxAgAAxpF4mcLsAQAAOAiJFwAAMI7EyxQaLwAAYByNlynMHgAAgIOQeAEAAONIvExh9gAAAByExAsAABhH4mUKjRcAADCOxssUZg8AAMBBSLwAAIBxJF6mMHsAAAAOQuIFAACMI/EyhdkDAADGubjU/MOkrKwsTZs2TSEhIQoNDdWCBQtUWlpa5b67du3S8OHDFRQUpMGDB2vnzp1229esWaN%2B/fopKChIDz/8sI4fP266vkvReAEAgDpt5syZ8vLy0p49e7Rhwwbt3btX69atq7TfyZMnFRkZqaioKO3fv1%2BRkZGaOXOm0tLSJEmbN2/W22%2B/rbVr1youLk6dOnXSjBkzZLVaa6xWGi8AAGDcNUi80tPT9d1339k90tPTDZXzww8/KD4%2BXn/84x/l6empNm3aaNq0aXrnnXcq7bt582aFhIQoPDxc9erV05AhQ9SjRw/FxsZKkt577z099NBDCggIkLu7u2bNmqUzZ84oLi6uxqaPa7yqkZVZcx0urg1XV8lbUs5nCSorc3Y1qE6z5hZnl4ArCQ6WEhLkHdZNSkx0djWoTg0mMLVBbGysYmJi7MamT5%2BuyMjIKx6bnJwsb29vtWjRwjbm7%2B%2BvM2fO6Pz582rcuLFtPCUlRYGBgXbH33LLLUpKSrJtnzx5sm2bm5ub/Pz8lJSUpF69ev2i1/ZzNF4AAMAwq2r%2Bl6iIiAiFhYXZjfn4%2BBg6Ni8vT56ennZjFc/z8/PtGq%2Bq9vXw8FB%2Bfr6h7TWBxgsAABhWXl7z5/T19ZWvr%2B8vOtbLy0sFBQV2YxXPGzRoYDfu6empwsJCu7HCwkLbflfaXhO4xgsAANRZAQEBysnJUWZmpm3s2LFjatmypRo1amS3b2BgoJKTk%2B3GUlJSFBAQYDvXpdtLSkp08uTJSsuTZtB4AQAAw8rLa/5hhp%2Bfn7p3766FCxcqNzdXqampWrFihUaPHl1p3xEjRig%2BPl7btm1TaWmptm3bpvj4eN1zzz2SpFGjRmn9%2BvVKSkpSUVGRlixZoubNmyskJMRckZeg8QIAAHXasmXLVFpaqgEDBmjMmDHq27evpk2bJkkKDg7Wli1bJF286P61117T6tWr1aNHD61YsULLly9Xu3btJEmjR4/WxIkT9fjjj6tXr146fPiwVq9eLTc3txqr1WKtyZtTXGeyspxdAa7E1VXy9pZycsSnGms5PtVYB/z/TzWqG59qrPWc%2BNZdVFTz53R3r/lz1lZcXA8AAAy7FhfX/5qw1AgAAOAgJF4AAMAwEi9zSLwAAAAchMQLAAAYRuJlDo0XAAAwjMbLHJYaAQAAHITECwAAGEbiZQ6JFwAAgIOQeAEAAMNIvMyh8QIAAIbReJnDUiMAAICDkHgBAADDSLzMIfECAABwEBIvAABgGImXOTReAADAMBovc1hqBAAAcBASLwAAYBiJlzk0XgAAwDAaL3NYagQAAHAQEi8AAGAYiZc5JF4AAAAOQuIFAAAMI/Eyh8YLAAAYRuNlDkuNAAAADkLiBQAADCPxMofECwAAwEFIvAAAgGEkXubQeAEAAMNovMxhqREAAMBBSLwAAIBhJF7mkHgBAAA4CIkXAAAwjMTLHBovAABgGI2XOSw1AgAAOAiJFwAAMIzEyxwSLwAAAAch8QIAAIaReJlD4wUAAAyj8TKHpUYAAAAHIfECAACGkXiZQ%2BIFAADgICReAADAMBIvc2i8AACAYXWt8crPz9f8%2BfP12WefqbS0VAMGDNC8efPUoEGDKvffvn27VqxYodTUVHl7e%2Bu%2B%2B%2B7TtGnT5OJycZFw8ODBOnPmjO25JG3YsEH%2B/v6G6qHxAgAA16358%2Bfr7Nmz2r59u8rKyjRz5kxFR0dr3rx5lfb99ttv9dRTT%2BnVV1/VnXfeqRMnTmjy5Mny8vLSo48%2BqtzcXJ04cUL/%2Bc9/dNNNN/2ierjGCwAAGFZeXvOP9PR0fffdd3aP9PR007UWFBRo69atmjFjhry9vdWsWTM9%2BeST2rRpkwoKCirtf/r0aT3wwAPq37%2B/XFxc5O/vr4EDB%2Brrr7%2BWdLEx8/b2/sVNl0TiBQAAnCw2NlYxMTF2Y9OnT1dkZOQVjy0sLFRaWlqV2woKClRSUqLAwEDbmL%2B/vwoLC3Xy5El17NjRbv9BgwZp0KBBduf%2B/PPPNXz4cEnSoUOH5OnpqXHjxik5OVk33XSTIiMj1b9/f8OvlcYLAAAYdi2u8YqIiFBYWJjdmI%2BPj6FjDx48qPHjx1e5LSoqSpLk5eVlG/P09JQk5eXlVXve3NxcRUVFycPDQxMnTpQkWSwWdenSRX/4wx/UqlUrffLJJ4qMjNT69esVFBRkqF4aLwAAYNi1aLx8fX3l6%2Bv7i44NDQ3V0aNHq9x2%2BPBhLV26VAUFBbaL6SuWGBs2bHjZcx4/flwzZsxQs2bN9NZbb9n2nTRpkt1%2BI0aM0Icffqjt27cbbry4xgsAAFyX2rVrJzc3N6WkpNjGjh07Jjc3N/n5%2BVV5zK5du3T//ferb9%2B%2BWrt2rZo0aWLbtnbtWu3du9du/%2BLiYrm7uxuuicYLAAAYdi0urr9WPD09NXjwYEVHRys7O1vZ2dmKjo7WsGHD5OHhUWn/AwcO6PHHH9ecOXM0e/Zs1atnvzB49uxZ/fnPf1ZqaqpKS0u1YcMGJSYm6t577zVcE40XAAC4bs2bN09%2Bfn4aPny47r77brVu3Vpz5861bR86dKhWrVolSVq1apVKS0u1YMECBQcH2x4VS4xPPfWU%2BvXrp4ceekghISH65z//qb/97W%2B6%2BeabDddjsVqt1pp9idePrCxnV4ArcXWVvL2lnByprMzZ1aA6zZpbnF0CriQ4WEpIkLp1kxITnV0NquPEt%2B7t22v%2BnJd8kPC6x8X1AADAsLp25/rahqVGAAAAByHxAgAAhpF4mUPiBQAA4CAkXgAAwDASL3NovAAAgGE0Xuaw1AgAAOAgJF4AAMAwEi9zaLwAAIBhNF7msNQIAADgICReAADAMBIvc0i8AAAAHITECwAAGEbiZQ6NFwAAMIzGyxyWGgEAAByExAsAABhG4mUOiRcAAICDkHgBAADDSLzMofECAACG0XiZw1IjAACAg5B4AQAAw0i8zCHxAgAAcBASLwAAYBiJlzk0XgAAwDAaL3NYagQAAHAQEi8AAGAYiZc5JF4AAAAOQuIFAAAMI/Eyh8YLAAAYRuNlDkuNAAAADkLiBQAADCPxMofECwAAwEFIvAAAgGEkXubQeAEAAMNovMxhqREAAMBBSLwAAIBhJF7mkHgBAAA4CIkXAAAwjMTLHBovAABgGI2XOSw1AgAAOAiJFwAAMIzEyxwSLwAAAAdxWuPVvn17TZkyRVar1W5806ZNCgsLc1JVAACgOuXlNf%2B4lvLz8zVnzhyFhoaqe/fueuqpp5SXl3fZ/efNm6fOnTsrODjY9oiNjbVtX7Nmjfr166egoCA9/PDDOn78%2BFXV49TEa9euXXr99dedWQIAALgKda3xmj9/vs6ePavt27fr008/1dmzZxUdHX3Z/Q8dOqT58%2BcrMTHR9oiIiJAkbd68WW%2B//bbWrl2ruLg4derUSTNmzKgUIlXHqY3Xww8/rKVLlyohIeGy%2B5w6dUq///3vFRoaqv79%2B%2BuVV15RcXGxfvrpJ3Xq1ElHjhyRJBUVFalr16566aWXbMfOmDFDS5cuveavAwAA1D4FBQXaunWrZsyYIW9vbzVr1kxPPvmkNm3apIKCgkr7FxcX6/vvv1fnzp2rPN97772nhx56SAEBAXJ3d9esWbN05swZxcXFGa7JqRfXDxw4UFarVX/4wx/0wQcfyNvb2257fn6%2BJk6cqKFDh2rp0qXKzs7WjBkzVF5erlmzZqlnz57avXu3OnbsqPj4eFksFn311VeSLk7eF198oalTpxqqJT09XRkZGXZj9ev7yMfHt2ZeLK4JV1f7/6IWCw52dgW4kg4d7P8LVOFaJFRVvQf7%2BPjI1/fK78GFhYVKS0urcltBQYFKSkoUGBhoG/P391dhYaFOnjypjh072u2flJSk0tJSLVu2TN98840aNWqkUaNGadKkSXJxcVFKSoomT55s29/NzU1%2Bfn5KSkpSr169DL1Wp3%2Bqcfbs2UpMTNTTTz%2BtlStX2m37/PPPVVxcrD/84Q%2ByWCy68cYbFRUVpRkzZmjWrFkKDw/Xtm3b9Lvf/U5ffPGFIiIitH79emVnZ%2Bvbb79V06ZNK03q5cTGxiomJsZu7PHHp2vGjMgae624dho1cnYFuKJqkm3UMu%2B%2B6%2BwK8CtT1Xvw9OnTFRl55ffggwcPavz48VVui4qKkiR5eXnZxjw9PSWpyuu8Lly4oJ49e%2Brhhx/Wyy%2B/rCNHjujxxx%2BXi4uLJk2apLy8PNvxFTw8PJSfn3/FOis4vfGqX7%2B%2BXn31Vd17771644031LRpU9u206dPKzs7Wz169LCNWa1WlZSUKCsrS%2BHh4Vq0aJEuXLigPXv2aOHChYqPj9e%2BffsUFxen3/72t4briIiIqHRRf/36PsrJMf8ace24ul5sui5ckMrKnF0NquMd1s3ZJeBKOnS42HQ99JCUlOTsalAdJ/4icy0Sr6reg318fAwdGxoaqqNHj1a57fDhw1q6dKkKCgrUoEEDSbItMTZs2LDS/r1791bv3r1tz7t27aoJEyZo27ZtmjRpkjw9PVVYWGh3TGFhoe3cRji98ZKktm3bav78%2BXrqqad033332cZbtmyptm3b6pNPPrGN5ebmKisrSzfccIMsFos6dOigTZs2KTMzU126dFGfPn301Vdfac%2BePXr11VcN1%2BDr61sp0szK4s28rigr48%2Bq1ktMdHYFMCopiT8vXNa1aLyqeg%2BuCe3atZObm5tSUlJ02223SZKOHTtmWyL8uR07digzM1MPPPCAbay4uFgeHh6SpICAACUnJ6t///6SpJKSEp08edJuKfNKas19vIYMGaJRo0bZfWSzf//%2BysvL0%2Buvv67i4mKdP39es2fP1hNPPCGLxSLp4nViK1euVK9eveTq6qrevXvrww8/VHl5uYKCgpz1cgAAgJN5enpq8ODBio6OVnZ2trKzsxUdHa1hw4bZmqlLWa1WLVq0SHv37pXValViYqLeeust26caR40apfXr1yspKUlFRUVasmSJmjdvrpCQEMM11ZrGS5KeeeYZu2uyGjZsqHXr1ikuLk79%2BvVTeHi4XFxc7K4FCw8P17lz52zRYPfu3WWxWBQeHm5rzgAAQM2oa7eTmDdvnvz8/DR8%2BHDdfffdat26tebOnWvbPnToUK1atUrSxTBnzpw5ev755xUcHKw//vGPioyM1D333CNJGj16tCZOnKjHH39cvXr10uHDh7V69Wq5ubkZrsdivZqbT/zKZGU5uwJciaur5O0t5eSw1FjbNWvOL0K1XnDwxWuHunVjqbG2c%2BJb95/%2BVPPnXLCg5s9ZW9WKa7wAAEDdwHc1mkPjBQAADKPxMqdWXeMFAABwPSPxAgAAhpF4mUPjBQAADKPxMoelRgAAAAch8QIAAIaReJlD4gUAAOAgJF4AAMAwEi9zaLwAAIBhNF7msNQIAADgICReAADAMBIvc0i8AAAAHITECwAAGEbiZQ6NFwAAMIzGyxyWGgEAAByExAsAABhG4mUOiRcAAICDkHgBAADDSLzMofECAACG0XiZw1IjAACAg5B4AQAAw0i8zCHxAgAAcBASLwAAYBiJlzk0XgAAwDAaL3NYagQAAHAQEi8AAGAYiZc5JF4AAAAOQuIFAAAMI/Eyh8YLAAAYRuNlDkuNAAAADkLiBQAADCPxMofECwAAwEFIvAAAgGEkXubQeAEAAMNovMxhqREAAMBBSLwAAIBhJF7mkHgBAAA4CIkXAAAwjMTLHBovAABgGI2XOSw1AgAAOAiJFwAAMIzEyxwSLwAAAAch8QIAAIbVtcQrPz9f8%2BfP12effabS0lINGDBA8%2BbNU4MGDSrtO3fuXG3dutVurLCwUHfccYfWrl2r8vJyde/eXVarVRaLxbbPl19%2BKS8vL0P10HgBAADD6lrjNX/%2BfJ09e1bbt29XWVmZZs6cqejoaM2bN6/Svi%2B88IJeeOEF2/MvvvhCs2bN0tNPPy1JSklJUUlJiRISElS/fv1fVA9LjQAA4LpUUFCgrVu3asaMGfL29lazZs305JNPatOmTSooKKj22OzsbD355JP605/%2BpICAAEnSoUOH1L59%2B1/cdEkkXgAA4Cpci8QrPT1dGRkZdmM%2BPj7y9fW94rGFhYVKS0urcltBQYFKSkoUGBhoG/P391dhYaFOnjypjh07Xva80dHR6ty5s0aMGGEbO3TokIqKijRq1CidPn1a/v7%2BmjVrlrp163bFOivQeAEAAMOuReMVGxurmJgYu7Hp06crMjLyiscePHhQ48ePr3JbVFSUJNldf%2BXp6SlJysvLu%2Bw5U1NTtWXLFr3//vt24x4eHuratauioqLUpEkTvfPOO3rssce0ZcsWtWnT5oq1SjReAADAySIiIhQWFmY35uPjY%2BjY0NBQHT16tMpthw8f1tKlS1VQUGC7mL5iibFhw4aXPefGjRsVHBxcKRGruNarwmOPPaZNmzZp165dGjdunKF6abwAAIBh1yLx8vX1NbSseLXatWsnNzc3paSk6LbbbpMkHTt2TG5ubvLz87vscZ9%2B%2BqkeffTRSuOvvPKKBg0apFtvvdU2VlxcLHd3d8M1cXE9AAC4Lnl6emrw4MGKjo5Wdna2srOzFR0drWHDhsnDw6PKY86dO6djx46pR48elbZ9//33WrBggTIyMlRcXKyYmBjl5uZq4MCBhmui8QIAAIaVl9f841qaN2%2Be/Pz8NHz4cN19991q3bq15s6da9s%2BdOhQrVq1yvb8xx9/lCS1aNGi0rkWLVqktm3b6p577lFoaKji4%2BP15ptvytvb23A9FqvVajXxeq5rWVnOrgBX4uoqeXtLOTlSWZmzq0F1mjW3XHknOFdwsJSQIHXrJiUmOrsaVMeJb923317z59y7t%2BbPWVuReAEAADgIF9cDAADD6tqd62sbEi8AAAAHIfECAACGkXiZQ%2BMFAAAMo/Eyh6VGAAAAByHxAgAAhpF4mUPiBQAA4CAkXgAAwDASL3NovAAAgGE0Xuaw1AgAAOAgJF4AAMAwEi9zSLwAAAAchMQLAAAYRuJlDo0XAAAwjMbLHJYaAQAAHITECwAAGEbiZQ6JFwAAgIOQeAEAAMNIvMyh8QIAAIbReJnDUiMAAICDkHgBAADDSLzMIfECAABwEBIvAABgGImXOTReAADAMBovc1hqBAAAcBASLwAAYBiJlzkkXgAAAA5C4gUAAAwj8TKHxgsAABhG42UOS40AAAAOQuIFAAAMI/Eyh8QLAADAQUi8AACAYSRe5tB4AQAAw2i8zGGpEQAAwEFIvAAAgGEkXubQeAEAAMNovMxhqREAAMBBSLwAAIBhJF7mkHgBAAA4CIkXAAAwjMTLHBovAABgGI2XOSw1AgCA615BQYEiIiK0adOmavc7ePCg7r//fgUHByssLEzvv/%2B%2B3fbNmzdr4MCBCgoK0n333afExMSrqoPGCwAAGFZeXvOPay05OVljx47VgQMHqt3vp59%2B0pQpUzRy5Eh9/fXXWrBggRYtWqT//ve/kqS4uDjNnz9fixcv1tdff60RI0Zo6tSpKigoMFwLjRcAALhu7d27VxMmTNC9996rVq1aVbvvp59%2BKm9vb40dO1b16tXT7bffruHDh%2Budd96RJL3//vsaOnSounfvLjc3N02cOFFNmzbVtm3bDNfDNV4AAMCwa5FQpaenKyMjw27Mx8dHvr6%2BVzy2sLBQaWlpVW7z8fFRhw4dtHPnTrm7u%2BvNN9%2Bs9lzJyckKDAy0G7vlllu0YcMGSVJKSopGjRpVaXtSUtIV66xA41WNZs2cXQGuJD09XcuXxyoiIsLQX1A4kdXq7ApwBenp6YpdvlwRn3zC3ydc1rX4q7x8eaxiYmLsxqZPn67IyMgrHnvw4EGNHz%2B%2Bym2vvfaawsPDDdeRl5cnT09PuzEPDw/l5%2Bcb2m4EjRfqtIyMDMXExCgsLIw3CsAk/j7BWSIiIhQWFmY35uPjY%2BjY0NBQHT16tEbq8PT01IULF%2BzGCgsL1aBBA9v2wsLCStubNm1q%2BGfQeAEAAKfy9fWtFc1%2BYGCgvvzyS7uxlJQUBQQESJICAgKUnJxcaXu/fv0M/wwurgcAAJA0cOBAZWZmat26dSopKdG%2Bffu0detW23Vdo0eP1tatW7Vv3z6VlJRo3bp1ysrK0sCBAw3/DBovAADwqzV06FCtWrVKktS0aVO98cYb%2BuSTTxQaGqpnn31Wzz77rHr16iVJuv322zVv3jw9//zz6tmzpz766COtWbNG3t7ehn%2BexWrlilfUXenp6YqN5eJ6oCbw9wm49mi8AAAAHISlRgAAAAeh8QIAAHAQGi8AAAAHofECAABwEBovAAAAB6HxAgAAcBAaLwAAAAeh8QIAAHAQGi8AAAAHofECAABwEBov1DkHDx6scnz37t0OrgSo%2B5YvX66jR486uwzgV4PGC3XOI488UmksNzdXUVFRTqgGqNuSk5P10EMPaeDAgXrppZcu%2B4sNgJrBl2SjTvjhhx80dOhQlZWVyWq1ymKxVNqnW7dueuedd5xQHVC3lZSUaO/evfrss8%2B0a9culZeXa%2BDAgXr22WedXRpw3aHxQp1x5MgRnT9/XlOmTNGaNWvstrm7uyswMFCenp5Oqg6o23JycrR371599dVX%2BvDDD2WxWJSQkODssoDrDo0X6pzU1FS1adPG2WUA14UlS5boyy%2B/1Pfff6/AwED17t1bvXv3Vvfu3eXm5ubs8oDrDo0X6py8vDy9%2B%2B67OnnypMrLy%2B22LVq0yElVAXVT165d5eLiogceeEBDhgxRly5dqlzKB1Az6jm7AOBqzZkzR4mJiQoNDeU3csCk/fv3Kz4%2BXl988YXmzJmjzMxM9erVS3369NH999/v7PKA6w6JF%2Bqc0NBQbdiwgeVGoIbl5uZq06ZNWrlypXJycnTkyBFnlwRcd0i8UOe4u7urRYsWzi4DuC4kJSVp9%2B7d2rNnjw4cOKCOHTvqkUceUXh4uLNLA65LJF6oc1atWqX09HRNnz5dN9xwg7PLAeq0zp07q2fPnhowYIDCw8P5pQa4xmi8UOeEhYXpzJkzVV4AzNIIcHXOnz%2Bvxo0bS5Kys7P5ZQa4xmi8UOfEx8dfdlvPnj0dWAlQ95WWlmr58uVav369ysrKtGXLFj3xxBNauXKlfH19nV0ecN3hK4NQ5/Ts2VM9e/ZU%2B/bt5eXlpZCQEAUFBdF0Ab/A8uXLtW/fPi1dulRubm5q3ry5WrZsqQULFji7NOC6ROOFOicvL0%2BzZs1SaGioxo0bp5MnT2rgwIE6fvy4s0sD6pytW7dq2bJl6tOnjywWi7y8vLRo0SLt27fP2aUB1yUaL9Q5f/3rX5Wfn6%2BPP/5Ybm5uatOmjfr3789v6MAvkJ%2Bfb7uuq%2BLKEw8PD7m48PYAXAv8zUKds3PnTi1evFjt2rWTxWKRm5ubnn76aR06dMjZpQF1TlBQkGJiYiTJ9oGVt99%2BW126dHFmWcB1i/t4oc4pLy9X/fr1Jf3fb%2BiXjgEw7k9/%2BpMmTJigzZs3Ky8vT0OGDFFeXp7efPNNZ5cGXJdovFDn9OrVSy%2B88ILmzp1r%2Bw391Vdf5eJ64Bdo06aNPvroI%2B3cuVNnzpxRy5Ytddddd6lhw4bOLg24LnE7CdQ5WVlZmjp1qg4fPqyysjJ5eHjIz89Pq1at4uaPAIBajcYLdU5qaqpat26tQ4cO6fTp02rZsqW6du0qV1dXZ5cG1BlhYWFV3oS4gsVi0Y4dOxxYEfDrQOOFOueOO%2B7Qp59%2BylIIYMLmzZurHD9w4IBiY2N16623atOmTQ6uCrj%2BcY0X6hxvb2%2BlpaXReAEm3HvvvZXG3njjDW3cuFEPPvig5syZ44SqgOsfjRfqnICAAI0ZM0ZBQUGVvtJk0aJFTqoKqLvOnz%2Bv2bNna//%2B/XrppZc0ePBgZ5cEXLdovFDneP2/9u4fJLUogOP4T6GhP0uESxEFYtjmYtDWJNEohAg61xJUQtAQ0uzUFFFjNWVbVEOEU1AgbQ4toUsUapNLgm96gTy1G%2B9xTsf3/WznnOW33R/3nHvP0JBisZjtGEBfeHx81MbGhkZHR3V%2Bfq7JyUnbkYC%2BRvGCc4LBoJLJpIaHh21HAZx2dHSkvb09JRIJbW1t8S88wAAO18M5c3Nzuru74ytG4C%2Bsrq6qUCgolUp1fYMcjUYNpwL6H8ULzslkMgqFQorH43%2Bc8QLgTTgc7rnu8/lUKpUMpQH%2BHxQvOGdhYUEvLy8d/0HEgwIA8JNRvOCc%2B/v7rmtcGwQA%2BMkoXgAAAIbwVSOc0%2Buqk5ubG8NpAADwjuIF56ytrbWNa7Wa8vm8lpeXLSUCAMAbthrRF8rlsjY3N3V2dmY7CgAAXfltBwD%2BhYmJCT0/P9uOAQ8kIuMAAAGLSURBVABAT2w1wjkPDw9t44%2BPD11dXWl6etpOIAAAPKJ4wTnpdLpt7Pf7FQwGlc1mLSUCAMAbznjBKa1WS%2BVyWVNTU59zFxcXWlxc5AohAMCPxxkvOKPRaCiZTCqXy33OVatVbW9vK51Oq9FoWEwHAMDXKF5wxv7%2BvgYGBrS7u/s5NzY2ptvbWzWbTR0cHFhMBwDA19hqhDNisZgODw/bthl/K5VKWl9f1/X1tYVkAAB4wxsvOKNarXYsXZI0Ozurt7c3w4kAAPgeihecMTIyonq93nHt/f1dg4ODhhMBAPA9FC84Y35%2BXicnJx3XTk9PFYlEDCcCAOB7%2BI8XnLGysqJ4PK56va6lpSUFAgG9vr7q8vJS%2BXxex8fHtiMCANATh%2BvhlGKxqGw2q6enJ/l8PrVaLc3MzGhnZ0fRaNR2PAAAeqJ4wUmVSkW1Wk2BQEDj4%2BO24wAA4AnFCwAAwBAO1wMAABhC8QIAADCE4gUAAGAIxQsAAMAQihcAAIAhFC8AAABDKF4AAACG/AIXax/OFFS8LQAAAABJRU5ErkJggg%3D%3D\" class=\"center-img\">\n",
       "</div>\n",
       "    <div class=\"row headerrow highlight\">\n",
       "        <h1>Sample</h1>\n",
       "    </div>\n",
       "    <div class=\"row variablerow\">\n",
       "    <div class=\"col-md-12\" style=\"overflow:scroll; width: 100%%; overflow-y: hidden;\">\n",
       "        <table border=\"1\" class=\"dataframe sample\">\n",
       "  <thead>\n",
       "    <tr style=\"text-align: right;\">\n",
       "      <th></th>\n",
       "      <th>Current</th>\n",
       "      <th>New</th>\n",
       "    </tr>\n",
       "  </thead>\n",
       "  <tbody>\n",
       "    <tr>\n",
       "      <th>0</th>\n",
       "      <td>264</td>\n",
       "      <td>277</td>\n",
       "    </tr>\n",
       "    <tr>\n",
       "      <th>1</th>\n",
       "      <td>261</td>\n",
       "      <td>269</td>\n",
       "    </tr>\n",
       "    <tr>\n",
       "      <th>2</th>\n",
       "      <td>267</td>\n",
       "      <td>263</td>\n",
       "    </tr>\n",
       "    <tr>\n",
       "      <th>3</th>\n",
       "      <td>272</td>\n",
       "      <td>266</td>\n",
       "    </tr>\n",
       "    <tr>\n",
       "      <th>4</th>\n",
       "      <td>258</td>\n",
       "      <td>262</td>\n",
       "    </tr>\n",
       "  </tbody>\n",
       "</table>\n",
       "    </div>\n",
       "</div>\n",
       "</div>"
      ],
      "text/plain": [
       "<pandas_profiling.ProfileReport at 0x1c1c606e10>"
      ]
     },
     "execution_count": 145,
     "metadata": {},
     "output_type": "execute_result"
    }
   ],
   "source": [
    "#Pandas Profiling\n",
    "pandas_profiling.ProfileReport(df)"
   ]
  },
  {
   "cell_type": "markdown",
   "metadata": {},
   "source": [
    "\n",
    "\n",
    "#### For each column the following statistics - if relevant for the column type - are presented in an interactive HTML report:\n",
    "* **Essentials**:  type, unique values, missing values\n",
    "* **Quantile statistics** like minimum value, Q1, median, Q3, maximum, range, interquartile range\n",
    "* **Descriptive statistics** like mean, mode, standard deviation, sum, median absolute deviation, coefficient of variation, kurtosis, skewness\n",
    "* **Most frequent values**\n",
    "* **Histogram**\n",
    "* **Correlations** highlighting of highly correlated variables, Spearman and Pearson matrixes\n",
    "\n",
    "\n"
   ]
  },
  {
   "cell_type": "code",
   "execution_count": 146,
   "metadata": {
    "pycharm": {}
   },
   "outputs": [
    {
     "data": {
      "text/plain": [
       "(40, 2)"
      ]
     },
     "execution_count": 146,
     "metadata": {},
     "output_type": "execute_result"
    }
   ],
   "source": [
    "# display the size and shape of the dataset\n",
    "df.shape"
   ]
  },
  {
   "cell_type": "code",
   "execution_count": 147,
   "metadata": {
    "pycharm": {}
   },
   "outputs": [
    {
     "name": "stdout",
     "output_type": "stream",
     "text": [
      "<class 'pandas.core.frame.DataFrame'>\n",
      "RangeIndex: 40 entries, 0 to 39\n",
      "Data columns (total 2 columns):\n",
      "Current    40 non-null int64\n",
      "New        40 non-null int64\n",
      "dtypes: int64(2)\n",
      "memory usage: 720.0 bytes\n"
     ]
    }
   ],
   "source": [
    "#get data type and column names along with the count of variables\n",
    "df.info()"
   ]
  },
  {
   "cell_type": "code",
   "execution_count": 148,
   "metadata": {
    "pycharm": {}
   },
   "outputs": [
    {
     "data": {
      "text/html": [
       "<div>\n",
       "<style scoped>\n",
       "    .dataframe tbody tr th:only-of-type {\n",
       "        vertical-align: middle;\n",
       "    }\n",
       "\n",
       "    .dataframe tbody tr th {\n",
       "        vertical-align: top;\n",
       "    }\n",
       "\n",
       "    .dataframe thead th {\n",
       "        text-align: right;\n",
       "    }\n",
       "</style>\n",
       "<table border=\"1\" class=\"dataframe\">\n",
       "  <thead>\n",
       "    <tr style=\"text-align: right;\">\n",
       "      <th></th>\n",
       "      <th>Current</th>\n",
       "      <th>New</th>\n",
       "    </tr>\n",
       "  </thead>\n",
       "  <tbody>\n",
       "    <tr>\n",
       "      <th>count</th>\n",
       "      <td>40.000000</td>\n",
       "      <td>40.000000</td>\n",
       "    </tr>\n",
       "    <tr>\n",
       "      <th>mean</th>\n",
       "      <td>270.275000</td>\n",
       "      <td>267.500000</td>\n",
       "    </tr>\n",
       "    <tr>\n",
       "      <th>std</th>\n",
       "      <td>8.752985</td>\n",
       "      <td>9.896904</td>\n",
       "    </tr>\n",
       "    <tr>\n",
       "      <th>min</th>\n",
       "      <td>255.000000</td>\n",
       "      <td>250.000000</td>\n",
       "    </tr>\n",
       "    <tr>\n",
       "      <th>25%</th>\n",
       "      <td>263.000000</td>\n",
       "      <td>262.000000</td>\n",
       "    </tr>\n",
       "    <tr>\n",
       "      <th>50%</th>\n",
       "      <td>270.000000</td>\n",
       "      <td>265.000000</td>\n",
       "    </tr>\n",
       "    <tr>\n",
       "      <th>75%</th>\n",
       "      <td>275.250000</td>\n",
       "      <td>274.500000</td>\n",
       "    </tr>\n",
       "    <tr>\n",
       "      <th>max</th>\n",
       "      <td>289.000000</td>\n",
       "      <td>289.000000</td>\n",
       "    </tr>\n",
       "  </tbody>\n",
       "</table>\n",
       "</div>"
      ],
      "text/plain": [
       "          Current         New\n",
       "count   40.000000   40.000000\n",
       "mean   270.275000  267.500000\n",
       "std      8.752985    9.896904\n",
       "min    255.000000  250.000000\n",
       "25%    263.000000  262.000000\n",
       "50%    270.000000  265.000000\n",
       "75%    275.250000  274.500000\n",
       "max    289.000000  289.000000"
      ]
     },
     "execution_count": 148,
     "metadata": {},
     "output_type": "execute_result"
    }
   ],
   "source": [
    "#Generate descriptive statistics that summarize the central tendency,\n",
    "#dispersion and shape of a dataset’s distribution,\n",
    "#excluding NaN values.\n",
    "df.describe()"
   ]
  },
  {
   "cell_type": "markdown",
   "metadata": {
    "pycharm": {}
   },
   "source": [
    "### Observations\n",
    "1. The dataset has 2 columns (Current and New)\n",
    "2. It has 40 rows\n",
    "3. Both columns are of type integer\n",
    "4. There are No null or missing values\n",
    "5. Both these columns contain the distance travelled in yards by the current and new balls respectively \n",
    "6. Both the samples have almost equal mean and median, Hence they are normally distributed.\n",
    "7. There are no outliers present in the dataset"
   ]
  },
  {
   "cell_type": "markdown",
   "metadata": {},
   "source": [
    "##### Compute the interquartile range of the data.\n",
    "\n",
    "The interquartile range (IQR) is the difference between the 75th and 25th percentile of the data. It is a measure of the dispersion similar to standard deviation or variance, but is much more robust against outliers"
   ]
  },
  {
   "cell_type": "code",
   "execution_count": 149,
   "metadata": {},
   "outputs": [
    {
     "data": {
      "text/plain": [
       "12.25"
      ]
     },
     "execution_count": 149,
     "metadata": {},
     "output_type": "execute_result"
    }
   ],
   "source": [
    "iqr(curr_balls)"
   ]
  },
  {
   "cell_type": "code",
   "execution_count": 150,
   "metadata": {},
   "outputs": [
    {
     "data": {
      "text/plain": [
       "12.5"
      ]
     },
     "execution_count": 150,
     "metadata": {},
     "output_type": "execute_result"
    }
   ],
   "source": [
    "iqr(new_balls)"
   ]
  },
  {
   "cell_type": "markdown",
   "metadata": {},
   "source": [
    "### Observation:\n",
    "Interquartile range in both current ball and the new ball is almost same."
   ]
  },
  {
   "cell_type": "code",
   "execution_count": 151,
   "metadata": {
    "pycharm": {}
   },
   "outputs": [],
   "source": [
    "# current balls and new balls dataframe\n",
    "curr_balls = df['Current']\n",
    "new_balls = df['New']"
   ]
  },
  {
   "cell_type": "markdown",
   "metadata": {
    "pycharm": {}
   },
   "source": [
    "### Q1. Provide descriptive statistical summaries of the data for each model."
   ]
  },
  {
   "cell_type": "markdown",
   "metadata": {
    "pycharm": {}
   },
   "source": [
    "#### Central Tendancy"
   ]
  },
  {
   "cell_type": "code",
   "execution_count": 152,
   "metadata": {
    "pycharm": {}
   },
   "outputs": [
    {
     "name": "stdout",
     "output_type": "stream",
     "text": [
      "Central tendency of current model:\n",
      "mean: 270.275\n",
      "median: 270.0\n",
      "mode: No unique mode\n",
      "harmonic mean: 270.00089450236504\n",
      "low median: 270\n",
      "high median: 270\n",
      "grouped median: 270.0\n"
     ]
    }
   ],
   "source": [
    "# Central tendency of the Current Model\n",
    "mode = 'No unique mode'\n",
    "try:\n",
    "    mode = stats.mode(curr_balls)\n",
    "except:\n",
    "    pass\n",
    "print('''Central tendency of current model:\\nmean: {}\\nmedian: {}\\nmode: {}\\nharmonic mean: {}\n",
    "low median: {}\\nhigh median: {}\\ngrouped median: {}'''.format(\n",
    "    stats.mean(curr_balls), stats.median(curr_balls), mode, stats.harmonic_mean(curr_balls),\n",
    "    stats.median_low(curr_balls), stats.median_high(curr_balls), stats.median_grouped(curr_balls)))"
   ]
  },
  {
   "cell_type": "code",
   "execution_count": 153,
   "metadata": {
    "pycharm": {}
   },
   "outputs": [
    {
     "name": "stdout",
     "output_type": "stream",
     "text": [
      "Central tendency of the new model:\n",
      "mean: 267.5\n",
      "median: 265.0\n",
      "mode: No unique mode\n",
      "harmonic mean: 267.1453401443853\n",
      "low median: 264\n",
      "high median: 266\n",
      "grouped median: 265.5\n"
     ]
    }
   ],
   "source": [
    "# Central tendency of the new model\n",
    "mode = 'No unique mode'\n",
    "try:\n",
    "    mode = stats.mode(new_balls)\n",
    "except:\n",
    "    pass\n",
    "print('''Central tendency of the new model:\\nmean: {}\\nmedian: {}\\nmode: {}\\nharmonic mean: {}\n",
    "low median: {}\\nhigh median: {}\\ngrouped median: {}'''.format(\n",
    "    stats.mean(new_balls), stats.median(new_balls), mode, stats.harmonic_mean(new_balls),\n",
    "    stats.median_low(new_balls), stats.median_high(new_balls), stats.median_grouped(new_balls)))"
   ]
  },
  {
   "cell_type": "markdown",
   "metadata": {
    "pycharm": {}
   },
   "source": [
    "#### Dispersion"
   ]
  },
  {
   "cell_type": "code",
   "execution_count": 154,
   "metadata": {
    "pycharm": {}
   },
   "outputs": [
    {
     "name": "stdout",
     "output_type": "stream",
     "text": [
      "Dispersion of the current model:\n",
      "variance: 76.61474358974358\n",
      "standard deviation: 8.752984838884595\n"
     ]
    }
   ],
   "source": [
    "# Dispersion of  the current model\n",
    "print('Dispersion of the current model:\\nvariance: {}\\nstandard deviation: {}'.format(\n",
    "    stats.variance(curr_balls), stats.stdev(curr_balls)))"
   ]
  },
  {
   "cell_type": "code",
   "execution_count": 155,
   "metadata": {
    "pycharm": {}
   },
   "outputs": [
    {
     "name": "stdout",
     "output_type": "stream",
     "text": [
      "Dispersion of the new model:\n",
      "variance: 97.94871794871794\n",
      "standard deviation: 9.896904462947894\n"
     ]
    }
   ],
   "source": [
    "# Dispersion of the new model\n",
    "print('Dispersion of the new model:\\nvariance: {}\\nstandard deviation: {}'.format(\n",
    "    stats.variance(new_balls), stats.stdev(new_balls)))"
   ]
  },
  {
   "cell_type": "markdown",
   "metadata": {
    "pycharm": {}
   },
   "source": [
    "## Visualization"
   ]
  },
  {
   "cell_type": "code",
   "execution_count": 156,
   "metadata": {
    "pycharm": {}
   },
   "outputs": [
    {
     "data": {
      "text/plain": [
       "<matplotlib.axes._subplots.AxesSubplot at 0x1c1c5461d0>"
      ]
     },
     "execution_count": 156,
     "metadata": {},
     "output_type": "execute_result"
    },
    {
     "data": {
      "image/png": "[encoded data removed]",
      "text/plain": [
       "<Figure size 1200x600 with 2 Axes>"
      ]
     },
     "metadata": {},
     "output_type": "display_data"
    }
   ],
   "source": [
    "# Check the dataset skewness and spread\n",
    "f, axes = plt.subplots(ncols=2, sharey=True, figsize=(12,6))\n",
    "sns.distplot(curr_balls, bins=10, ax=axes[0])\n",
    "sns.distplot(new_balls, bins=10, ax=axes[1])"
   ]
  },
  {
   "cell_type": "code",
   "execution_count": 157,
   "metadata": {
    "pycharm": {}
   },
   "outputs": [
    {
     "data": {
      "text/plain": [
       "<matplotlib.axes._subplots.AxesSubplot at 0x1c1c523470>"
      ]
     },
     "execution_count": 157,
     "metadata": {},
     "output_type": "execute_result"
    },
    {
     "data": {
      "image/png": "[encoded data removed]",
      "text/plain": [
       "<Figure size 1200x600 with 1 Axes>"
      ]
     },
     "metadata": {},
     "output_type": "display_data"
    }
   ],
   "source": [
    "# Check for central tendency - CURR_BALL VS NEW_BALL\n",
    "df.boxplot(figsize=(12,6))"
   ]
  },
  {
   "cell_type": "markdown",
   "metadata": {
    "pycharm": {}
   },
   "source": [
    "\n",
    "1. Looking at the above figures it is clear that both the new ball and current ball are almost normally distributed. New Ball data appears to be right skewed\n",
    "2. The samples of new ball have more scattered observations than the samples of current ball. This is proved by a greater standard deviation of new ball samples.\n",
    "3.  It is not evident from the boxplot to draw a concrete solution whether the two sample means are equal or different from each other.\n",
    "\n",
    "Conclusion: We will now apply inferential statistics."
   ]
  },
  {
   "cell_type": "markdown",
   "metadata": {},
   "source": [
    "\n",
    "## Q2. Formulate and present the rationale for a hypothesis test that Par could use to compare the driving distances of the current and new golf balls."
   ]
  },
  {
   "cell_type": "markdown",
   "metadata": {
    "pycharm": {}
   },
   "source": [
    "##### Normality Test"
   ]
  },
  {
   "cell_type": "markdown",
   "metadata": {
    "pycharm": {}
   },
   "source": [
    "###### 1) Histogram\n",
    "###### 2) Skewness and Kurtosis"
   ]
  },
  {
   "cell_type": "code",
   "execution_count": 158,
   "metadata": {
    "pycharm": {}
   },
   "outputs": [
    {
     "name": "stdout",
     "output_type": "stream",
     "text": [
      "Current ball has a \n",
      "Skewness of 0.29456628634379833 \n",
      "Kurtosis of -0.8168840741950509 (Fischer's coeff) \n",
      "Kurtosis of 2.183115925804949 (Pearson's coeff)\n",
      "\n",
      "\n",
      "New ball has a \n",
      "Skewness of 0.23072220761583526 \n",
      "Kurtosis of -0.59881719251117 (Fischer's coeff) \n",
      "Kurtosis of 2.40118280748883 (Pearson's coeff)\n"
     ]
    }
   ],
   "source": [
    "# Skewness and Kurtosis for New Ball and Current Ball\n",
    "print('Current ball has a \\nSkewness of {} \\nKurtosis of {} (Fischer\\'s coeff) \\nKurtosis of {} (Pearson\\'s coeff)'\n",
    "      .format(skew(curr_balls), kurtosis(curr_balls, fisher=True), kurtosis(curr_balls, fisher=False)))\n",
    "print('\\n')\n",
    "print('New ball has a \\nSkewness of {} \\nKurtosis of {} (Fischer\\'s coeff) \\nKurtosis of {} (Pearson\\'s coeff)'\n",
    "      .format(skew(new_balls), kurtosis(new_balls, fisher=True), kurtosis(new_balls, fisher=False)))"
   ]
  },
  {
   "cell_type": "markdown",
   "metadata": {},
   "source": [
    "\n",
    "#### Observation:\n",
    "The values for Skewness and Kurtosis are not indicating whether the samples are from a normal distribution or not."
   ]
  },
  {
   "cell_type": "markdown",
   "metadata": {
    "pycharm": {}
   },
   "source": [
    "#### 3) Q-Q Plot (Quantile-Quantile Plot)"
   ]
  },
  {
   "cell_type": "code",
   "execution_count": 159,
   "metadata": {
    "pycharm": {}
   },
   "outputs": [
    {
     "data": {
      "image/png": "[encoded data removed]",
      "text/plain": [
       "<Figure size 1200x600 with 2 Axes>"
      ]
     },
     "execution_count": 159,
     "metadata": {},
     "output_type": "execute_result"
    },
    {
     "data": {
      "image/png": "[encoded data removed]",
      "text/plain": [
       "<Figure size 1200x600 with 2 Axes>"
      ]
     },
     "metadata": {},
     "output_type": "display_data"
    }
   ],
   "source": [
    "f, ax = plt.subplots(1,2,figsize=(12,6))\n",
    "qqplot(curr_balls, line='s', ax=ax[0])\n",
    "qqplot(new_balls, line='s', ax=ax[1])"
   ]
  },
  {
   "cell_type": "markdown",
   "metadata": {
    "pycharm": {}
   },
   "source": [
    "##### Observation:\n",
    "The Q-Q Plot intends to visually represent that, both the samples follow the same distribution. They are roughly aligned along the red line which corresponds to a standard normal distribution."
   ]
  },
  {
   "cell_type": "markdown",
   "metadata": {},
   "source": []
  },
  {
   "cell_type": "markdown",
   "metadata": {
    "pycharm": {}
   },
   "source": [
    "##### 4) Shapiro-Wilk Test"
   ]
  },
  {
   "cell_type": "code",
   "execution_count": 160,
   "metadata": {
    "pycharm": {}
   },
   "outputs": [
    {
     "name": "stdout",
     "output_type": "stream",
     "text": [
      "w-statistics: 0.9707045555114746\n",
      "p-value: 0.37878310680389404\n"
     ]
    }
   ],
   "source": [
    "# Test stat for current ball sample\n",
    "w_stat, p_value = shapiro(curr_balls)\n",
    "print('w-statistics: {}\\np-value: {}'.format(w_stat, p_value))"
   ]
  },
  {
   "cell_type": "code",
   "execution_count": 161,
   "metadata": {
    "pycharm": {}
   },
   "outputs": [
    {
     "name": "stdout",
     "output_type": "stream",
     "text": [
      "w-statistics: 0.9678265452384949\n",
      "p-value: 0.3064688742160797\n"
     ]
    }
   ],
   "source": [
    "# Test stat for new ball sample\n",
    "w_stat, p_value = shapiro(new_balls)\n",
    "print('w-statistics: {}\\np-value: {}'.format(w_stat, p_value))"
   ]
  },
  {
   "cell_type": "markdown",
   "metadata": {
    "pycharm": {}
   },
   "source": [
    "##### Conclusion:\n",
    "Calculated w-statistics for both the samples tends to 1.\n",
    "Considering the significance level (α) of 0.05, the calculated p-value for both the samples is greater than α. Hence we fail to reject the null hypothesis ( H0) which says both the samples are drawn from a Normal Population."
   ]
  },
  {
   "cell_type": "markdown",
   "metadata": {
    "pycharm": {}
   },
   "source": [
    "#### Test of Homogenity\n",
    "\n",
    "\n",
    "Test of Homogenity of variance is conducted to determine if two samples have equal variances or not."
   ]
  },
  {
   "cell_type": "markdown",
   "metadata": {
    "pycharm": {}
   },
   "source": [
    "###### 1) Levene Test"
   ]
  },
  {
   "cell_type": "code",
   "execution_count": 162,
   "metadata": {
    "pycharm": {}
   },
   "outputs": [
    {
     "data": {
      "text/plain": [
       "LeveneResult(statistic=0.2553238291765741, pvalue=0.6147759523331309)"
      ]
     },
     "execution_count": 162,
     "metadata": {},
     "output_type": "execute_result"
    }
   ],
   "source": [
    "levene(curr_balls, new_balls)"
   ]
  },
  {
   "cell_type": "markdown",
   "metadata": {
    "pycharm": {}
   },
   "source": [
    "#### Observation:\n",
    "Considering the significance level (α) of 0.05, the calculated p-value for this test is greater than α. Hence we fail to reject null hypothesis (H0) which says Both the samples are homogenous in variances."
   ]
  },
  {
   "cell_type": "markdown",
   "metadata": {
    "pycharm": {}
   },
   "source": [
    "##### Note:\n",
    "From the above tests of Normality and Homogenity, we conclude the original population is parametric and as we have two independent samples with us, we go ahead and apply Two Sample parametric T-Test"
   ]
  },
  {
   "cell_type": "markdown",
   "metadata": {
    "pycharm": {}
   },
   "source": [
    "### Two Sample Test"
   ]
  },
  {
   "cell_type": "markdown",
   "metadata": {
    "pycharm": {}
   },
   "source": [
    "##### 1) Student's T-Test\n"
   ]
  },
  {
   "cell_type": "code",
   "execution_count": 163,
   "metadata": {
    "pycharm": {}
   },
   "outputs": [
    {
     "data": {
      "text/plain": [
       "Ttest_indResult(statistic=1.3283615935245678, pvalue=0.18793228491854663)"
      ]
     },
     "execution_count": 163,
     "metadata": {},
     "output_type": "execute_result"
    }
   ],
   "source": [
    "ttest_ind(curr_balls, new_balls)"
   ]
  },
  {
   "cell_type": "markdown",
   "metadata": {
    "pycharm": {}
   },
   "source": [
    "##### Critical value\n",
    "Considering significance level of 0.05, let's calculate the t-critical - the boundary between the Power and Significance level of the test."
   ]
  },
  {
   "cell_type": "code",
   "execution_count": 164,
   "metadata": {
    "pycharm": {}
   },
   "outputs": [
    {
     "data": {
      "text/plain": [
       "1.6646246444385238"
      ]
     },
     "execution_count": 164,
     "metadata": {},
     "output_type": "execute_result"
    }
   ],
   "source": [
    "alpha = 0.05\n",
    "df = len(curr_balls) + len(new_balls) - 2 # Degrees of freedom\n",
    "t.ppf(1 - alpha, df)"
   ]
  },
  {
   "cell_type": "markdown",
   "metadata": {
    "pycharm": {}
   },
   "source": [
    "### Q3. Analyse the data to provide the hypothesis testing conclusion. What is the p-value for your test? What is your recommendation for Par Inc.?"
   ]
  },
  {
   "cell_type": "markdown",
   "metadata": {
    "pycharm": {}
   },
   "source": [
    "##### Observation"
   ]
  },
  {
   "cell_type": "markdown",
   "metadata": {
    "pycharm": {}
   },
   "source": [
    "1. The critical value of t test found out to be 1.665. But as our t-statistics value is less than t-critical, we are falling under the acceptance region of Null hypothesis ( H0 )\n",
    "2. The calculated p-value (0.188) for this test is greater than  α . Hence we fail to reject the null hypothesis ( H0 ) which says Both the population means are equal. i.e. there is no significant statistical evidence that the new cut-resistance ball has any impact on the driving distance as compared to the current ball.\n",
    "3. Based of 2 sample t-test , I would recommend PAR INC to go ahead with production of new ball. However, we have to do the **Power Of Test** to conclude our observations."
   ]
  },
  {
   "cell_type": "markdown",
   "metadata": {
    "pycharm": {}
   },
   "source": [
    "\n",
    "Exploring confidence interval, Power of the test ($1-\\beta$), Power analysis, whether we require a larger sample etc"
   ]
  },
  {
   "cell_type": "markdown",
   "metadata": {
    "pycharm": {}
   },
   "source": [
    "### Q4. What is the 95% confidence interval for the population mean of each model. And what is the 95% confidence interval for the difference between the means of the two population?"
   ]
  },
  {
   "cell_type": "code",
   "execution_count": 165,
   "metadata": {
    "pycharm": {}
   },
   "outputs": [
    {
     "data": {
      "text/plain": [
       "(270.1882157995571, 270.36178420044286)"
      ]
     },
     "execution_count": 165,
     "metadata": {},
     "output_type": "execute_result"
    }
   ],
   "source": [
    "# CI for current ball mean\n",
    "mu, sigma = curr_balls.mean(), curr_balls.std()\n",
    "scale = sigma/np.sqrt(len(curr_balls))\n",
    "norm.interval(alpha=0.05, loc=mu, scale=scale)"
   ]
  },
  {
   "cell_type": "code",
   "execution_count": 166,
   "metadata": {
    "pycharm": {}
   },
   "outputs": [
    {
     "data": {
      "text/plain": [
       "(267.40187405136805, 267.59812594863195)"
      ]
     },
     "execution_count": 166,
     "metadata": {},
     "output_type": "execute_result"
    }
   ],
   "source": [
    "# CI for new ball mean\n",
    "mu, sigma = new_balls.mean(), new_balls.std()\n",
    "scale = sigma/np.sqrt(len(new_balls))\n",
    "norm.interval(alpha=0.05, loc=mu, scale=scale)"
   ]
  },
  {
   "cell_type": "markdown",
   "metadata": {
    "pycharm": {}
   },
   "source": [
    "We are 95% confident that the average driving distance of the current ball population varies between 270.19 to 270.36\n",
    "We are 95% confident that the average driving distance of the new ball population varies between 267.4 to 267.6"
   ]
  },
  {
   "cell_type": "markdown",
   "metadata": {
    "pycharm": {}
   },
   "source": [
    "### 95% CI for difference in two population mean"
   ]
  },
  {
   "cell_type": "code",
   "execution_count": 167,
   "metadata": {
    "pycharm": {}
   },
   "outputs": [
    {
     "name": "stdout",
     "output_type": "stream",
     "text": [
      "Point Estimate: 2.7749999999999773\n",
      "Confidence Interval: (-1.3839584057317742, 6.933958405731729)\n"
     ]
    }
   ],
   "source": [
    "point_estimate = curr_balls.mean() - new_balls.mean()\n",
    "cm = CompareMeans(DescrStatsW(curr_balls), DescrStatsW(new_balls))\n",
    "ci = cm.tconfint_diff(alpha=0.05, usevar='pooled')\n",
    "print('Point Estimate: {}\\nConfidence Interval: {}'.format(point_estimate, ci))"
   ]
  },
  {
   "cell_type": "markdown",
   "metadata": {
    "pycharm": {}
   },
   "source": [
    "###### Observation:\n",
    "The difference in the two population mean lies in between -1.38 to 6.93 with 95% confindence level. In the context of the problem, we are 95% confident that the average distance travelled for current ball is -1.38 to 6.93 yards more than the new ball."
   ]
  },
  {
   "cell_type": "markdown",
   "metadata": {
    "pycharm": {}
   },
   "source": [
    "### Q5. Do you see a need for larger sample sizes and more testing with the golf balls? "
   ]
  },
  {
   "cell_type": "markdown",
   "metadata": {
    "pycharm": {}
   },
   "source": [
    "#### Power of the test ( 1−β )"
   ]
  },
  {
   "cell_type": "code",
   "execution_count": 168,
   "metadata": {
    "pycharm": {}
   },
   "outputs": [
    {
     "name": "stdout",
     "output_type": "stream",
     "text": [
      "Pooled standard deviaton: 9.342469200871404\n",
      "delta: 0.2970306821820877\n"
     ]
    }
   ],
   "source": [
    "x1_bar = np.mean(curr_balls)\n",
    "x2_bar = np.mean(new_balls)\n",
    "n1 = curr_balls.count()\n",
    "n2 = new_balls.count()\n",
    "s1_sq = curr_balls.var()\n",
    "s2_sq = new_balls.var()\n",
    "s_pooled = np.sqrt(((n1-1)*s1_sq + (n2-1)*s2_sq) / ((n1-1)+(n2-1)))\n",
    "delta = (x1_bar - x2_bar) / s_pooled\n",
    "print('Pooled standard deviaton: {}\\ndelta: {}'.format(s_pooled, delta))"
   ]
  },
  {
   "cell_type": "code",
   "execution_count": 169,
   "metadata": {
    "pycharm": {}
   },
   "outputs": [
    {
     "data": {
      "text/plain": [
       "0.4492741885390427"
      ]
     },
     "execution_count": 169,
     "metadata": {},
     "output_type": "execute_result"
    }
   ],
   "source": [
    "ttest_power(delta, nobs=n1, alpha=0.05, alternative=\"two-sided\")"
   ]
  },
  {
   "cell_type": "markdown",
   "metadata": {
    "pycharm": {}
   },
   "source": [
    "The power of the test ( 1−β ) denotes that there is 44.9% probability we rejecting the null hypothesis while the null hypothesis is also false. It is too low as we actually accepted the Null Hypothesis saying there is no significant difference between the two sample means."
   ]
  },
  {
   "cell_type": "markdown",
   "metadata": {
    "pycharm": {}
   },
   "source": [
    "#### Power Analysis"
   ]
  },
  {
   "cell_type": "markdown",
   "metadata": {
    "pycharm": {}
   },
   "source": [
    "Power analysis to determine the required sample size to achieve atleast 80% power of the test."
   ]
  },
  {
   "cell_type": "code",
   "execution_count": 170,
   "metadata": {
    "pycharm": {}
   },
   "outputs": [
    {
     "name": "stdout",
     "output_type": "stream",
     "text": [
      "Required sample size: 179.0\n"
     ]
    }
   ],
   "source": [
    "# Parameter for power analysis\n",
    "alpha = 0.05\n",
    "power = 0.8\n",
    "# Perform Power analysis\n",
    "analysis = TTestIndPower()\n",
    "result = analysis.solve_power(effect_size=delta, alpha=alpha, power=power)\n",
    "print('Required sample size:', np.ceil(result))"
   ]
  },
  {
   "cell_type": "markdown",
   "metadata": {
    "pycharm": {}
   },
   "source": [
    "Observation: In order to achieve 80% power of the test, we require a sample size of minimum 179."
   ]
  },
  {
   "cell_type": "markdown",
   "metadata": {
    "pycharm": {}
   },
   "source": [
    "### Hypothesis testing check list\n",
    "Let's look at the checklist for Hypothesis testing\n",
    "\n",
    "| Steps | Description |\n",
    "| ------ | ----------- |\n",
    "| Type of test | **Mean** / ~~Propertion~~ / ~~Variance~~ |\n",
    "| Sample | ~~One~~ / **Two** |\n",
    "| Null Hypothesis<br/>($H_{0}$) | $\\mu_{1}=\\mu_{2}$ (**The two population means are equal**) |\n",
    "| Alternate Hypothesis<br/>($H_{a}$) | $\\mu_{1}\\neq\\mu_{2}$ (**The two population means are not equal**) |\n",
    "| Tails | ~~Left~~ / ~~Right~~ / **Both** |\n",
    "| Level of Significance<br/>($\\alpha$) | **0.05** |\n",
    "| Statistical Test | ~~Z~~ / **T** / ~~Chi-Square~~ / ~~F~~ |\n",
    "| Test Statistics | t-statistics = **1.328**, p-value = **0.188** |\n",
    "| Critical Value | t-critical = **1.665** |\n",
    "| Confidence Level | **95%** |\n",
    "| Confidence Interval | Avg. driving distance: Current ball: (**270.19**, **270.36**), New ball: (**267.4**, **267.6**), Difference in mean of two types of balls: (**-1.38**, **6.93**) |\n",
    "| Acceptance / Rejection | **Failed to reject the null hypothesis ($H_{0}$)** |\n",
    "| Inference | There is **no statistical evidence that the two types of balls differ from each other in terms of average distance travelled in yards** with the provided sample size. However to obtain 80% power of the test **we require 179 or above sample size** from Par Inc. |"
   ]
  },
  {
   "cell_type": "code",
   "execution_count": null,
   "metadata": {
    "pycharm": {}
   },
   "outputs": [],
   "source": []
  }
 ],
 "metadata": {
  "kernelspec": {
   "display_name": "Python 3",
   "language": "python",
   "name": "python3"
  },
  "language_info": {
   "codemirror_mode": {
    "name": "ipython",
    "version": 3
   },
   "file_extension": ".py",
   "mimetype": "text/x-python",
   "name": "python",
   "nbconvert_exporter": "python",
   "pygments_lexer": "ipython3",
   "version": "3.7.3"
  },
  "stem_cell": {
   "cell_type": "raw",
   "metadata": {
    "pycharm": {
     "metadata": false
    }
   },
   "source": ""
  }
 },
 "nbformat": 4,
 "nbformat_minor": 1
}
